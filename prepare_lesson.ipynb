{
 "cells": [
  {
   "cell_type": "markdown",
   "id": "00a6e7ff",
   "metadata": {},
   "source": [
    "# Preparing Time Series Data"
   ]
  },
  {
   "cell_type": "markdown",
   "id": "9846e041",
   "metadata": {},
   "source": [
    "What is it?\n",
    "- how we prepare the data specifically for time series data\n",
    "- like most preparation processes, but with the addition of dates!\n",
    "\n",
    "Why do we care?\n",
    "- we want to ensure that pandas is properly aware of dates, so we can investigate trends over time"
   ]
  },
  {
   "cell_type": "code",
   "execution_count": 1,
   "id": "025d1adc",
   "metadata": {},
   "outputs": [],
   "source": [
    "import pandas as pd\n",
    "import numpy as np\n",
    "\n",
    "import matplotlib.pyplot as plt\n",
    "import seaborn as sns\n",
    "\n",
    "import acquire"
   ]
  },
  {
   "cell_type": "markdown",
   "id": "4bc76495",
   "metadata": {},
   "source": [
    "Scenario: Working with store data to predict the sale_amount"
   ]
  },
  {
   "cell_type": "markdown",
   "id": "d082f330",
   "metadata": {},
   "source": [
    "## Acquire"
   ]
  },
  {
   "cell_type": "code",
   "execution_count": 2,
   "id": "1512c064",
   "metadata": {},
   "outputs": [],
   "source": [
    "#load my csv\n",
    "df = acquire.get_store_data()"
   ]
  },
  {
   "cell_type": "code",
   "execution_count": 3,
   "id": "cb330428-6c0b-41ac-aae3-1c5dd64a4908",
   "metadata": {},
   "outputs": [
    {
     "data": {
      "text/html": [
       "<div>\n",
       "<style scoped>\n",
       "    .dataframe tbody tr th:only-of-type {\n",
       "        vertical-align: middle;\n",
       "    }\n",
       "\n",
       "    .dataframe tbody tr th {\n",
       "        vertical-align: top;\n",
       "    }\n",
       "\n",
       "    .dataframe thead th {\n",
       "        text-align: right;\n",
       "    }\n",
       "</style>\n",
       "<table border=\"1\" class=\"dataframe\">\n",
       "  <thead>\n",
       "    <tr style=\"text-align: right;\">\n",
       "      <th></th>\n",
       "      <th>store_id</th>\n",
       "      <th>item_id</th>\n",
       "      <th>sale_id</th>\n",
       "      <th>sale_date</th>\n",
       "      <th>sale_amount</th>\n",
       "      <th>item_upc14</th>\n",
       "      <th>item_upc12</th>\n",
       "      <th>item_brand</th>\n",
       "      <th>item_name</th>\n",
       "      <th>item_price</th>\n",
       "      <th>store_address</th>\n",
       "      <th>store_zipcode</th>\n",
       "      <th>store_city</th>\n",
       "      <th>store_state</th>\n",
       "    </tr>\n",
       "  </thead>\n",
       "  <tbody>\n",
       "    <tr>\n",
       "      <th>0</th>\n",
       "      <td>1</td>\n",
       "      <td>1</td>\n",
       "      <td>1</td>\n",
       "      <td>2013-01-01</td>\n",
       "      <td>13</td>\n",
       "      <td>35200264013</td>\n",
       "      <td>35200264013</td>\n",
       "      <td>Riceland</td>\n",
       "      <td>Riceland American Jazmine Rice</td>\n",
       "      <td>0.84</td>\n",
       "      <td>12125 Alamo Ranch Pkwy</td>\n",
       "      <td>78253</td>\n",
       "      <td>San Antonio</td>\n",
       "      <td>TX</td>\n",
       "    </tr>\n",
       "    <tr>\n",
       "      <th>1</th>\n",
       "      <td>1</td>\n",
       "      <td>1</td>\n",
       "      <td>2</td>\n",
       "      <td>2013-01-02</td>\n",
       "      <td>11</td>\n",
       "      <td>35200264013</td>\n",
       "      <td>35200264013</td>\n",
       "      <td>Riceland</td>\n",
       "      <td>Riceland American Jazmine Rice</td>\n",
       "      <td>0.84</td>\n",
       "      <td>12125 Alamo Ranch Pkwy</td>\n",
       "      <td>78253</td>\n",
       "      <td>San Antonio</td>\n",
       "      <td>TX</td>\n",
       "    </tr>\n",
       "    <tr>\n",
       "      <th>2</th>\n",
       "      <td>1</td>\n",
       "      <td>1</td>\n",
       "      <td>3</td>\n",
       "      <td>2013-01-03</td>\n",
       "      <td>14</td>\n",
       "      <td>35200264013</td>\n",
       "      <td>35200264013</td>\n",
       "      <td>Riceland</td>\n",
       "      <td>Riceland American Jazmine Rice</td>\n",
       "      <td>0.84</td>\n",
       "      <td>12125 Alamo Ranch Pkwy</td>\n",
       "      <td>78253</td>\n",
       "      <td>San Antonio</td>\n",
       "      <td>TX</td>\n",
       "    </tr>\n",
       "    <tr>\n",
       "      <th>3</th>\n",
       "      <td>1</td>\n",
       "      <td>1</td>\n",
       "      <td>4</td>\n",
       "      <td>2013-01-04</td>\n",
       "      <td>13</td>\n",
       "      <td>35200264013</td>\n",
       "      <td>35200264013</td>\n",
       "      <td>Riceland</td>\n",
       "      <td>Riceland American Jazmine Rice</td>\n",
       "      <td>0.84</td>\n",
       "      <td>12125 Alamo Ranch Pkwy</td>\n",
       "      <td>78253</td>\n",
       "      <td>San Antonio</td>\n",
       "      <td>TX</td>\n",
       "    </tr>\n",
       "    <tr>\n",
       "      <th>4</th>\n",
       "      <td>1</td>\n",
       "      <td>1</td>\n",
       "      <td>5</td>\n",
       "      <td>2013-01-05</td>\n",
       "      <td>10</td>\n",
       "      <td>35200264013</td>\n",
       "      <td>35200264013</td>\n",
       "      <td>Riceland</td>\n",
       "      <td>Riceland American Jazmine Rice</td>\n",
       "      <td>0.84</td>\n",
       "      <td>12125 Alamo Ranch Pkwy</td>\n",
       "      <td>78253</td>\n",
       "      <td>San Antonio</td>\n",
       "      <td>TX</td>\n",
       "    </tr>\n",
       "  </tbody>\n",
       "</table>\n",
       "</div>"
      ],
      "text/plain": [
       "   store_id  item_id  sale_id   sale_date  sale_amount   item_upc14  \\\n",
       "0         1        1        1  2013-01-01           13  35200264013   \n",
       "1         1        1        2  2013-01-02           11  35200264013   \n",
       "2         1        1        3  2013-01-03           14  35200264013   \n",
       "3         1        1        4  2013-01-04           13  35200264013   \n",
       "4         1        1        5  2013-01-05           10  35200264013   \n",
       "\n",
       "    item_upc12 item_brand                       item_name  item_price  \\\n",
       "0  35200264013   Riceland  Riceland American Jazmine Rice        0.84   \n",
       "1  35200264013   Riceland  Riceland American Jazmine Rice        0.84   \n",
       "2  35200264013   Riceland  Riceland American Jazmine Rice        0.84   \n",
       "3  35200264013   Riceland  Riceland American Jazmine Rice        0.84   \n",
       "4  35200264013   Riceland  Riceland American Jazmine Rice        0.84   \n",
       "\n",
       "            store_address  store_zipcode   store_city store_state  \n",
       "0  12125 Alamo Ranch Pkwy          78253  San Antonio          TX  \n",
       "1  12125 Alamo Ranch Pkwy          78253  San Antonio          TX  \n",
       "2  12125 Alamo Ranch Pkwy          78253  San Antonio          TX  \n",
       "3  12125 Alamo Ranch Pkwy          78253  San Antonio          TX  \n",
       "4  12125 Alamo Ranch Pkwy          78253  San Antonio          TX  "
      ]
     },
     "execution_count": 3,
     "metadata": {},
     "output_type": "execute_result"
    }
   ],
   "source": [
    "df.head()"
   ]
  },
  {
   "cell_type": "code",
   "execution_count": 4,
   "id": "407e12c0-17e0-40bf-a599-e0d624db535d",
   "metadata": {},
   "outputs": [
    {
     "name": "stdout",
     "output_type": "stream",
     "text": [
      "<class 'pandas.core.frame.DataFrame'>\n",
      "RangeIndex: 913000 entries, 0 to 912999\n",
      "Data columns (total 14 columns):\n",
      " #   Column         Non-Null Count   Dtype  \n",
      "---  ------         --------------   -----  \n",
      " 0   store_id       913000 non-null  int64  \n",
      " 1   item_id        913000 non-null  int64  \n",
      " 2   sale_id        913000 non-null  int64  \n",
      " 3   sale_date      913000 non-null  object \n",
      " 4   sale_amount    913000 non-null  int64  \n",
      " 5   item_upc14     913000 non-null  int64  \n",
      " 6   item_upc12     913000 non-null  int64  \n",
      " 7   item_brand     913000 non-null  object \n",
      " 8   item_name      913000 non-null  object \n",
      " 9   item_price     913000 non-null  float64\n",
      " 10  store_address  913000 non-null  object \n",
      " 11  store_zipcode  913000 non-null  int64  \n",
      " 12  store_city     913000 non-null  object \n",
      " 13  store_state    913000 non-null  object \n",
      "dtypes: float64(1), int64(7), object(6)\n",
      "memory usage: 97.5+ MB\n"
     ]
    }
   ],
   "source": [
    "df.info()"
   ]
  },
  {
   "cell_type": "code",
   "execution_count": 5,
   "id": "b4fa920d-8c80-4689-9da1-9a3eb305e1a3",
   "metadata": {},
   "outputs": [
    {
     "data": {
      "text/plain": [
       "store_id         0\n",
       "item_id          0\n",
       "sale_id          0\n",
       "sale_date        0\n",
       "sale_amount      0\n",
       "item_upc14       0\n",
       "item_upc12       0\n",
       "item_brand       0\n",
       "item_name        0\n",
       "item_price       0\n",
       "store_address    0\n",
       "store_zipcode    0\n",
       "store_city       0\n",
       "store_state      0\n",
       "dtype: int64"
      ]
     },
     "execution_count": 5,
     "metadata": {},
     "output_type": "execute_result"
    }
   ],
   "source": [
    "df.isnull().sum()"
   ]
  },
  {
   "cell_type": "code",
   "execution_count": 6,
   "id": "904b3161-9ba9-45df-b058-86bb1e8a7182",
   "metadata": {},
   "outputs": [
    {
     "data": {
      "text/plain": [
       "(913000, 14)"
      ]
     },
     "execution_count": 6,
     "metadata": {},
     "output_type": "execute_result"
    }
   ],
   "source": [
    "df.shape"
   ]
  },
  {
   "cell_type": "code",
   "execution_count": 7,
   "id": "14a34326-859a-41bb-a57a-a462bc083bb8",
   "metadata": {},
   "outputs": [
    {
     "data": {
      "text/html": [
       "<div>\n",
       "<style scoped>\n",
       "    .dataframe tbody tr th:only-of-type {\n",
       "        vertical-align: middle;\n",
       "    }\n",
       "\n",
       "    .dataframe tbody tr th {\n",
       "        vertical-align: top;\n",
       "    }\n",
       "\n",
       "    .dataframe thead th {\n",
       "        text-align: right;\n",
       "    }\n",
       "</style>\n",
       "<table border=\"1\" class=\"dataframe\">\n",
       "  <thead>\n",
       "    <tr style=\"text-align: right;\">\n",
       "      <th></th>\n",
       "      <th>store_id</th>\n",
       "      <th>item_id</th>\n",
       "      <th>sale_id</th>\n",
       "      <th>sale_amount</th>\n",
       "      <th>item_upc14</th>\n",
       "      <th>item_upc12</th>\n",
       "      <th>item_price</th>\n",
       "      <th>store_zipcode</th>\n",
       "    </tr>\n",
       "  </thead>\n",
       "  <tbody>\n",
       "    <tr>\n",
       "      <th>count</th>\n",
       "      <td>913000.000000</td>\n",
       "      <td>913000.000000</td>\n",
       "      <td>913000.000000</td>\n",
       "      <td>913000.000000</td>\n",
       "      <td>9.130000e+05</td>\n",
       "      <td>9.130000e+05</td>\n",
       "      <td>913000.000000</td>\n",
       "      <td>913000.000000</td>\n",
       "    </tr>\n",
       "    <tr>\n",
       "      <th>mean</th>\n",
       "      <td>5.500000</td>\n",
       "      <td>25.500000</td>\n",
       "      <td>456500.500000</td>\n",
       "      <td>52.250287</td>\n",
       "      <td>2.384688e+11</td>\n",
       "      <td>2.384688e+11</td>\n",
       "      <td>5.160400</td>\n",
       "      <td>78224.800000</td>\n",
       "    </tr>\n",
       "    <tr>\n",
       "      <th>std</th>\n",
       "      <td>2.872283</td>\n",
       "      <td>14.430878</td>\n",
       "      <td>263560.542224</td>\n",
       "      <td>28.801144</td>\n",
       "      <td>2.978005e+11</td>\n",
       "      <td>2.978005e+11</td>\n",
       "      <td>2.737764</td>\n",
       "      <td>16.479087</td>\n",
       "    </tr>\n",
       "    <tr>\n",
       "      <th>min</th>\n",
       "      <td>1.000000</td>\n",
       "      <td>1.000000</td>\n",
       "      <td>1.000000</td>\n",
       "      <td>0.000000</td>\n",
       "      <td>8.500005e+09</td>\n",
       "      <td>8.500005e+09</td>\n",
       "      <td>0.600000</td>\n",
       "      <td>78201.000000</td>\n",
       "    </tr>\n",
       "    <tr>\n",
       "      <th>25%</th>\n",
       "      <td>3.000000</td>\n",
       "      <td>13.000000</td>\n",
       "      <td>228250.750000</td>\n",
       "      <td>30.000000</td>\n",
       "      <td>3.367410e+10</td>\n",
       "      <td>3.367410e+10</td>\n",
       "      <td>2.970000</td>\n",
       "      <td>78217.000000</td>\n",
       "    </tr>\n",
       "    <tr>\n",
       "      <th>50%</th>\n",
       "      <td>5.500000</td>\n",
       "      <td>25.500000</td>\n",
       "      <td>456500.500000</td>\n",
       "      <td>47.000000</td>\n",
       "      <td>7.103651e+10</td>\n",
       "      <td>7.103651e+10</td>\n",
       "      <td>5.195000</td>\n",
       "      <td>78220.500000</td>\n",
       "    </tr>\n",
       "    <tr>\n",
       "      <th>75%</th>\n",
       "      <td>8.000000</td>\n",
       "      <td>38.000000</td>\n",
       "      <td>684750.250000</td>\n",
       "      <td>70.000000</td>\n",
       "      <td>6.030842e+11</td>\n",
       "      <td>6.030842e+11</td>\n",
       "      <td>7.520000</td>\n",
       "      <td>78232.000000</td>\n",
       "    </tr>\n",
       "    <tr>\n",
       "      <th>max</th>\n",
       "      <td>10.000000</td>\n",
       "      <td>50.000000</td>\n",
       "      <td>913000.000000</td>\n",
       "      <td>231.000000</td>\n",
       "      <td>8.846237e+11</td>\n",
       "      <td>8.846237e+11</td>\n",
       "      <td>9.640000</td>\n",
       "      <td>78253.000000</td>\n",
       "    </tr>\n",
       "  </tbody>\n",
       "</table>\n",
       "</div>"
      ],
      "text/plain": [
       "            store_id        item_id        sale_id    sale_amount  \\\n",
       "count  913000.000000  913000.000000  913000.000000  913000.000000   \n",
       "mean        5.500000      25.500000  456500.500000      52.250287   \n",
       "std         2.872283      14.430878  263560.542224      28.801144   \n",
       "min         1.000000       1.000000       1.000000       0.000000   \n",
       "25%         3.000000      13.000000  228250.750000      30.000000   \n",
       "50%         5.500000      25.500000  456500.500000      47.000000   \n",
       "75%         8.000000      38.000000  684750.250000      70.000000   \n",
       "max        10.000000      50.000000  913000.000000     231.000000   \n",
       "\n",
       "         item_upc14    item_upc12     item_price  store_zipcode  \n",
       "count  9.130000e+05  9.130000e+05  913000.000000  913000.000000  \n",
       "mean   2.384688e+11  2.384688e+11       5.160400   78224.800000  \n",
       "std    2.978005e+11  2.978005e+11       2.737764      16.479087  \n",
       "min    8.500005e+09  8.500005e+09       0.600000   78201.000000  \n",
       "25%    3.367410e+10  3.367410e+10       2.970000   78217.000000  \n",
       "50%    7.103651e+10  7.103651e+10       5.195000   78220.500000  \n",
       "75%    6.030842e+11  6.030842e+11       7.520000   78232.000000  \n",
       "max    8.846237e+11  8.846237e+11       9.640000   78253.000000  "
      ]
     },
     "execution_count": 7,
     "metadata": {},
     "output_type": "execute_result"
    }
   ],
   "source": [
    "df.describe()"
   ]
  },
  {
   "cell_type": "code",
   "execution_count": 8,
   "id": "9e73a34f-dcdf-4bfd-93ba-531649bc4840",
   "metadata": {},
   "outputs": [
    {
     "data": {
      "text/html": [
       "<div>\n",
       "<style scoped>\n",
       "    .dataframe tbody tr th:only-of-type {\n",
       "        vertical-align: middle;\n",
       "    }\n",
       "\n",
       "    .dataframe tbody tr th {\n",
       "        vertical-align: top;\n",
       "    }\n",
       "\n",
       "    .dataframe thead th {\n",
       "        text-align: right;\n",
       "    }\n",
       "</style>\n",
       "<table border=\"1\" class=\"dataframe\">\n",
       "  <thead>\n",
       "    <tr style=\"text-align: right;\">\n",
       "      <th></th>\n",
       "      <th>store_id</th>\n",
       "      <th>item_id</th>\n",
       "      <th>sale_id</th>\n",
       "      <th>sale_date</th>\n",
       "      <th>sale_amount</th>\n",
       "      <th>item_upc14</th>\n",
       "      <th>item_upc12</th>\n",
       "      <th>item_brand</th>\n",
       "      <th>item_name</th>\n",
       "      <th>item_price</th>\n",
       "      <th>store_address</th>\n",
       "      <th>store_zipcode</th>\n",
       "      <th>store_city</th>\n",
       "      <th>store_state</th>\n",
       "    </tr>\n",
       "  </thead>\n",
       "  <tbody>\n",
       "    <tr>\n",
       "      <th>0</th>\n",
       "      <td>1</td>\n",
       "      <td>1</td>\n",
       "      <td>1</td>\n",
       "      <td>2013-01-01</td>\n",
       "      <td>13</td>\n",
       "      <td>35200264013</td>\n",
       "      <td>35200264013</td>\n",
       "      <td>Riceland</td>\n",
       "      <td>Riceland American Jazmine Rice</td>\n",
       "      <td>0.84</td>\n",
       "      <td>12125 Alamo Ranch Pkwy</td>\n",
       "      <td>78253</td>\n",
       "      <td>San Antonio</td>\n",
       "      <td>TX</td>\n",
       "    </tr>\n",
       "    <tr>\n",
       "      <th>1</th>\n",
       "      <td>1</td>\n",
       "      <td>1</td>\n",
       "      <td>2</td>\n",
       "      <td>2013-01-02</td>\n",
       "      <td>11</td>\n",
       "      <td>35200264013</td>\n",
       "      <td>35200264013</td>\n",
       "      <td>Riceland</td>\n",
       "      <td>Riceland American Jazmine Rice</td>\n",
       "      <td>0.84</td>\n",
       "      <td>12125 Alamo Ranch Pkwy</td>\n",
       "      <td>78253</td>\n",
       "      <td>San Antonio</td>\n",
       "      <td>TX</td>\n",
       "    </tr>\n",
       "    <tr>\n",
       "      <th>2</th>\n",
       "      <td>1</td>\n",
       "      <td>1</td>\n",
       "      <td>3</td>\n",
       "      <td>2013-01-03</td>\n",
       "      <td>14</td>\n",
       "      <td>35200264013</td>\n",
       "      <td>35200264013</td>\n",
       "      <td>Riceland</td>\n",
       "      <td>Riceland American Jazmine Rice</td>\n",
       "      <td>0.84</td>\n",
       "      <td>12125 Alamo Ranch Pkwy</td>\n",
       "      <td>78253</td>\n",
       "      <td>San Antonio</td>\n",
       "      <td>TX</td>\n",
       "    </tr>\n",
       "    <tr>\n",
       "      <th>3</th>\n",
       "      <td>1</td>\n",
       "      <td>1</td>\n",
       "      <td>4</td>\n",
       "      <td>2013-01-04</td>\n",
       "      <td>13</td>\n",
       "      <td>35200264013</td>\n",
       "      <td>35200264013</td>\n",
       "      <td>Riceland</td>\n",
       "      <td>Riceland American Jazmine Rice</td>\n",
       "      <td>0.84</td>\n",
       "      <td>12125 Alamo Ranch Pkwy</td>\n",
       "      <td>78253</td>\n",
       "      <td>San Antonio</td>\n",
       "      <td>TX</td>\n",
       "    </tr>\n",
       "    <tr>\n",
       "      <th>4</th>\n",
       "      <td>1</td>\n",
       "      <td>1</td>\n",
       "      <td>5</td>\n",
       "      <td>2013-01-05</td>\n",
       "      <td>10</td>\n",
       "      <td>35200264013</td>\n",
       "      <td>35200264013</td>\n",
       "      <td>Riceland</td>\n",
       "      <td>Riceland American Jazmine Rice</td>\n",
       "      <td>0.84</td>\n",
       "      <td>12125 Alamo Ranch Pkwy</td>\n",
       "      <td>78253</td>\n",
       "      <td>San Antonio</td>\n",
       "      <td>TX</td>\n",
       "    </tr>\n",
       "  </tbody>\n",
       "</table>\n",
       "</div>"
      ],
      "text/plain": [
       "   store_id  item_id  sale_id   sale_date  sale_amount   item_upc14  \\\n",
       "0         1        1        1  2013-01-01           13  35200264013   \n",
       "1         1        1        2  2013-01-02           11  35200264013   \n",
       "2         1        1        3  2013-01-03           14  35200264013   \n",
       "3         1        1        4  2013-01-04           13  35200264013   \n",
       "4         1        1        5  2013-01-05           10  35200264013   \n",
       "\n",
       "    item_upc12 item_brand                       item_name  item_price  \\\n",
       "0  35200264013   Riceland  Riceland American Jazmine Rice        0.84   \n",
       "1  35200264013   Riceland  Riceland American Jazmine Rice        0.84   \n",
       "2  35200264013   Riceland  Riceland American Jazmine Rice        0.84   \n",
       "3  35200264013   Riceland  Riceland American Jazmine Rice        0.84   \n",
       "4  35200264013   Riceland  Riceland American Jazmine Rice        0.84   \n",
       "\n",
       "            store_address  store_zipcode   store_city store_state  \n",
       "0  12125 Alamo Ranch Pkwy          78253  San Antonio          TX  \n",
       "1  12125 Alamo Ranch Pkwy          78253  San Antonio          TX  \n",
       "2  12125 Alamo Ranch Pkwy          78253  San Antonio          TX  \n",
       "3  12125 Alamo Ranch Pkwy          78253  San Antonio          TX  \n",
       "4  12125 Alamo Ranch Pkwy          78253  San Antonio          TX  "
      ]
     },
     "execution_count": 8,
     "metadata": {},
     "output_type": "execute_result"
    }
   ],
   "source": [
    "df.head()"
   ]
  },
  {
   "cell_type": "markdown",
   "id": "2a36586d",
   "metadata": {},
   "source": [
    "#### range of dates? "
   ]
  },
  {
   "cell_type": "code",
   "execution_count": 9,
   "id": "b36fff1e",
   "metadata": {},
   "outputs": [
    {
     "data": {
      "text/plain": [
       "'2013-01-01'"
      ]
     },
     "execution_count": 9,
     "metadata": {},
     "output_type": "execute_result"
    }
   ],
   "source": [
    "df.sale_date.min()"
   ]
  },
  {
   "cell_type": "code",
   "execution_count": 10,
   "id": "8527dd8c",
   "metadata": {},
   "outputs": [
    {
     "data": {
      "text/plain": [
       "'2017-12-31'"
      ]
     },
     "execution_count": 10,
     "metadata": {},
     "output_type": "execute_result"
    }
   ],
   "source": [
    "df.sale_date.max()"
   ]
  },
  {
   "cell_type": "code",
   "execution_count": 11,
   "id": "c5ffdabc-6f16-4e4c-a7b1-f2b1b856a65b",
   "metadata": {},
   "outputs": [
    {
     "data": {
      "text/plain": [
       "dtype('O')"
      ]
     },
     "execution_count": 11,
     "metadata": {},
     "output_type": "execute_result"
    }
   ],
   "source": [
    "df.sale_date.dtype"
   ]
  },
  {
   "cell_type": "code",
   "execution_count": 12,
   "id": "fb61961a-f745-431b-b826-05bf8afca665",
   "metadata": {},
   "outputs": [
    {
     "name": "stdout",
     "output_type": "stream",
     "text": [
      "store_id\n"
     ]
    },
    {
     "data": {
      "image/png": "[encoded data removed]",
      "text/plain": [
       "<Figure size 432x288 with 1 Axes>"
      ]
     },
     "metadata": {},
     "output_type": "display_data"
    },
    {
     "name": "stdout",
     "output_type": "stream",
     "text": [
      "item_id\n"
     ]
    },
    {
     "data": {
      "image/png": "[encoded data removed]",
      "text/plain": [
       "<Figure size 432x288 with 1 Axes>"
      ]
     },
     "metadata": {},
     "output_type": "display_data"
    },
    {
     "name": "stdout",
     "output_type": "stream",
     "text": [
      "sale_id\n"
     ]
    },
    {
     "data": {
      "image/png": "[encoded data removed]",
      "text/plain": [
       "<Figure size 432x288 with 1 Axes>"
      ]
     },
     "metadata": {},
     "output_type": "display_data"
    },
    {
     "name": "stdout",
     "output_type": "stream",
     "text": [
      "sale_date\n"
     ]
    },
    {
     "data": {
      "image/png": "[encoded data removed]",
      "text/plain": [
       "<Figure size 432x288 with 1 Axes>"
      ]
     },
     "metadata": {},
     "output_type": "display_data"
    },
    {
     "name": "stdout",
     "output_type": "stream",
     "text": [
      "sale_amount\n"
     ]
    },
    {
     "data": {
      "image/png": "[encoded data removed]",
      "text/plain": [
       "<Figure size 432x288 with 1 Axes>"
      ]
     },
     "metadata": {},
     "output_type": "display_data"
    },
    {
     "name": "stdout",
     "output_type": "stream",
     "text": [
      "item_upc14\n"
     ]
    },
    {
     "data": {
      "image/png": "[encoded data removed]",
      "text/plain": [
       "<Figure size 432x288 with 1 Axes>"
      ]
     },
     "metadata": {},
     "output_type": "display_data"
    },
    {
     "name": "stdout",
     "output_type": "stream",
     "text": [
      "item_upc12\n"
     ]
    },
    {
     "data": {
      "image/png": "[encoded data removed]",
      "text/plain": [
       "<Figure size 432x288 with 1 Axes>"
      ]
     },
     "metadata": {},
     "output_type": "display_data"
    },
    {
     "name": "stdout",
     "output_type": "stream",
     "text": [
      "item_brand\n"
     ]
    },
    {
     "data": {
      "image/png": "[encoded data removed]",
      "text/plain": [
       "<Figure size 432x288 with 1 Axes>"
      ]
     },
     "metadata": {},
     "output_type": "display_data"
    },
    {
     "name": "stdout",
     "output_type": "stream",
     "text": [
      "item_name\n"
     ]
    },
    {
     "data": {
      "image/png": "[encoded data removed]",
      "text/plain": [
       "<Figure size 432x288 with 1 Axes>"
      ]
     },
     "metadata": {},
     "output_type": "display_data"
    },
    {
     "name": "stdout",
     "output_type": "stream",
     "text": [
      "item_price\n"
     ]
    },
    {
     "data": {
      "image/png": "[encoded data removed]",
      "text/plain": [
       "<Figure size 432x288 with 1 Axes>"
      ]
     },
     "metadata": {},
     "output_type": "display_data"
    },
    {
     "name": "stdout",
     "output_type": "stream",
     "text": [
      "store_address\n"
     ]
    },
    {
     "data": {
      "image/png": "[encoded data removed]",
      "text/plain": [
       "<Figure size 432x288 with 1 Axes>"
      ]
     },
     "metadata": {},
     "output_type": "display_data"
    },
    {
     "name": "stdout",
     "output_type": "stream",
     "text": [
      "store_zipcode\n"
     ]
    },
    {
     "data": {
      "image/png": "[encoded data removed]",
      "text/plain": [
       "<Figure size 432x288 with 1 Axes>"
      ]
     },
     "metadata": {},
     "output_type": "display_data"
    },
    {
     "name": "stdout",
     "output_type": "stream",
     "text": [
      "store_city\n"
     ]
    },
    {
     "data": {
      "image/png": "[encoded data removed]",
      "text/plain": [
       "<Figure size 432x288 with 1 Axes>"
      ]
     },
     "metadata": {},
     "output_type": "display_data"
    },
    {
     "name": "stdout",
     "output_type": "stream",
     "text": [
      "store_state\n"
     ]
    },
    {
     "data": {
      "image/png": "[encoded data removed]",
      "text/plain": [
       "<Figure size 432x288 with 1 Axes>"
      ]
     },
     "metadata": {},
     "output_type": "display_data"
    }
   ],
   "source": [
    "for col in df.columns:\n",
    "    print(col)\n",
    "    plt.hist(df[col])\n",
    "    plt.show()"
   ]
  },
  {
   "cell_type": "markdown",
   "id": "87fb9168",
   "metadata": {},
   "source": [
    "## Prepare"
   ]
  },
  {
   "cell_type": "markdown",
   "id": "e9bce7bc",
   "metadata": {},
   "source": [
    "for time series data: \n",
    "- make pandas time aware\n",
    "- look at the frequency of the data \n",
    "- look for gaps in time or null values\n",
    "- get to know our data a litte better"
   ]
  },
  {
   "cell_type": "markdown",
   "id": "a3805fae",
   "metadata": {},
   "source": [
    "### make pandas time aware\n",
    "\n",
    "1. Convert 'date' column to datetime object\n",
    "2. Set the datetime column as index\n",
    "3. Sort the datetime index\n",
    "\n",
    "formatting info: https://docs.python.org/3/library/datetime.html#strftime-and-strptime-behavior"
   ]
  },
  {
   "cell_type": "markdown",
   "id": "f639142f",
   "metadata": {},
   "source": [
    "#### 1. Convert 'date' column to datetime object"
   ]
  },
  {
   "cell_type": "code",
   "execution_count": 13,
   "id": "b7c06154",
   "metadata": {},
   "outputs": [
    {
     "data": {
      "text/plain": [
       "0        2013-01-01\n",
       "1        2013-01-02\n",
       "2        2013-01-03\n",
       "3        2013-01-04\n",
       "4        2013-01-05\n",
       "            ...    \n",
       "912995   2017-12-27\n",
       "912996   2017-12-28\n",
       "912997   2017-12-29\n",
       "912998   2017-12-30\n",
       "912999   2017-12-31\n",
       "Name: sale_date, Length: 913000, dtype: datetime64[ns]"
      ]
     },
     "execution_count": 13,
     "metadata": {},
     "output_type": "execute_result"
    }
   ],
   "source": [
    "df.sale_date.astype('datetime64')"
   ]
  },
  {
   "cell_type": "code",
   "execution_count": 14,
   "id": "56715a62",
   "metadata": {
    "scrolled": true
   },
   "outputs": [
    {
     "data": {
      "text/html": [
       "<div>\n",
       "<style scoped>\n",
       "    .dataframe tbody tr th:only-of-type {\n",
       "        vertical-align: middle;\n",
       "    }\n",
       "\n",
       "    .dataframe tbody tr th {\n",
       "        vertical-align: top;\n",
       "    }\n",
       "\n",
       "    .dataframe thead th {\n",
       "        text-align: right;\n",
       "    }\n",
       "</style>\n",
       "<table border=\"1\" class=\"dataframe\">\n",
       "  <thead>\n",
       "    <tr style=\"text-align: right;\">\n",
       "      <th></th>\n",
       "      <th>store_id</th>\n",
       "      <th>item_id</th>\n",
       "      <th>sale_id</th>\n",
       "      <th>sale_date</th>\n",
       "      <th>sale_amount</th>\n",
       "      <th>item_upc14</th>\n",
       "      <th>item_upc12</th>\n",
       "      <th>item_brand</th>\n",
       "      <th>item_name</th>\n",
       "      <th>item_price</th>\n",
       "      <th>store_address</th>\n",
       "      <th>store_zipcode</th>\n",
       "      <th>store_city</th>\n",
       "      <th>store_state</th>\n",
       "    </tr>\n",
       "  </thead>\n",
       "  <tbody>\n",
       "    <tr>\n",
       "      <th>0</th>\n",
       "      <td>1</td>\n",
       "      <td>1</td>\n",
       "      <td>1</td>\n",
       "      <td>2013-01-01</td>\n",
       "      <td>13</td>\n",
       "      <td>35200264013</td>\n",
       "      <td>35200264013</td>\n",
       "      <td>Riceland</td>\n",
       "      <td>Riceland American Jazmine Rice</td>\n",
       "      <td>0.84</td>\n",
       "      <td>12125 Alamo Ranch Pkwy</td>\n",
       "      <td>78253</td>\n",
       "      <td>San Antonio</td>\n",
       "      <td>TX</td>\n",
       "    </tr>\n",
       "    <tr>\n",
       "      <th>1</th>\n",
       "      <td>1</td>\n",
       "      <td>1</td>\n",
       "      <td>2</td>\n",
       "      <td>2013-01-02</td>\n",
       "      <td>11</td>\n",
       "      <td>35200264013</td>\n",
       "      <td>35200264013</td>\n",
       "      <td>Riceland</td>\n",
       "      <td>Riceland American Jazmine Rice</td>\n",
       "      <td>0.84</td>\n",
       "      <td>12125 Alamo Ranch Pkwy</td>\n",
       "      <td>78253</td>\n",
       "      <td>San Antonio</td>\n",
       "      <td>TX</td>\n",
       "    </tr>\n",
       "    <tr>\n",
       "      <th>2</th>\n",
       "      <td>1</td>\n",
       "      <td>1</td>\n",
       "      <td>3</td>\n",
       "      <td>2013-01-03</td>\n",
       "      <td>14</td>\n",
       "      <td>35200264013</td>\n",
       "      <td>35200264013</td>\n",
       "      <td>Riceland</td>\n",
       "      <td>Riceland American Jazmine Rice</td>\n",
       "      <td>0.84</td>\n",
       "      <td>12125 Alamo Ranch Pkwy</td>\n",
       "      <td>78253</td>\n",
       "      <td>San Antonio</td>\n",
       "      <td>TX</td>\n",
       "    </tr>\n",
       "    <tr>\n",
       "      <th>3</th>\n",
       "      <td>1</td>\n",
       "      <td>1</td>\n",
       "      <td>4</td>\n",
       "      <td>2013-01-04</td>\n",
       "      <td>13</td>\n",
       "      <td>35200264013</td>\n",
       "      <td>35200264013</td>\n",
       "      <td>Riceland</td>\n",
       "      <td>Riceland American Jazmine Rice</td>\n",
       "      <td>0.84</td>\n",
       "      <td>12125 Alamo Ranch Pkwy</td>\n",
       "      <td>78253</td>\n",
       "      <td>San Antonio</td>\n",
       "      <td>TX</td>\n",
       "    </tr>\n",
       "    <tr>\n",
       "      <th>4</th>\n",
       "      <td>1</td>\n",
       "      <td>1</td>\n",
       "      <td>5</td>\n",
       "      <td>2013-01-05</td>\n",
       "      <td>10</td>\n",
       "      <td>35200264013</td>\n",
       "      <td>35200264013</td>\n",
       "      <td>Riceland</td>\n",
       "      <td>Riceland American Jazmine Rice</td>\n",
       "      <td>0.84</td>\n",
       "      <td>12125 Alamo Ranch Pkwy</td>\n",
       "      <td>78253</td>\n",
       "      <td>San Antonio</td>\n",
       "      <td>TX</td>\n",
       "    </tr>\n",
       "    <tr>\n",
       "      <th>...</th>\n",
       "      <td>...</td>\n",
       "      <td>...</td>\n",
       "      <td>...</td>\n",
       "      <td>...</td>\n",
       "      <td>...</td>\n",
       "      <td>...</td>\n",
       "      <td>...</td>\n",
       "      <td>...</td>\n",
       "      <td>...</td>\n",
       "      <td>...</td>\n",
       "      <td>...</td>\n",
       "      <td>...</td>\n",
       "      <td>...</td>\n",
       "      <td>...</td>\n",
       "    </tr>\n",
       "    <tr>\n",
       "      <th>912995</th>\n",
       "      <td>10</td>\n",
       "      <td>50</td>\n",
       "      <td>912996</td>\n",
       "      <td>2017-12-27</td>\n",
       "      <td>63</td>\n",
       "      <td>47445919221</td>\n",
       "      <td>47445919221</td>\n",
       "      <td>Choice</td>\n",
       "      <td>Choice Organic Teas Black Tea Classic Black - ...</td>\n",
       "      <td>5.20</td>\n",
       "      <td>8503 NW Military Hwy</td>\n",
       "      <td>78231</td>\n",
       "      <td>San Antonio</td>\n",
       "      <td>TX</td>\n",
       "    </tr>\n",
       "    <tr>\n",
       "      <th>912996</th>\n",
       "      <td>10</td>\n",
       "      <td>50</td>\n",
       "      <td>912997</td>\n",
       "      <td>2017-12-28</td>\n",
       "      <td>59</td>\n",
       "      <td>47445919221</td>\n",
       "      <td>47445919221</td>\n",
       "      <td>Choice</td>\n",
       "      <td>Choice Organic Teas Black Tea Classic Black - ...</td>\n",
       "      <td>5.20</td>\n",
       "      <td>8503 NW Military Hwy</td>\n",
       "      <td>78231</td>\n",
       "      <td>San Antonio</td>\n",
       "      <td>TX</td>\n",
       "    </tr>\n",
       "    <tr>\n",
       "      <th>912997</th>\n",
       "      <td>10</td>\n",
       "      <td>50</td>\n",
       "      <td>912998</td>\n",
       "      <td>2017-12-29</td>\n",
       "      <td>74</td>\n",
       "      <td>47445919221</td>\n",
       "      <td>47445919221</td>\n",
       "      <td>Choice</td>\n",
       "      <td>Choice Organic Teas Black Tea Classic Black - ...</td>\n",
       "      <td>5.20</td>\n",
       "      <td>8503 NW Military Hwy</td>\n",
       "      <td>78231</td>\n",
       "      <td>San Antonio</td>\n",
       "      <td>TX</td>\n",
       "    </tr>\n",
       "    <tr>\n",
       "      <th>912998</th>\n",
       "      <td>10</td>\n",
       "      <td>50</td>\n",
       "      <td>912999</td>\n",
       "      <td>2017-12-30</td>\n",
       "      <td>62</td>\n",
       "      <td>47445919221</td>\n",
       "      <td>47445919221</td>\n",
       "      <td>Choice</td>\n",
       "      <td>Choice Organic Teas Black Tea Classic Black - ...</td>\n",
       "      <td>5.20</td>\n",
       "      <td>8503 NW Military Hwy</td>\n",
       "      <td>78231</td>\n",
       "      <td>San Antonio</td>\n",
       "      <td>TX</td>\n",
       "    </tr>\n",
       "    <tr>\n",
       "      <th>912999</th>\n",
       "      <td>10</td>\n",
       "      <td>50</td>\n",
       "      <td>913000</td>\n",
       "      <td>2017-12-31</td>\n",
       "      <td>82</td>\n",
       "      <td>47445919221</td>\n",
       "      <td>47445919221</td>\n",
       "      <td>Choice</td>\n",
       "      <td>Choice Organic Teas Black Tea Classic Black - ...</td>\n",
       "      <td>5.20</td>\n",
       "      <td>8503 NW Military Hwy</td>\n",
       "      <td>78231</td>\n",
       "      <td>San Antonio</td>\n",
       "      <td>TX</td>\n",
       "    </tr>\n",
       "  </tbody>\n",
       "</table>\n",
       "<p>913000 rows × 14 columns</p>\n",
       "</div>"
      ],
      "text/plain": [
       "        store_id  item_id  sale_id  sale_date  sale_amount   item_upc14  \\\n",
       "0              1        1        1 2013-01-01           13  35200264013   \n",
       "1              1        1        2 2013-01-02           11  35200264013   \n",
       "2              1        1        3 2013-01-03           14  35200264013   \n",
       "3              1        1        4 2013-01-04           13  35200264013   \n",
       "4              1        1        5 2013-01-05           10  35200264013   \n",
       "...          ...      ...      ...        ...          ...          ...   \n",
       "912995        10       50   912996 2017-12-27           63  47445919221   \n",
       "912996        10       50   912997 2017-12-28           59  47445919221   \n",
       "912997        10       50   912998 2017-12-29           74  47445919221   \n",
       "912998        10       50   912999 2017-12-30           62  47445919221   \n",
       "912999        10       50   913000 2017-12-31           82  47445919221   \n",
       "\n",
       "         item_upc12 item_brand  \\\n",
       "0       35200264013   Riceland   \n",
       "1       35200264013   Riceland   \n",
       "2       35200264013   Riceland   \n",
       "3       35200264013   Riceland   \n",
       "4       35200264013   Riceland   \n",
       "...             ...        ...   \n",
       "912995  47445919221     Choice   \n",
       "912996  47445919221     Choice   \n",
       "912997  47445919221     Choice   \n",
       "912998  47445919221     Choice   \n",
       "912999  47445919221     Choice   \n",
       "\n",
       "                                                item_name  item_price  \\\n",
       "0                          Riceland American Jazmine Rice        0.84   \n",
       "1                          Riceland American Jazmine Rice        0.84   \n",
       "2                          Riceland American Jazmine Rice        0.84   \n",
       "3                          Riceland American Jazmine Rice        0.84   \n",
       "4                          Riceland American Jazmine Rice        0.84   \n",
       "...                                                   ...         ...   \n",
       "912995  Choice Organic Teas Black Tea Classic Black - ...        5.20   \n",
       "912996  Choice Organic Teas Black Tea Classic Black - ...        5.20   \n",
       "912997  Choice Organic Teas Black Tea Classic Black - ...        5.20   \n",
       "912998  Choice Organic Teas Black Tea Classic Black - ...        5.20   \n",
       "912999  Choice Organic Teas Black Tea Classic Black - ...        5.20   \n",
       "\n",
       "                 store_address  store_zipcode   store_city store_state  \n",
       "0       12125 Alamo Ranch Pkwy          78253  San Antonio          TX  \n",
       "1       12125 Alamo Ranch Pkwy          78253  San Antonio          TX  \n",
       "2       12125 Alamo Ranch Pkwy          78253  San Antonio          TX  \n",
       "3       12125 Alamo Ranch Pkwy          78253  San Antonio          TX  \n",
       "4       12125 Alamo Ranch Pkwy          78253  San Antonio          TX  \n",
       "...                        ...            ...          ...         ...  \n",
       "912995    8503 NW Military Hwy          78231  San Antonio          TX  \n",
       "912996    8503 NW Military Hwy          78231  San Antonio          TX  \n",
       "912997    8503 NW Military Hwy          78231  San Antonio          TX  \n",
       "912998    8503 NW Military Hwy          78231  San Antonio          TX  \n",
       "912999    8503 NW Military Hwy          78231  San Antonio          TX  \n",
       "\n",
       "[913000 rows x 14 columns]"
      ]
     },
     "execution_count": 14,
     "metadata": {},
     "output_type": "execute_result"
    }
   ],
   "source": [
    "df.sale_date = pd.to_datetime(df.sale_date)\n",
    "df"
   ]
  },
  {
   "cell_type": "code",
   "execution_count": 15,
   "id": "c274cb84",
   "metadata": {},
   "outputs": [
    {
     "name": "stdout",
     "output_type": "stream",
     "text": [
      "<class 'pandas.core.frame.DataFrame'>\n",
      "RangeIndex: 913000 entries, 0 to 912999\n",
      "Data columns (total 14 columns):\n",
      " #   Column         Non-Null Count   Dtype         \n",
      "---  ------         --------------   -----         \n",
      " 0   store_id       913000 non-null  int64         \n",
      " 1   item_id        913000 non-null  int64         \n",
      " 2   sale_id        913000 non-null  int64         \n",
      " 3   sale_date      913000 non-null  datetime64[ns]\n",
      " 4   sale_amount    913000 non-null  int64         \n",
      " 5   item_upc14     913000 non-null  int64         \n",
      " 6   item_upc12     913000 non-null  int64         \n",
      " 7   item_brand     913000 non-null  object        \n",
      " 8   item_name      913000 non-null  object        \n",
      " 9   item_price     913000 non-null  float64       \n",
      " 10  store_address  913000 non-null  object        \n",
      " 11  store_zipcode  913000 non-null  int64         \n",
      " 12  store_city     913000 non-null  object        \n",
      " 13  store_state    913000 non-null  object        \n",
      "dtypes: datetime64[ns](1), float64(1), int64(7), object(5)\n",
      "memory usage: 97.5+ MB\n"
     ]
    }
   ],
   "source": [
    "df.info()"
   ]
  },
  {
   "cell_type": "markdown",
   "id": "855200d9",
   "metadata": {},
   "source": [
    "#### 2. Set the datetime column as Index"
   ]
  },
  {
   "cell_type": "code",
   "execution_count": 16,
   "id": "6160acfe",
   "metadata": {},
   "outputs": [],
   "source": [
    "df = df.set_index('sale_date')"
   ]
  },
  {
   "cell_type": "code",
   "execution_count": 17,
   "id": "8c959b0b-0532-4e40-a0a9-c8f6194db30f",
   "metadata": {},
   "outputs": [
    {
     "data": {
      "text/html": [
       "<div>\n",
       "<style scoped>\n",
       "    .dataframe tbody tr th:only-of-type {\n",
       "        vertical-align: middle;\n",
       "    }\n",
       "\n",
       "    .dataframe tbody tr th {\n",
       "        vertical-align: top;\n",
       "    }\n",
       "\n",
       "    .dataframe thead th {\n",
       "        text-align: right;\n",
       "    }\n",
       "</style>\n",
       "<table border=\"1\" class=\"dataframe\">\n",
       "  <thead>\n",
       "    <tr style=\"text-align: right;\">\n",
       "      <th></th>\n",
       "      <th>store_id</th>\n",
       "      <th>item_id</th>\n",
       "      <th>sale_id</th>\n",
       "      <th>sale_amount</th>\n",
       "      <th>item_upc14</th>\n",
       "      <th>item_upc12</th>\n",
       "      <th>item_brand</th>\n",
       "      <th>item_name</th>\n",
       "      <th>item_price</th>\n",
       "      <th>store_address</th>\n",
       "      <th>store_zipcode</th>\n",
       "      <th>store_city</th>\n",
       "      <th>store_state</th>\n",
       "    </tr>\n",
       "    <tr>\n",
       "      <th>sale_date</th>\n",
       "      <th></th>\n",
       "      <th></th>\n",
       "      <th></th>\n",
       "      <th></th>\n",
       "      <th></th>\n",
       "      <th></th>\n",
       "      <th></th>\n",
       "      <th></th>\n",
       "      <th></th>\n",
       "      <th></th>\n",
       "      <th></th>\n",
       "      <th></th>\n",
       "      <th></th>\n",
       "    </tr>\n",
       "  </thead>\n",
       "  <tbody>\n",
       "    <tr>\n",
       "      <th>2013-01-01</th>\n",
       "      <td>1</td>\n",
       "      <td>1</td>\n",
       "      <td>1</td>\n",
       "      <td>13</td>\n",
       "      <td>35200264013</td>\n",
       "      <td>35200264013</td>\n",
       "      <td>Riceland</td>\n",
       "      <td>Riceland American Jazmine Rice</td>\n",
       "      <td>0.84</td>\n",
       "      <td>12125 Alamo Ranch Pkwy</td>\n",
       "      <td>78253</td>\n",
       "      <td>San Antonio</td>\n",
       "      <td>TX</td>\n",
       "    </tr>\n",
       "    <tr>\n",
       "      <th>2013-01-02</th>\n",
       "      <td>1</td>\n",
       "      <td>1</td>\n",
       "      <td>2</td>\n",
       "      <td>11</td>\n",
       "      <td>35200264013</td>\n",
       "      <td>35200264013</td>\n",
       "      <td>Riceland</td>\n",
       "      <td>Riceland American Jazmine Rice</td>\n",
       "      <td>0.84</td>\n",
       "      <td>12125 Alamo Ranch Pkwy</td>\n",
       "      <td>78253</td>\n",
       "      <td>San Antonio</td>\n",
       "      <td>TX</td>\n",
       "    </tr>\n",
       "    <tr>\n",
       "      <th>2013-01-03</th>\n",
       "      <td>1</td>\n",
       "      <td>1</td>\n",
       "      <td>3</td>\n",
       "      <td>14</td>\n",
       "      <td>35200264013</td>\n",
       "      <td>35200264013</td>\n",
       "      <td>Riceland</td>\n",
       "      <td>Riceland American Jazmine Rice</td>\n",
       "      <td>0.84</td>\n",
       "      <td>12125 Alamo Ranch Pkwy</td>\n",
       "      <td>78253</td>\n",
       "      <td>San Antonio</td>\n",
       "      <td>TX</td>\n",
       "    </tr>\n",
       "    <tr>\n",
       "      <th>2013-01-04</th>\n",
       "      <td>1</td>\n",
       "      <td>1</td>\n",
       "      <td>4</td>\n",
       "      <td>13</td>\n",
       "      <td>35200264013</td>\n",
       "      <td>35200264013</td>\n",
       "      <td>Riceland</td>\n",
       "      <td>Riceland American Jazmine Rice</td>\n",
       "      <td>0.84</td>\n",
       "      <td>12125 Alamo Ranch Pkwy</td>\n",
       "      <td>78253</td>\n",
       "      <td>San Antonio</td>\n",
       "      <td>TX</td>\n",
       "    </tr>\n",
       "    <tr>\n",
       "      <th>2013-01-05</th>\n",
       "      <td>1</td>\n",
       "      <td>1</td>\n",
       "      <td>5</td>\n",
       "      <td>10</td>\n",
       "      <td>35200264013</td>\n",
       "      <td>35200264013</td>\n",
       "      <td>Riceland</td>\n",
       "      <td>Riceland American Jazmine Rice</td>\n",
       "      <td>0.84</td>\n",
       "      <td>12125 Alamo Ranch Pkwy</td>\n",
       "      <td>78253</td>\n",
       "      <td>San Antonio</td>\n",
       "      <td>TX</td>\n",
       "    </tr>\n",
       "  </tbody>\n",
       "</table>\n",
       "</div>"
      ],
      "text/plain": [
       "            store_id  item_id  sale_id  sale_amount   item_upc14   item_upc12  \\\n",
       "sale_date                                                                       \n",
       "2013-01-01         1        1        1           13  35200264013  35200264013   \n",
       "2013-01-02         1        1        2           11  35200264013  35200264013   \n",
       "2013-01-03         1        1        3           14  35200264013  35200264013   \n",
       "2013-01-04         1        1        4           13  35200264013  35200264013   \n",
       "2013-01-05         1        1        5           10  35200264013  35200264013   \n",
       "\n",
       "           item_brand                       item_name  item_price  \\\n",
       "sale_date                                                           \n",
       "2013-01-01   Riceland  Riceland American Jazmine Rice        0.84   \n",
       "2013-01-02   Riceland  Riceland American Jazmine Rice        0.84   \n",
       "2013-01-03   Riceland  Riceland American Jazmine Rice        0.84   \n",
       "2013-01-04   Riceland  Riceland American Jazmine Rice        0.84   \n",
       "2013-01-05   Riceland  Riceland American Jazmine Rice        0.84   \n",
       "\n",
       "                     store_address  store_zipcode   store_city store_state  \n",
       "sale_date                                                                   \n",
       "2013-01-01  12125 Alamo Ranch Pkwy          78253  San Antonio          TX  \n",
       "2013-01-02  12125 Alamo Ranch Pkwy          78253  San Antonio          TX  \n",
       "2013-01-03  12125 Alamo Ranch Pkwy          78253  San Antonio          TX  \n",
       "2013-01-04  12125 Alamo Ranch Pkwy          78253  San Antonio          TX  \n",
       "2013-01-05  12125 Alamo Ranch Pkwy          78253  San Antonio          TX  "
      ]
     },
     "execution_count": 17,
     "metadata": {},
     "output_type": "execute_result"
    }
   ],
   "source": [
    "df.head()"
   ]
  },
  {
   "cell_type": "markdown",
   "id": "380e2f63",
   "metadata": {},
   "source": [
    "#### 3. Sort the datetime index"
   ]
  },
  {
   "cell_type": "code",
   "execution_count": 18,
   "id": "71b5c2a1",
   "metadata": {},
   "outputs": [],
   "source": [
    "df = df.sort_index()"
   ]
  },
  {
   "cell_type": "code",
   "execution_count": 19,
   "id": "b60fe050-1829-4bd0-9d33-5c261a3d6c86",
   "metadata": {},
   "outputs": [
    {
     "data": {
      "text/html": [
       "<div>\n",
       "<style scoped>\n",
       "    .dataframe tbody tr th:only-of-type {\n",
       "        vertical-align: middle;\n",
       "    }\n",
       "\n",
       "    .dataframe tbody tr th {\n",
       "        vertical-align: top;\n",
       "    }\n",
       "\n",
       "    .dataframe thead th {\n",
       "        text-align: right;\n",
       "    }\n",
       "</style>\n",
       "<table border=\"1\" class=\"dataframe\">\n",
       "  <thead>\n",
       "    <tr style=\"text-align: right;\">\n",
       "      <th></th>\n",
       "      <th>store_id</th>\n",
       "      <th>item_id</th>\n",
       "      <th>sale_id</th>\n",
       "      <th>sale_amount</th>\n",
       "      <th>item_upc14</th>\n",
       "      <th>item_upc12</th>\n",
       "      <th>item_brand</th>\n",
       "      <th>item_name</th>\n",
       "      <th>item_price</th>\n",
       "      <th>store_address</th>\n",
       "      <th>store_zipcode</th>\n",
       "      <th>store_city</th>\n",
       "      <th>store_state</th>\n",
       "    </tr>\n",
       "    <tr>\n",
       "      <th>sale_date</th>\n",
       "      <th></th>\n",
       "      <th></th>\n",
       "      <th></th>\n",
       "      <th></th>\n",
       "      <th></th>\n",
       "      <th></th>\n",
       "      <th></th>\n",
       "      <th></th>\n",
       "      <th></th>\n",
       "      <th></th>\n",
       "      <th></th>\n",
       "      <th></th>\n",
       "      <th></th>\n",
       "    </tr>\n",
       "  </thead>\n",
       "  <tbody>\n",
       "    <tr>\n",
       "      <th>2013-01-01</th>\n",
       "      <td>1</td>\n",
       "      <td>1</td>\n",
       "      <td>1</td>\n",
       "      <td>13</td>\n",
       "      <td>35200264013</td>\n",
       "      <td>35200264013</td>\n",
       "      <td>Riceland</td>\n",
       "      <td>Riceland American Jazmine Rice</td>\n",
       "      <td>0.84</td>\n",
       "      <td>12125 Alamo Ranch Pkwy</td>\n",
       "      <td>78253</td>\n",
       "      <td>San Antonio</td>\n",
       "      <td>TX</td>\n",
       "    </tr>\n",
       "    <tr>\n",
       "      <th>2013-01-01</th>\n",
       "      <td>7</td>\n",
       "      <td>12</td>\n",
       "      <td>211817</td>\n",
       "      <td>26</td>\n",
       "      <td>74676640211</td>\n",
       "      <td>74676640211</td>\n",
       "      <td>Mueller</td>\n",
       "      <td>Mueller Sport Care Basic Support Level Medium ...</td>\n",
       "      <td>8.40</td>\n",
       "      <td>12018 Perrin Beitel Rd</td>\n",
       "      <td>78217</td>\n",
       "      <td>San Antonio</td>\n",
       "      <td>TX</td>\n",
       "    </tr>\n",
       "    <tr>\n",
       "      <th>2013-01-01</th>\n",
       "      <td>7</td>\n",
       "      <td>46</td>\n",
       "      <td>832657</td>\n",
       "      <td>27</td>\n",
       "      <td>35457770664</td>\n",
       "      <td>35457770664</td>\n",
       "      <td>Mama Marys</td>\n",
       "      <td>Pizza Sauce</td>\n",
       "      <td>4.65</td>\n",
       "      <td>12018 Perrin Beitel Rd</td>\n",
       "      <td>78217</td>\n",
       "      <td>San Antonio</td>\n",
       "      <td>TX</td>\n",
       "    </tr>\n",
       "    <tr>\n",
       "      <th>2013-01-01</th>\n",
       "      <td>8</td>\n",
       "      <td>12</td>\n",
       "      <td>213643</td>\n",
       "      <td>54</td>\n",
       "      <td>74676640211</td>\n",
       "      <td>74676640211</td>\n",
       "      <td>Mueller</td>\n",
       "      <td>Mueller Sport Care Basic Support Level Medium ...</td>\n",
       "      <td>8.40</td>\n",
       "      <td>15000 San Pedro Ave</td>\n",
       "      <td>78232</td>\n",
       "      <td>San Antonio</td>\n",
       "      <td>TX</td>\n",
       "    </tr>\n",
       "    <tr>\n",
       "      <th>2013-01-01</th>\n",
       "      <td>9</td>\n",
       "      <td>12</td>\n",
       "      <td>215469</td>\n",
       "      <td>35</td>\n",
       "      <td>74676640211</td>\n",
       "      <td>74676640211</td>\n",
       "      <td>Mueller</td>\n",
       "      <td>Mueller Sport Care Basic Support Level Medium ...</td>\n",
       "      <td>8.40</td>\n",
       "      <td>735 SW Military Dr</td>\n",
       "      <td>78221</td>\n",
       "      <td>San Antonio</td>\n",
       "      <td>TX</td>\n",
       "    </tr>\n",
       "  </tbody>\n",
       "</table>\n",
       "</div>"
      ],
      "text/plain": [
       "            store_id  item_id  sale_id  sale_amount   item_upc14   item_upc12  \\\n",
       "sale_date                                                                       \n",
       "2013-01-01         1        1        1           13  35200264013  35200264013   \n",
       "2013-01-01         7       12   211817           26  74676640211  74676640211   \n",
       "2013-01-01         7       46   832657           27  35457770664  35457770664   \n",
       "2013-01-01         8       12   213643           54  74676640211  74676640211   \n",
       "2013-01-01         9       12   215469           35  74676640211  74676640211   \n",
       "\n",
       "            item_brand                                          item_name  \\\n",
       "sale_date                                                                   \n",
       "2013-01-01    Riceland                     Riceland American Jazmine Rice   \n",
       "2013-01-01     Mueller  Mueller Sport Care Basic Support Level Medium ...   \n",
       "2013-01-01  Mama Marys                                        Pizza Sauce   \n",
       "2013-01-01     Mueller  Mueller Sport Care Basic Support Level Medium ...   \n",
       "2013-01-01     Mueller  Mueller Sport Care Basic Support Level Medium ...   \n",
       "\n",
       "            item_price           store_address  store_zipcode   store_city  \\\n",
       "sale_date                                                                    \n",
       "2013-01-01        0.84  12125 Alamo Ranch Pkwy          78253  San Antonio   \n",
       "2013-01-01        8.40  12018 Perrin Beitel Rd          78217  San Antonio   \n",
       "2013-01-01        4.65  12018 Perrin Beitel Rd          78217  San Antonio   \n",
       "2013-01-01        8.40     15000 San Pedro Ave          78232  San Antonio   \n",
       "2013-01-01        8.40      735 SW Military Dr          78221  San Antonio   \n",
       "\n",
       "           store_state  \n",
       "sale_date               \n",
       "2013-01-01          TX  \n",
       "2013-01-01          TX  \n",
       "2013-01-01          TX  \n",
       "2013-01-01          TX  \n",
       "2013-01-01          TX  "
      ]
     },
     "execution_count": 19,
     "metadata": {},
     "output_type": "execute_result"
    }
   ],
   "source": [
    "df.head()"
   ]
  },
  {
   "cell_type": "markdown",
   "id": "9a7e0acd",
   "metadata": {},
   "source": [
    "### Frequency of data \n",
    "- how much data do we have for each date?"
   ]
  },
  {
   "cell_type": "code",
   "execution_count": 20,
   "id": "ad4cd0c0",
   "metadata": {},
   "outputs": [
    {
     "data": {
      "text/plain": [
       "2013-01-01    500\n",
       "2016-05-11    500\n",
       "2016-05-09    500\n",
       "2016-05-08    500\n",
       "2016-05-07    500\n",
       "             ... \n",
       "2014-08-29    500\n",
       "2014-08-28    500\n",
       "2014-08-27    500\n",
       "2014-08-26    500\n",
       "2017-12-31    500\n",
       "Name: sale_date, Length: 1826, dtype: int64"
      ]
     },
     "execution_count": 20,
     "metadata": {},
     "output_type": "execute_result"
    }
   ],
   "source": [
    "df.index.value_counts()"
   ]
  },
  {
   "cell_type": "code",
   "execution_count": 21,
   "id": "0fa5ca19",
   "metadata": {},
   "outputs": [
    {
     "data": {
      "text/plain": [
       "500    1826\n",
       "Name: sale_date, dtype: int64"
      ]
     },
     "execution_count": 21,
     "metadata": {},
     "output_type": "execute_result"
    }
   ],
   "source": [
    "df.index.value_counts().value_counts()"
   ]
  },
  {
   "cell_type": "markdown",
   "id": "e3ceacef",
   "metadata": {},
   "source": [
    "### Check for gaps in time"
   ]
  },
  {
   "cell_type": "code",
   "execution_count": 22,
   "id": "81f7fb34",
   "metadata": {},
   "outputs": [
    {
     "data": {
      "text/plain": [
       "Timestamp('2013-01-01 00:00:00')"
      ]
     },
     "execution_count": 22,
     "metadata": {},
     "output_type": "execute_result"
    }
   ],
   "source": [
    "#earliest day\n",
    "df.index.min()"
   ]
  },
  {
   "cell_type": "code",
   "execution_count": 23,
   "id": "e6e8c70f",
   "metadata": {},
   "outputs": [
    {
     "data": {
      "text/plain": [
       "Timestamp('2017-12-31 00:00:00')"
      ]
     },
     "execution_count": 23,
     "metadata": {},
     "output_type": "execute_result"
    }
   ],
   "source": [
    "#latest day\n",
    "df.index.max()"
   ]
  },
  {
   "cell_type": "code",
   "execution_count": 24,
   "id": "b459b9ea",
   "metadata": {},
   "outputs": [
    {
     "data": {
      "text/plain": [
       "Timedelta('1826 days 00:00:00')"
      ]
     },
     "execution_count": 24,
     "metadata": {},
     "output_type": "execute_result"
    }
   ],
   "source": [
    "#difference between days plus one\n",
    "df.index.max() - df.index.min()  + pd.Timedelta('1d')"
   ]
  },
  {
   "cell_type": "code",
   "execution_count": 25,
   "id": "96b86b72",
   "metadata": {},
   "outputs": [
    {
     "data": {
      "text/plain": [
       "1826"
      ]
     },
     "execution_count": 25,
     "metadata": {},
     "output_type": "execute_result"
    }
   ],
   "source": [
    "#see how many unique days we actually have\n",
    "df.index.nunique()"
   ]
  },
  {
   "cell_type": "code",
   "execution_count": 26,
   "id": "b1a17d6f",
   "metadata": {},
   "outputs": [],
   "source": [
    "#dropping days to show gaps in time\n",
    "df_test = df.drop(index=['2017-12-30','2014-01-02','2016-03-28'])"
   ]
  },
  {
   "cell_type": "code",
   "execution_count": 27,
   "id": "3f47ff45",
   "metadata": {},
   "outputs": [
    {
     "data": {
      "text/plain": [
       "1823"
      ]
     },
     "execution_count": 27,
     "metadata": {},
     "output_type": "execute_result"
    }
   ],
   "source": [
    "#see how many unique days we actually have\n",
    "df_test.index.nunique()"
   ]
  },
  {
   "cell_type": "code",
   "execution_count": 28,
   "id": "c233b374",
   "metadata": {},
   "outputs": [
    {
     "data": {
      "text/plain": [
       "DatetimeIndex(['2013-01-01', '2013-01-02', '2013-01-03', '2013-01-04',\n",
       "               '2013-01-05', '2013-01-06', '2013-01-07', '2013-01-08',\n",
       "               '2013-01-09', '2013-01-10',\n",
       "               ...\n",
       "               '2017-12-22', '2017-12-23', '2017-12-24', '2017-12-25',\n",
       "               '2017-12-26', '2017-12-27', '2017-12-28', '2017-12-29',\n",
       "               '2017-12-30', '2017-12-31'],\n",
       "              dtype='datetime64[ns]', length=1826, freq='D')"
      ]
     },
     "execution_count": 28,
     "metadata": {},
     "output_type": "execute_result"
    }
   ],
   "source": [
    "#establish all the expected dates in our range\n",
    "#pd.daterange()\n",
    "expected_range = pd.date_range(start=df_test.index.min(), end=df_test.index.max())\n",
    "expected_range"
   ]
  },
  {
   "cell_type": "code",
   "execution_count": 29,
   "id": "7cad27c1",
   "metadata": {},
   "outputs": [
    {
     "data": {
      "text/plain": [
       "DatetimeIndex(['2014-01-02', '2016-03-28', '2017-12-30'], dtype='datetime64[ns]', freq=None)"
      ]
     },
     "execution_count": 29,
     "metadata": {},
     "output_type": "execute_result"
    }
   ],
   "source": [
    "#find whats missing between dates\n",
    "#df.difference()\n",
    "expected_range.difference(df_test.index)"
   ]
  },
  {
   "cell_type": "markdown",
   "id": "f3596ca9",
   "metadata": {},
   "source": [
    "## Let's get to know our data a litte better"
   ]
  },
  {
   "cell_type": "markdown",
   "id": "ac00a3cf",
   "metadata": {},
   "source": [
    "Target variable: sale_amount"
   ]
  },
  {
   "cell_type": "markdown",
   "id": "138e700f",
   "metadata": {},
   "source": [
    "- understand what one row is & some of the important columns\n",
    "- does the time frame of our rows make sense?\n",
    "    - does it need to be more or less granular?\n",
    "- investigate the data behind the unique combinations of store & item"
   ]
  },
  {
   "cell_type": "markdown",
   "id": "c7fa39a4",
   "metadata": {},
   "source": [
    "### number of distinct stores? items? sales? sales_dates?"
   ]
  },
  {
   "cell_type": "code",
   "execution_count": 30,
   "id": "ecdcbb49-0778-4794-b9c4-1f6d354ae147",
   "metadata": {},
   "outputs": [
    {
     "data": {
      "text/html": [
       "<div>\n",
       "<style scoped>\n",
       "    .dataframe tbody tr th:only-of-type {\n",
       "        vertical-align: middle;\n",
       "    }\n",
       "\n",
       "    .dataframe tbody tr th {\n",
       "        vertical-align: top;\n",
       "    }\n",
       "\n",
       "    .dataframe thead th {\n",
       "        text-align: right;\n",
       "    }\n",
       "</style>\n",
       "<table border=\"1\" class=\"dataframe\">\n",
       "  <thead>\n",
       "    <tr style=\"text-align: right;\">\n",
       "      <th></th>\n",
       "      <th>store_id</th>\n",
       "      <th>item_id</th>\n",
       "      <th>sale_id</th>\n",
       "      <th>sale_amount</th>\n",
       "      <th>item_upc14</th>\n",
       "      <th>item_upc12</th>\n",
       "      <th>item_brand</th>\n",
       "      <th>item_name</th>\n",
       "      <th>item_price</th>\n",
       "      <th>store_address</th>\n",
       "      <th>store_zipcode</th>\n",
       "      <th>store_city</th>\n",
       "      <th>store_state</th>\n",
       "    </tr>\n",
       "    <tr>\n",
       "      <th>sale_date</th>\n",
       "      <th></th>\n",
       "      <th></th>\n",
       "      <th></th>\n",
       "      <th></th>\n",
       "      <th></th>\n",
       "      <th></th>\n",
       "      <th></th>\n",
       "      <th></th>\n",
       "      <th></th>\n",
       "      <th></th>\n",
       "      <th></th>\n",
       "      <th></th>\n",
       "      <th></th>\n",
       "    </tr>\n",
       "  </thead>\n",
       "  <tbody>\n",
       "    <tr>\n",
       "      <th>2013-01-01</th>\n",
       "      <td>1</td>\n",
       "      <td>1</td>\n",
       "      <td>1</td>\n",
       "      <td>13</td>\n",
       "      <td>35200264013</td>\n",
       "      <td>35200264013</td>\n",
       "      <td>Riceland</td>\n",
       "      <td>Riceland American Jazmine Rice</td>\n",
       "      <td>0.84</td>\n",
       "      <td>12125 Alamo Ranch Pkwy</td>\n",
       "      <td>78253</td>\n",
       "      <td>San Antonio</td>\n",
       "      <td>TX</td>\n",
       "    </tr>\n",
       "    <tr>\n",
       "      <th>2013-01-01</th>\n",
       "      <td>7</td>\n",
       "      <td>12</td>\n",
       "      <td>211817</td>\n",
       "      <td>26</td>\n",
       "      <td>74676640211</td>\n",
       "      <td>74676640211</td>\n",
       "      <td>Mueller</td>\n",
       "      <td>Mueller Sport Care Basic Support Level Medium ...</td>\n",
       "      <td>8.40</td>\n",
       "      <td>12018 Perrin Beitel Rd</td>\n",
       "      <td>78217</td>\n",
       "      <td>San Antonio</td>\n",
       "      <td>TX</td>\n",
       "    </tr>\n",
       "    <tr>\n",
       "      <th>2013-01-01</th>\n",
       "      <td>7</td>\n",
       "      <td>46</td>\n",
       "      <td>832657</td>\n",
       "      <td>27</td>\n",
       "      <td>35457770664</td>\n",
       "      <td>35457770664</td>\n",
       "      <td>Mama Marys</td>\n",
       "      <td>Pizza Sauce</td>\n",
       "      <td>4.65</td>\n",
       "      <td>12018 Perrin Beitel Rd</td>\n",
       "      <td>78217</td>\n",
       "      <td>San Antonio</td>\n",
       "      <td>TX</td>\n",
       "    </tr>\n",
       "    <tr>\n",
       "      <th>2013-01-01</th>\n",
       "      <td>8</td>\n",
       "      <td>12</td>\n",
       "      <td>213643</td>\n",
       "      <td>54</td>\n",
       "      <td>74676640211</td>\n",
       "      <td>74676640211</td>\n",
       "      <td>Mueller</td>\n",
       "      <td>Mueller Sport Care Basic Support Level Medium ...</td>\n",
       "      <td>8.40</td>\n",
       "      <td>15000 San Pedro Ave</td>\n",
       "      <td>78232</td>\n",
       "      <td>San Antonio</td>\n",
       "      <td>TX</td>\n",
       "    </tr>\n",
       "    <tr>\n",
       "      <th>2013-01-01</th>\n",
       "      <td>9</td>\n",
       "      <td>12</td>\n",
       "      <td>215469</td>\n",
       "      <td>35</td>\n",
       "      <td>74676640211</td>\n",
       "      <td>74676640211</td>\n",
       "      <td>Mueller</td>\n",
       "      <td>Mueller Sport Care Basic Support Level Medium ...</td>\n",
       "      <td>8.40</td>\n",
       "      <td>735 SW Military Dr</td>\n",
       "      <td>78221</td>\n",
       "      <td>San Antonio</td>\n",
       "      <td>TX</td>\n",
       "    </tr>\n",
       "  </tbody>\n",
       "</table>\n",
       "</div>"
      ],
      "text/plain": [
       "            store_id  item_id  sale_id  sale_amount   item_upc14   item_upc12  \\\n",
       "sale_date                                                                       \n",
       "2013-01-01         1        1        1           13  35200264013  35200264013   \n",
       "2013-01-01         7       12   211817           26  74676640211  74676640211   \n",
       "2013-01-01         7       46   832657           27  35457770664  35457770664   \n",
       "2013-01-01         8       12   213643           54  74676640211  74676640211   \n",
       "2013-01-01         9       12   215469           35  74676640211  74676640211   \n",
       "\n",
       "            item_brand                                          item_name  \\\n",
       "sale_date                                                                   \n",
       "2013-01-01    Riceland                     Riceland American Jazmine Rice   \n",
       "2013-01-01     Mueller  Mueller Sport Care Basic Support Level Medium ...   \n",
       "2013-01-01  Mama Marys                                        Pizza Sauce   \n",
       "2013-01-01     Mueller  Mueller Sport Care Basic Support Level Medium ...   \n",
       "2013-01-01     Mueller  Mueller Sport Care Basic Support Level Medium ...   \n",
       "\n",
       "            item_price           store_address  store_zipcode   store_city  \\\n",
       "sale_date                                                                    \n",
       "2013-01-01        0.84  12125 Alamo Ranch Pkwy          78253  San Antonio   \n",
       "2013-01-01        8.40  12018 Perrin Beitel Rd          78217  San Antonio   \n",
       "2013-01-01        4.65  12018 Perrin Beitel Rd          78217  San Antonio   \n",
       "2013-01-01        8.40     15000 San Pedro Ave          78232  San Antonio   \n",
       "2013-01-01        8.40      735 SW Military Dr          78221  San Antonio   \n",
       "\n",
       "           store_state  \n",
       "sale_date               \n",
       "2013-01-01          TX  \n",
       "2013-01-01          TX  \n",
       "2013-01-01          TX  \n",
       "2013-01-01          TX  \n",
       "2013-01-01          TX  "
      ]
     },
     "execution_count": 30,
     "metadata": {},
     "output_type": "execute_result"
    }
   ],
   "source": [
    "df.head()"
   ]
  },
  {
   "cell_type": "code",
   "execution_count": 31,
   "id": "71261555-5af8-4caf-8a59-9013ca27d257",
   "metadata": {},
   "outputs": [
    {
     "data": {
      "text/plain": [
       "10"
      ]
     },
     "execution_count": 31,
     "metadata": {},
     "output_type": "execute_result"
    }
   ],
   "source": [
    "df.store_id.nunique()"
   ]
  },
  {
   "cell_type": "code",
   "execution_count": 32,
   "id": "6aedddbe-7a12-4ac7-9d27-78c38134a985",
   "metadata": {},
   "outputs": [
    {
     "data": {
      "text/plain": [
       "50"
      ]
     },
     "execution_count": 32,
     "metadata": {},
     "output_type": "execute_result"
    }
   ],
   "source": [
    "df.item_id.nunique()"
   ]
  },
  {
   "cell_type": "code",
   "execution_count": 33,
   "id": "dc8ab8af-ced6-4878-b3c8-98856b089697",
   "metadata": {
    "scrolled": true
   },
   "outputs": [
    {
     "data": {
      "text/plain": [
       "913000"
      ]
     },
     "execution_count": 33,
     "metadata": {},
     "output_type": "execute_result"
    }
   ],
   "source": [
    "df.sale_id.nunique()"
   ]
  },
  {
   "cell_type": "code",
   "execution_count": 34,
   "id": "97522f4c-187c-42d7-9fe7-0037ad848fae",
   "metadata": {},
   "outputs": [
    {
     "data": {
      "text/plain": [
       "1826"
      ]
     },
     "execution_count": 34,
     "metadata": {},
     "output_type": "execute_result"
    }
   ],
   "source": [
    "df.index.nunique()"
   ]
  },
  {
   "cell_type": "markdown",
   "id": "05e7b3c4",
   "metadata": {},
   "source": [
    "### Is each store equally represented in this dataset?"
   ]
  },
  {
   "cell_type": "code",
   "execution_count": 35,
   "id": "4df0d00a-90fa-411a-b300-d25e01734faa",
   "metadata": {},
   "outputs": [
    {
     "data": {
      "text/plain": [
       "1     91300\n",
       "7     91300\n",
       "8     91300\n",
       "9     91300\n",
       "10    91300\n",
       "6     91300\n",
       "2     91300\n",
       "5     91300\n",
       "3     91300\n",
       "4     91300\n",
       "Name: store_id, dtype: int64"
      ]
     },
     "execution_count": 35,
     "metadata": {},
     "output_type": "execute_result"
    }
   ],
   "source": [
    "df.store_id.value_counts()"
   ]
  },
  {
   "cell_type": "markdown",
   "id": "71850c3c",
   "metadata": {},
   "source": [
    "### Is each item equally represented in this dataset?"
   ]
  },
  {
   "cell_type": "code",
   "execution_count": 36,
   "id": "85ee0d53",
   "metadata": {},
   "outputs": [
    {
     "data": {
      "text/plain": [
       "1     18260\n",
       "33    18260\n",
       "39    18260\n",
       "31    18260\n",
       "32    18260\n",
       "Name: item_id, dtype: int64"
      ]
     },
     "execution_count": 36,
     "metadata": {},
     "output_type": "execute_result"
    }
   ],
   "source": [
    "df.item_id.value_counts().head()"
   ]
  },
  {
   "cell_type": "markdown",
   "id": "8d134ab8",
   "metadata": {},
   "source": [
    "### Plot target variable over time"
   ]
  },
  {
   "cell_type": "markdown",
   "id": "b2c53898-a203-42b4-9d4e-b75a45cfe3e8",
   "metadata": {},
   "source": [
    "target_variable: sale_amount"
   ]
  },
  {
   "cell_type": "code",
   "execution_count": null,
   "id": "13c5a9df",
   "metadata": {},
   "outputs": [],
   "source": [
    "df.head()"
   ]
  },
  {
   "cell_type": "code",
   "execution_count": 37,
   "id": "7f539f8b",
   "metadata": {},
   "outputs": [
    {
     "data": {
      "image/png": "[encoded data removed]",
      "text/plain": [
       "<Figure size 720x432 with 1 Axes>"
      ]
     },
     "metadata": {},
     "output_type": "display_data"
    }
   ],
   "source": [
    "plt.figure(figsize=(10,6))\n",
    "\n",
    "df.resample('D').mean().sale_amount.plot(label='daily')\n",
    "df.resample('W').mean().sale_amount.plot(label='weekly')\n",
    "df.resample('M').mean().sale_amount.plot(label='monthly')\n",
    "df.resample('Y').mean().sale_amount.plot(label='yearly')\n",
    "\n",
    "\n",
    "plt.title('sale amount over time')\n",
    "plt.legend()\n",
    "plt.show()"
   ]
  },
  {
   "cell_type": "markdown",
   "id": "31a38bc4",
   "metadata": {},
   "source": [
    "### what's the first sale date for each store/item combination?"
   ]
  },
  {
   "cell_type": "code",
   "execution_count": null,
   "id": "8bc6030a-c97d-40ed-9722-f3196c21bb75",
   "metadata": {},
   "outputs": [],
   "source": [
    "# df.groupby(['store','item']).index"
   ]
  },
  {
   "cell_type": "code",
   "execution_count": 38,
   "id": "0ed2781a-cf18-4949-baa1-a44a92650bf8",
   "metadata": {},
   "outputs": [
    {
     "data": {
      "text/plain": [
       "store_id  item_id\n",
       "1         1         2013-01-01\n",
       "          2         2013-01-01\n",
       "          3         2013-01-01\n",
       "          4         2013-01-01\n",
       "          5         2013-01-01\n",
       "                       ...    \n",
       "10        46        2013-01-01\n",
       "          47        2013-01-01\n",
       "          48        2013-01-01\n",
       "          49        2013-01-01\n",
       "          50        2013-01-01\n",
       "Name: sale_date, Length: 500, dtype: datetime64[ns]"
      ]
     },
     "execution_count": 38,
     "metadata": {},
     "output_type": "execute_result"
    }
   ],
   "source": [
    "df.reset_index().groupby(['store_id','item_id']).sale_date.min()"
   ]
  },
  {
   "cell_type": "code",
   "execution_count": 39,
   "id": "c7c0f8f1",
   "metadata": {},
   "outputs": [
    {
     "data": {
      "text/plain": [
       "2013-01-01    500\n",
       "Name: sale_date, dtype: int64"
      ]
     },
     "execution_count": 39,
     "metadata": {},
     "output_type": "execute_result"
    }
   ],
   "source": [
    "df.reset_index().groupby(['store_id','item_id']).sale_date.min().value_counts()"
   ]
  },
  {
   "cell_type": "markdown",
   "id": "b4109768",
   "metadata": {},
   "source": [
    "### what's the last sale date for each store/item combination?"
   ]
  },
  {
   "cell_type": "code",
   "execution_count": 41,
   "id": "59f6fb8a",
   "metadata": {},
   "outputs": [
    {
     "data": {
      "text/plain": [
       "store_id  item_id\n",
       "1         1         2017-12-31\n",
       "          2         2017-12-31\n",
       "          3         2017-12-31\n",
       "          4         2017-12-31\n",
       "          5         2017-12-31\n",
       "                       ...    \n",
       "10        46        2017-12-31\n",
       "          47        2017-12-31\n",
       "          48        2017-12-31\n",
       "          49        2017-12-31\n",
       "          50        2017-12-31\n",
       "Name: sale_date, Length: 500, dtype: datetime64[ns]"
      ]
     },
     "execution_count": 41,
     "metadata": {},
     "output_type": "execute_result"
    }
   ],
   "source": [
    "df.reset_index().groupby(['store_id','item_id']).sale_date.max()"
   ]
  },
  {
   "cell_type": "code",
   "execution_count": 42,
   "id": "9c02cd2d",
   "metadata": {},
   "outputs": [
    {
     "data": {
      "text/plain": [
       "2017-12-31    500\n",
       "Name: sale_date, dtype: int64"
      ]
     },
     "execution_count": 42,
     "metadata": {},
     "output_type": "execute_result"
    }
   ],
   "source": [
    "df.reset_index().groupby(['store_id','item_id']).sale_date.max().value_counts()"
   ]
  },
  {
   "cell_type": "markdown",
   "id": "f02fdcdf",
   "metadata": {},
   "source": [
    "### how many different days were things sold for each store/item combination?"
   ]
  },
  {
   "cell_type": "code",
   "execution_count": 43,
   "id": "aeb25b1d",
   "metadata": {},
   "outputs": [
    {
     "data": {
      "text/plain": [
       "store_id  item_id\n",
       "1         1          1826\n",
       "          2          1826\n",
       "          3          1826\n",
       "          4          1826\n",
       "          5          1826\n",
       "                     ... \n",
       "10        46         1826\n",
       "          47         1826\n",
       "          48         1826\n",
       "          49         1826\n",
       "          50         1826\n",
       "Name: sale_date, Length: 500, dtype: int64"
      ]
     },
     "execution_count": 43,
     "metadata": {},
     "output_type": "execute_result"
    }
   ],
   "source": [
    "df.reset_index().groupby(['store_id','item_id']).sale_date.count()"
   ]
  },
  {
   "cell_type": "code",
   "execution_count": 44,
   "id": "d4643e8f",
   "metadata": {},
   "outputs": [
    {
     "data": {
      "text/plain": [
       "1826    500\n",
       "Name: sale_date, dtype: int64"
      ]
     },
     "execution_count": 44,
     "metadata": {},
     "output_type": "execute_result"
    }
   ],
   "source": [
    "df.reset_index().groupby(['store_id','item_id']).sale_date.count().value_counts()"
   ]
  },
  {
   "cell_type": "code",
   "execution_count": 45,
   "id": "3bd9521e-edb2-4a38-85fc-0ca99bbb7e78",
   "metadata": {},
   "outputs": [
    {
     "data": {
      "text/html": [
       "<div>\n",
       "<style scoped>\n",
       "    .dataframe tbody tr th:only-of-type {\n",
       "        vertical-align: middle;\n",
       "    }\n",
       "\n",
       "    .dataframe tbody tr th {\n",
       "        vertical-align: top;\n",
       "    }\n",
       "\n",
       "    .dataframe thead th {\n",
       "        text-align: right;\n",
       "    }\n",
       "</style>\n",
       "<table border=\"1\" class=\"dataframe\">\n",
       "  <thead>\n",
       "    <tr style=\"text-align: right;\">\n",
       "      <th></th>\n",
       "      <th>store_id</th>\n",
       "      <th>item_id</th>\n",
       "      <th>sale_id</th>\n",
       "      <th>sale_amount</th>\n",
       "      <th>item_upc14</th>\n",
       "      <th>item_upc12</th>\n",
       "      <th>item_brand</th>\n",
       "      <th>item_name</th>\n",
       "      <th>item_price</th>\n",
       "      <th>store_address</th>\n",
       "      <th>store_zipcode</th>\n",
       "      <th>store_city</th>\n",
       "      <th>store_state</th>\n",
       "    </tr>\n",
       "    <tr>\n",
       "      <th>sale_date</th>\n",
       "      <th></th>\n",
       "      <th></th>\n",
       "      <th></th>\n",
       "      <th></th>\n",
       "      <th></th>\n",
       "      <th></th>\n",
       "      <th></th>\n",
       "      <th></th>\n",
       "      <th></th>\n",
       "      <th></th>\n",
       "      <th></th>\n",
       "      <th></th>\n",
       "      <th></th>\n",
       "    </tr>\n",
       "  </thead>\n",
       "  <tbody>\n",
       "    <tr>\n",
       "      <th>2013-01-01</th>\n",
       "      <td>1</td>\n",
       "      <td>1</td>\n",
       "      <td>1</td>\n",
       "      <td>13</td>\n",
       "      <td>35200264013</td>\n",
       "      <td>35200264013</td>\n",
       "      <td>Riceland</td>\n",
       "      <td>Riceland American Jazmine Rice</td>\n",
       "      <td>0.84</td>\n",
       "      <td>12125 Alamo Ranch Pkwy</td>\n",
       "      <td>78253</td>\n",
       "      <td>San Antonio</td>\n",
       "      <td>TX</td>\n",
       "    </tr>\n",
       "    <tr>\n",
       "      <th>2013-01-01</th>\n",
       "      <td>7</td>\n",
       "      <td>12</td>\n",
       "      <td>211817</td>\n",
       "      <td>26</td>\n",
       "      <td>74676640211</td>\n",
       "      <td>74676640211</td>\n",
       "      <td>Mueller</td>\n",
       "      <td>Mueller Sport Care Basic Support Level Medium ...</td>\n",
       "      <td>8.40</td>\n",
       "      <td>12018 Perrin Beitel Rd</td>\n",
       "      <td>78217</td>\n",
       "      <td>San Antonio</td>\n",
       "      <td>TX</td>\n",
       "    </tr>\n",
       "    <tr>\n",
       "      <th>2013-01-01</th>\n",
       "      <td>7</td>\n",
       "      <td>46</td>\n",
       "      <td>832657</td>\n",
       "      <td>27</td>\n",
       "      <td>35457770664</td>\n",
       "      <td>35457770664</td>\n",
       "      <td>Mama Marys</td>\n",
       "      <td>Pizza Sauce</td>\n",
       "      <td>4.65</td>\n",
       "      <td>12018 Perrin Beitel Rd</td>\n",
       "      <td>78217</td>\n",
       "      <td>San Antonio</td>\n",
       "      <td>TX</td>\n",
       "    </tr>\n",
       "    <tr>\n",
       "      <th>2013-01-01</th>\n",
       "      <td>8</td>\n",
       "      <td>12</td>\n",
       "      <td>213643</td>\n",
       "      <td>54</td>\n",
       "      <td>74676640211</td>\n",
       "      <td>74676640211</td>\n",
       "      <td>Mueller</td>\n",
       "      <td>Mueller Sport Care Basic Support Level Medium ...</td>\n",
       "      <td>8.40</td>\n",
       "      <td>15000 San Pedro Ave</td>\n",
       "      <td>78232</td>\n",
       "      <td>San Antonio</td>\n",
       "      <td>TX</td>\n",
       "    </tr>\n",
       "    <tr>\n",
       "      <th>2013-01-01</th>\n",
       "      <td>9</td>\n",
       "      <td>12</td>\n",
       "      <td>215469</td>\n",
       "      <td>35</td>\n",
       "      <td>74676640211</td>\n",
       "      <td>74676640211</td>\n",
       "      <td>Mueller</td>\n",
       "      <td>Mueller Sport Care Basic Support Level Medium ...</td>\n",
       "      <td>8.40</td>\n",
       "      <td>735 SW Military Dr</td>\n",
       "      <td>78221</td>\n",
       "      <td>San Antonio</td>\n",
       "      <td>TX</td>\n",
       "    </tr>\n",
       "  </tbody>\n",
       "</table>\n",
       "</div>"
      ],
      "text/plain": [
       "            store_id  item_id  sale_id  sale_amount   item_upc14   item_upc12  \\\n",
       "sale_date                                                                       \n",
       "2013-01-01         1        1        1           13  35200264013  35200264013   \n",
       "2013-01-01         7       12   211817           26  74676640211  74676640211   \n",
       "2013-01-01         7       46   832657           27  35457770664  35457770664   \n",
       "2013-01-01         8       12   213643           54  74676640211  74676640211   \n",
       "2013-01-01         9       12   215469           35  74676640211  74676640211   \n",
       "\n",
       "            item_brand                                          item_name  \\\n",
       "sale_date                                                                   \n",
       "2013-01-01    Riceland                     Riceland American Jazmine Rice   \n",
       "2013-01-01     Mueller  Mueller Sport Care Basic Support Level Medium ...   \n",
       "2013-01-01  Mama Marys                                        Pizza Sauce   \n",
       "2013-01-01     Mueller  Mueller Sport Care Basic Support Level Medium ...   \n",
       "2013-01-01     Mueller  Mueller Sport Care Basic Support Level Medium ...   \n",
       "\n",
       "            item_price           store_address  store_zipcode   store_city  \\\n",
       "sale_date                                                                    \n",
       "2013-01-01        0.84  12125 Alamo Ranch Pkwy          78253  San Antonio   \n",
       "2013-01-01        8.40  12018 Perrin Beitel Rd          78217  San Antonio   \n",
       "2013-01-01        4.65  12018 Perrin Beitel Rd          78217  San Antonio   \n",
       "2013-01-01        8.40     15000 San Pedro Ave          78232  San Antonio   \n",
       "2013-01-01        8.40      735 SW Military Dr          78221  San Antonio   \n",
       "\n",
       "           store_state  \n",
       "sale_date               \n",
       "2013-01-01          TX  \n",
       "2013-01-01          TX  \n",
       "2013-01-01          TX  \n",
       "2013-01-01          TX  \n",
       "2013-01-01          TX  "
      ]
     },
     "execution_count": 45,
     "metadata": {},
     "output_type": "execute_result"
    }
   ],
   "source": [
    "df.head()"
   ]
  },
  {
   "cell_type": "markdown",
   "id": "80b23404",
   "metadata": {},
   "source": [
    "## Data Splitting\n",
    "Splitting time series data into train, test, and validate sets is a little trickier than with previous data we have looked at. Because the data points have an order to them, we cannot simply assign each point randomly to train, validate, or test.\n",
    "\n",
    "Ideally all splits should contain one season's worth of data. There are several methods we can use to split our time series data:\n",
    "\n",
    "- Human-based: use, for example, the last year in the dataset as test split\n",
    "- Percentage based: use the last 20% as test\n",
    "- Cross Validate: break data up into slices and use successive slices as train and test repeatedly (sklearn.model_selection.TimeSeriesSplit)\n",
    "\n",
    "We'll explore data splitting in more depth in the next lesson.\n",
    "\n"
   ]
  },
  {
   "cell_type": "code",
   "execution_count": null,
   "id": "33421d87",
   "metadata": {},
   "outputs": [],
   "source": []
  }
 ],
 "metadata": {
  "kernelspec": {
   "display_name": "Python 3 (ipykernel)",
   "language": "python",
   "name": "python3"
  },
  "language_info": {
   "codemirror_mode": {
    "name": "ipython",
    "version": 3
   },
   "file_extension": ".py",
   "mimetype": "text/x-python",
   "name": "python",
   "nbconvert_exporter": "python",
   "pygments_lexer": "ipython3",
   "version": "3.9.12"
  },
  "toc": {
   "base_numbering": 1,
   "nav_menu": {},
   "number_sections": false,
   "sideBar": true,
   "skip_h1_title": true,
   "title_cell": "Table of Contents",
   "title_sidebar": "Contents",
   "toc_cell": false,
   "toc_position": {},
   "toc_section_display": true,
   "toc_window_display": false
  }
 },
 "nbformat": 4,
 "nbformat_minor": 5
}
