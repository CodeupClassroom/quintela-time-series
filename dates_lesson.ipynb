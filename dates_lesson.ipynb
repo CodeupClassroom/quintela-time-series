{
 "cells": [
  {
   "cell_type": "markdown",
   "id": "45906b26",
   "metadata": {},
   "source": [
    "# Working With Dates in Pandas"
   ]
  },
  {
   "cell_type": "markdown",
   "id": "bdd609ec",
   "metadata": {},
   "source": [
    "What is it?\n",
    "- this is focusing on all the ways we can manipulate dates in pandas\n",
    "\n",
    "Why do we care?\n",
    "- being able to manipulate dates will allow us to prepare the data to analyze trends over time"
   ]
  },
  {
   "cell_type": "code",
   "execution_count": 1,
   "id": "14d2adb4",
   "metadata": {},
   "outputs": [],
   "source": [
    "import pandas as pd\n",
    "import numpy as np\n",
    "\n",
    "import matplotlib.pyplot as plt"
   ]
  },
  {
   "cell_type": "markdown",
   "id": "f54c36ad",
   "metadata": {},
   "source": [
    "## Create your own date"
   ]
  },
  {
   "cell_type": "markdown",
   "id": "8c407a12",
   "metadata": {},
   "source": [
    "#### using pandas"
   ]
  },
  {
   "cell_type": "code",
   "execution_count": 3,
   "id": "b38f96a0",
   "metadata": {},
   "outputs": [
    {
     "data": {
      "text/plain": [
       "Timestamp('2020-03-12 00:00:00')"
      ]
     },
     "execution_count": 3,
     "metadata": {},
     "output_type": "execute_result"
    }
   ],
   "source": [
    "#with Timestamp()\n",
    "date = pd.Timestamp(month=3, day=12, year=2020)\n",
    "date"
   ]
  },
  {
   "cell_type": "code",
   "execution_count": 4,
   "id": "d84ab788",
   "metadata": {},
   "outputs": [
    {
     "data": {
      "text/plain": [
       "pandas._libs.tslibs.timestamps.Timestamp"
      ]
     },
     "execution_count": 4,
     "metadata": {},
     "output_type": "execute_result"
    }
   ],
   "source": [
    "#datatype\n",
    "type(date)"
   ]
  },
  {
   "cell_type": "markdown",
   "id": "71c34911",
   "metadata": {},
   "source": [
    "#### using datetime module from datetime library"
   ]
  },
  {
   "cell_type": "code",
   "execution_count": 5,
   "id": "2b108f08",
   "metadata": {},
   "outputs": [],
   "source": [
    "#import\n",
    "from datetime import datetime"
   ]
  },
  {
   "cell_type": "code",
   "execution_count": 7,
   "id": "8a76627d",
   "metadata": {},
   "outputs": [
    {
     "data": {
      "text/plain": [
       "datetime.datetime(2020, 2, 12, 0, 0)"
      ]
     },
     "execution_count": 7,
     "metadata": {},
     "output_type": "execute_result"
    }
   ],
   "source": [
    "#with datetime()\n",
    "date = datetime(month=2, day=12, year=2020)\n",
    "date"
   ]
  },
  {
   "cell_type": "code",
   "execution_count": 8,
   "id": "d5b536d7",
   "metadata": {},
   "outputs": [
    {
     "data": {
      "text/plain": [
       "datetime.datetime"
      ]
     },
     "execution_count": 8,
     "metadata": {},
     "output_type": "execute_result"
    }
   ],
   "source": [
    "#datatype\n",
    "type(date)"
   ]
  },
  {
   "cell_type": "markdown",
   "id": "1b5b4320",
   "metadata": {},
   "source": [
    "#### calculate now (using datetime module)"
   ]
  },
  {
   "cell_type": "code",
   "execution_count": 15,
   "id": "9c574bde",
   "metadata": {},
   "outputs": [
    {
     "data": {
      "text/plain": [
       "datetime.datetime(2023, 7, 26, 10, 39, 52, 78781)"
      ]
     },
     "execution_count": 15,
     "metadata": {},
     "output_type": "execute_result"
    }
   ],
   "source": [
    "today = datetime.now()\n",
    "today"
   ]
  },
  {
   "cell_type": "code",
   "execution_count": 16,
   "id": "fb1e3610",
   "metadata": {},
   "outputs": [
    {
     "data": {
      "text/plain": [
       "datetime.datetime"
      ]
     },
     "execution_count": 16,
     "metadata": {},
     "output_type": "execute_result"
    }
   ],
   "source": [
    "#datatype\n",
    "type(date)"
   ]
  },
  {
   "cell_type": "markdown",
   "id": "e028db2b",
   "metadata": {},
   "source": [
    "## Add/subtract dates"
   ]
  },
  {
   "cell_type": "markdown",
   "id": "5f90072e",
   "metadata": {},
   "source": [
    "#### subtract two dates"
   ]
  },
  {
   "cell_type": "code",
   "execution_count": 17,
   "id": "09fed5d6",
   "metadata": {},
   "outputs": [
    {
     "data": {
      "text/plain": [
       "datetime.datetime(2023, 7, 26, 10, 39, 52, 78781)"
      ]
     },
     "execution_count": 17,
     "metadata": {},
     "output_type": "execute_result"
    }
   ],
   "source": [
    "today"
   ]
  },
  {
   "cell_type": "code",
   "execution_count": 18,
   "id": "f0890206",
   "metadata": {},
   "outputs": [
    {
     "data": {
      "text/plain": [
       "datetime.datetime(2020, 2, 12, 0, 0)"
      ]
     },
     "execution_count": 18,
     "metadata": {},
     "output_type": "execute_result"
    }
   ],
   "source": [
    "date"
   ]
  },
  {
   "cell_type": "code",
   "execution_count": 22,
   "id": "3bd41f74",
   "metadata": {},
   "outputs": [
    {
     "data": {
      "text/plain": [
       "datetime.timedelta(days=1260, seconds=38392, microseconds=78781)"
      ]
     },
     "execution_count": 22,
     "metadata": {},
     "output_type": "execute_result"
    }
   ],
   "source": [
    "today - date"
   ]
  },
  {
   "cell_type": "markdown",
   "id": "d5004e8d",
   "metadata": {},
   "source": [
    "#### use Timedelta to alter a date"
   ]
  },
  {
   "cell_type": "code",
   "execution_count": 25,
   "id": "c8bafa4e",
   "metadata": {},
   "outputs": [
    {
     "data": {
      "text/plain": [
       "datetime.datetime(2023, 8, 5, 10, 39, 52, 78781)"
      ]
     },
     "execution_count": 25,
     "metadata": {},
     "output_type": "execute_result"
    }
   ],
   "source": [
    "today + pd.Timedelta(days=10)"
   ]
  },
  {
   "cell_type": "markdown",
   "id": "85b1a110",
   "metadata": {},
   "source": [
    "## Transform to date format"
   ]
  },
  {
   "cell_type": "markdown",
   "id": "808ba06c",
   "metadata": {},
   "source": [
    "### One date"
   ]
  },
  {
   "cell_type": "code",
   "execution_count": 26,
   "id": "46a87ccf",
   "metadata": {},
   "outputs": [],
   "source": [
    "date = 'Jan 1 1970'"
   ]
  },
  {
   "cell_type": "code",
   "execution_count": 27,
   "id": "b26e0f4c",
   "metadata": {},
   "outputs": [
    {
     "data": {
      "text/plain": [
       "str"
      ]
     },
     "execution_count": 27,
     "metadata": {},
     "output_type": "execute_result"
    }
   ],
   "source": [
    "#datatype\n",
    "type(date)"
   ]
  },
  {
   "cell_type": "code",
   "execution_count": 30,
   "id": "6448efb4",
   "metadata": {},
   "outputs": [
    {
     "data": {
      "text/plain": [
       "Timestamp('1970-01-01 00:00:00')"
      ]
     },
     "execution_count": 30,
     "metadata": {},
     "output_type": "execute_result"
    }
   ],
   "source": [
    "#use pd.to_datetime() to convert\n",
    "date = pd.to_datetime(date)\n",
    "date"
   ]
  },
  {
   "cell_type": "code",
   "execution_count": 31,
   "id": "9f8944b4",
   "metadata": {},
   "outputs": [
    {
     "data": {
      "text/plain": [
       "pandas._libs.tslibs.timestamps.Timestamp"
      ]
     },
     "execution_count": 31,
     "metadata": {},
     "output_type": "execute_result"
    }
   ],
   "source": [
    "#datatype\n",
    "type(date)"
   ]
  },
  {
   "cell_type": "markdown",
   "id": "8ed500df",
   "metadata": {},
   "source": [
    "### One date, but confuse pandas"
   ]
  },
  {
   "cell_type": "code",
   "execution_count": 57,
   "id": "d07c9210",
   "metadata": {},
   "outputs": [],
   "source": [
    "date = 'Jan:7:1970'"
   ]
  },
  {
   "cell_type": "code",
   "execution_count": 58,
   "id": "df975872",
   "metadata": {},
   "outputs": [
    {
     "data": {
      "text/plain": [
       "str"
      ]
     },
     "execution_count": 58,
     "metadata": {},
     "output_type": "execute_result"
    }
   ],
   "source": [
    "#datatype\n",
    "type(date)"
   ]
  },
  {
   "cell_type": "code",
   "execution_count": 59,
   "id": "fca2920e",
   "metadata": {},
   "outputs": [],
   "source": [
    "#use pd.to_datetime() to convert\n",
    "# pd.to_datetime(date)"
   ]
  },
  {
   "cell_type": "markdown",
   "id": "2a2fc252",
   "metadata": {},
   "source": [
    "We can fix this error using the `format` argument.\n",
    "\n",
    "For info on formatting: https://docs.python.org/3/library/datetime.html#strftime-and-strptime-behavior"
   ]
  },
  {
   "cell_type": "code",
   "execution_count": 60,
   "id": "84b92c68",
   "metadata": {},
   "outputs": [
    {
     "data": {
      "text/plain": [
       "Timestamp('1970-01-07 00:00:00')"
      ]
     },
     "execution_count": 60,
     "metadata": {},
     "output_type": "execute_result"
    }
   ],
   "source": [
    "#use format arguement\n",
    "date = pd.to_datetime(date, format='%b:%d:%Y')\n",
    "date"
   ]
  },
  {
   "cell_type": "markdown",
   "id": "0797ab64",
   "metadata": {},
   "source": [
    "#### using `strftime` to reformat date to more readable version\n",
    "- can think of it as \"string format time\""
   ]
  },
  {
   "cell_type": "code",
   "execution_count": 61,
   "id": "3238b618",
   "metadata": {},
   "outputs": [
    {
     "data": {
      "text/plain": [
       "'01 ---- 07'"
      ]
     },
     "execution_count": 61,
     "metadata": {},
     "output_type": "execute_result"
    }
   ],
   "source": [
    "date = date.strftime('%m ---- %d')\n",
    "date"
   ]
  },
  {
   "cell_type": "code",
   "execution_count": 62,
   "id": "33df2292",
   "metadata": {},
   "outputs": [
    {
     "data": {
      "text/plain": [
       "str"
      ]
     },
     "execution_count": 62,
     "metadata": {},
     "output_type": "execute_result"
    }
   ],
   "source": [
    "#datatype\n",
    "type(date)"
   ]
  },
  {
   "cell_type": "markdown",
   "id": "438721b8",
   "metadata": {},
   "source": [
    "### Now a whole columns of dates"
   ]
  },
  {
   "cell_type": "markdown",
   "id": "d43d50e7",
   "metadata": {},
   "source": [
    "Data: the amount of coffee consumed per day"
   ]
  },
  {
   "cell_type": "code",
   "execution_count": 63,
   "id": "b6f7272c",
   "metadata": {},
   "outputs": [],
   "source": [
    "url = \"https://gist.githubusercontent.com/ryanorsinger/\\\n",
    "b309f8db19e0ca71b213d4877d835e77/raw/f5841017310e2f4ca070b313529ceec2375336ba/coffee_consumption.csv\"\n",
    "df = pd.read_csv(url)"
   ]
  },
  {
   "cell_type": "code",
   "execution_count": 65,
   "id": "9c508055",
   "metadata": {},
   "outputs": [
    {
     "data": {
      "text/html": [
       "<div>\n",
       "<style scoped>\n",
       "    .dataframe tbody tr th:only-of-type {\n",
       "        vertical-align: middle;\n",
       "    }\n",
       "\n",
       "    .dataframe tbody tr th {\n",
       "        vertical-align: top;\n",
       "    }\n",
       "\n",
       "    .dataframe thead th {\n",
       "        text-align: right;\n",
       "    }\n",
       "</style>\n",
       "<table border=\"1\" class=\"dataframe\">\n",
       "  <thead>\n",
       "    <tr style=\"text-align: right;\">\n",
       "      <th></th>\n",
       "      <th>date</th>\n",
       "      <th>coffee_consumption</th>\n",
       "    </tr>\n",
       "  </thead>\n",
       "  <tbody>\n",
       "    <tr>\n",
       "      <th>0</th>\n",
       "      <td>2019-01-01</td>\n",
       "      <td>14.301915</td>\n",
       "    </tr>\n",
       "    <tr>\n",
       "      <th>1</th>\n",
       "      <td>2019-01-02</td>\n",
       "      <td>12.905900</td>\n",
       "    </tr>\n",
       "    <tr>\n",
       "      <th>2</th>\n",
       "      <td>2019-01-03</td>\n",
       "      <td>10.046015</td>\n",
       "    </tr>\n",
       "    <tr>\n",
       "      <th>3</th>\n",
       "      <td>2019-01-04</td>\n",
       "      <td>6.354805</td>\n",
       "    </tr>\n",
       "    <tr>\n",
       "      <th>4</th>\n",
       "      <td>2019-01-07</td>\n",
       "      <td>8.545563</td>\n",
       "    </tr>\n",
       "  </tbody>\n",
       "</table>\n",
       "</div>"
      ],
      "text/plain": [
       "         date  coffee_consumption\n",
       "0  2019-01-01           14.301915\n",
       "1  2019-01-02           12.905900\n",
       "2  2019-01-03           10.046015\n",
       "3  2019-01-04            6.354805\n",
       "4  2019-01-07            8.545563"
      ]
     },
     "execution_count": 65,
     "metadata": {},
     "output_type": "execute_result"
    }
   ],
   "source": [
    "#look at data\n",
    "df.head()"
   ]
  },
  {
   "cell_type": "code",
   "execution_count": 66,
   "id": "9aece94f",
   "metadata": {},
   "outputs": [
    {
     "data": {
      "text/plain": [
       "date                   object\n",
       "coffee_consumption    float64\n",
       "dtype: object"
      ]
     },
     "execution_count": 66,
     "metadata": {},
     "output_type": "execute_result"
    }
   ],
   "source": [
    "#datatypes\n",
    "df.dtypes"
   ]
  },
  {
   "cell_type": "code",
   "execution_count": 67,
   "id": "ab45df35",
   "metadata": {},
   "outputs": [
    {
     "data": {
      "text/plain": [
       "0     2019-01-01\n",
       "1     2019-01-02\n",
       "2     2019-01-03\n",
       "3     2019-01-04\n",
       "4     2019-01-07\n",
       "         ...    \n",
       "256   2019-12-25\n",
       "257   2019-12-26\n",
       "258   2019-12-27\n",
       "259   2019-12-30\n",
       "260   2019-12-31\n",
       "Name: date, Length: 261, dtype: datetime64[ns]"
      ]
     },
     "execution_count": 67,
     "metadata": {},
     "output_type": "execute_result"
    }
   ],
   "source": [
    "#use pd.to_datetime() to convert\n",
    "pd.to_datetime(df.date)"
   ]
  },
  {
   "cell_type": "code",
   "execution_count": 73,
   "id": "dd676fcb",
   "metadata": {},
   "outputs": [],
   "source": [
    "#can also use .astype() to convert\n",
    "df.date = df.date.astype('datetime64')"
   ]
  },
  {
   "cell_type": "markdown",
   "id": "3a36d05f",
   "metadata": {},
   "source": [
    "<div class=\"alert alert-block alert-info\"> <b>NOTE:</b> use pd.to_datetime when you have weird dates, so you can use the format argument </div>"
   ]
  },
  {
   "cell_type": "code",
   "execution_count": 75,
   "id": "63a498c9",
   "metadata": {},
   "outputs": [
    {
     "data": {
      "text/plain": [
       "date                  datetime64[ns]\n",
       "coffee_consumption           float64\n",
       "dtype: object"
      ]
     },
     "execution_count": 75,
     "metadata": {},
     "output_type": "execute_result"
    }
   ],
   "source": [
    "#datatypes\n",
    "df.dtypes"
   ]
  },
  {
   "cell_type": "markdown",
   "id": "9a040d94",
   "metadata": {},
   "source": [
    "## Now that they are in a date format, let's manipulate them"
   ]
  },
  {
   "cell_type": "code",
   "execution_count": 76,
   "id": "237302cf",
   "metadata": {},
   "outputs": [
    {
     "data": {
      "text/html": [
       "<div>\n",
       "<style scoped>\n",
       "    .dataframe tbody tr th:only-of-type {\n",
       "        vertical-align: middle;\n",
       "    }\n",
       "\n",
       "    .dataframe tbody tr th {\n",
       "        vertical-align: top;\n",
       "    }\n",
       "\n",
       "    .dataframe thead th {\n",
       "        text-align: right;\n",
       "    }\n",
       "</style>\n",
       "<table border=\"1\" class=\"dataframe\">\n",
       "  <thead>\n",
       "    <tr style=\"text-align: right;\">\n",
       "      <th></th>\n",
       "      <th>date</th>\n",
       "      <th>coffee_consumption</th>\n",
       "    </tr>\n",
       "  </thead>\n",
       "  <tbody>\n",
       "    <tr>\n",
       "      <th>0</th>\n",
       "      <td>2019-01-01</td>\n",
       "      <td>14.301915</td>\n",
       "    </tr>\n",
       "    <tr>\n",
       "      <th>1</th>\n",
       "      <td>2019-01-02</td>\n",
       "      <td>12.905900</td>\n",
       "    </tr>\n",
       "    <tr>\n",
       "      <th>2</th>\n",
       "      <td>2019-01-03</td>\n",
       "      <td>10.046015</td>\n",
       "    </tr>\n",
       "    <tr>\n",
       "      <th>3</th>\n",
       "      <td>2019-01-04</td>\n",
       "      <td>6.354805</td>\n",
       "    </tr>\n",
       "    <tr>\n",
       "      <th>4</th>\n",
       "      <td>2019-01-07</td>\n",
       "      <td>8.545563</td>\n",
       "    </tr>\n",
       "  </tbody>\n",
       "</table>\n",
       "</div>"
      ],
      "text/plain": [
       "        date  coffee_consumption\n",
       "0 2019-01-01           14.301915\n",
       "1 2019-01-02           12.905900\n",
       "2 2019-01-03           10.046015\n",
       "3 2019-01-04            6.354805\n",
       "4 2019-01-07            8.545563"
      ]
     },
     "execution_count": 76,
     "metadata": {},
     "output_type": "execute_result"
    }
   ],
   "source": [
    "df.head()"
   ]
  },
  {
   "cell_type": "markdown",
   "id": "e4c6c72f",
   "metadata": {},
   "source": [
    "### extract pieces of the date"
   ]
  },
  {
   "cell_type": "markdown",
   "id": "d9f9b57f",
   "metadata": {},
   "source": [
    "<div class=\"alert alert-block alert-info\"> <b>NOTE:</b> use <code>.dt</code> when using datetime methods/attributes on a series (just like using <code>.str</code>when using string functions) </div>"
   ]
  },
  {
   "cell_type": "markdown",
   "id": "ebe680af",
   "metadata": {},
   "source": [
    "the documentation: https://pandas.pydata.org/docs/reference/api/pandas.DatetimeIndex.html"
   ]
  },
  {
   "cell_type": "code",
   "execution_count": 80,
   "id": "07b07a25",
   "metadata": {},
   "outputs": [
    {
     "data": {
      "text/plain": [
       "0      2019\n",
       "1      2019\n",
       "2      2019\n",
       "3      2019\n",
       "4      2019\n",
       "       ... \n",
       "256    2019\n",
       "257    2019\n",
       "258    2019\n",
       "259    2019\n",
       "260    2019\n",
       "Name: date, Length: 261, dtype: int64"
      ]
     },
     "execution_count": 80,
     "metadata": {},
     "output_type": "execute_result"
    }
   ],
   "source": [
    "df.date.dt.year"
   ]
  },
  {
   "cell_type": "code",
   "execution_count": 81,
   "id": "19b5bfc2",
   "metadata": {},
   "outputs": [
    {
     "data": {
      "text/plain": [
       "0      1\n",
       "1      2\n",
       "2      3\n",
       "3      4\n",
       "4      0\n",
       "      ..\n",
       "256    2\n",
       "257    3\n",
       "258    4\n",
       "259    0\n",
       "260    1\n",
       "Name: date, Length: 261, dtype: int64"
      ]
     },
     "execution_count": 81,
     "metadata": {},
     "output_type": "execute_result"
    }
   ],
   "source": [
    "df.date.dt.day_of_week"
   ]
  },
  {
   "cell_type": "code",
   "execution_count": 85,
   "id": "f9abb229",
   "metadata": {},
   "outputs": [
    {
     "data": {
      "text/plain": [
       "0       1\n",
       "1       2\n",
       "2       3\n",
       "3       4\n",
       "4       7\n",
       "       ..\n",
       "256    25\n",
       "257    26\n",
       "258    27\n",
       "259    30\n",
       "260    31\n",
       "Name: date, Length: 261, dtype: int64"
      ]
     },
     "execution_count": 85,
     "metadata": {},
     "output_type": "execute_result"
    }
   ],
   "source": [
    "df.date.dt.day"
   ]
  },
  {
   "cell_type": "markdown",
   "id": "be308997",
   "metadata": {},
   "source": [
    "### add them back to our initial dataframe"
   ]
  },
  {
   "cell_type": "code",
   "execution_count": 88,
   "id": "9b783bb7",
   "metadata": {},
   "outputs": [
    {
     "data": {
      "text/html": [
       "<div>\n",
       "<style scoped>\n",
       "    .dataframe tbody tr th:only-of-type {\n",
       "        vertical-align: middle;\n",
       "    }\n",
       "\n",
       "    .dataframe tbody tr th {\n",
       "        vertical-align: top;\n",
       "    }\n",
       "\n",
       "    .dataframe thead th {\n",
       "        text-align: right;\n",
       "    }\n",
       "</style>\n",
       "<table border=\"1\" class=\"dataframe\">\n",
       "  <thead>\n",
       "    <tr style=\"text-align: right;\">\n",
       "      <th></th>\n",
       "      <th>date</th>\n",
       "      <th>coffee_consumption</th>\n",
       "    </tr>\n",
       "  </thead>\n",
       "  <tbody>\n",
       "    <tr>\n",
       "      <th>0</th>\n",
       "      <td>2019-01-01</td>\n",
       "      <td>14.301915</td>\n",
       "    </tr>\n",
       "    <tr>\n",
       "      <th>1</th>\n",
       "      <td>2019-01-02</td>\n",
       "      <td>12.905900</td>\n",
       "    </tr>\n",
       "    <tr>\n",
       "      <th>2</th>\n",
       "      <td>2019-01-03</td>\n",
       "      <td>10.046015</td>\n",
       "    </tr>\n",
       "    <tr>\n",
       "      <th>3</th>\n",
       "      <td>2019-01-04</td>\n",
       "      <td>6.354805</td>\n",
       "    </tr>\n",
       "    <tr>\n",
       "      <th>4</th>\n",
       "      <td>2019-01-07</td>\n",
       "      <td>8.545563</td>\n",
       "    </tr>\n",
       "  </tbody>\n",
       "</table>\n",
       "</div>"
      ],
      "text/plain": [
       "        date  coffee_consumption\n",
       "0 2019-01-01           14.301915\n",
       "1 2019-01-02           12.905900\n",
       "2 2019-01-03           10.046015\n",
       "3 2019-01-04            6.354805\n",
       "4 2019-01-07            8.545563"
      ]
     },
     "execution_count": 88,
     "metadata": {},
     "output_type": "execute_result"
    }
   ],
   "source": [
    "df.head()"
   ]
  },
  {
   "cell_type": "code",
   "execution_count": 96,
   "id": "0f185684",
   "metadata": {},
   "outputs": [],
   "source": [
    "#add them all\n",
    "df['year'] = df.date.dt.year\n",
    "df['day'] = df.date.dt.day\n",
    "df['day_of_week'] = df.date.dt.day_of_week"
   ]
  },
  {
   "cell_type": "code",
   "execution_count": 98,
   "id": "a1635440",
   "metadata": {},
   "outputs": [
    {
     "data": {
      "text/html": [
       "<div>\n",
       "<style scoped>\n",
       "    .dataframe tbody tr th:only-of-type {\n",
       "        vertical-align: middle;\n",
       "    }\n",
       "\n",
       "    .dataframe tbody tr th {\n",
       "        vertical-align: top;\n",
       "    }\n",
       "\n",
       "    .dataframe thead th {\n",
       "        text-align: right;\n",
       "    }\n",
       "</style>\n",
       "<table border=\"1\" class=\"dataframe\">\n",
       "  <thead>\n",
       "    <tr style=\"text-align: right;\">\n",
       "      <th></th>\n",
       "      <th>date</th>\n",
       "      <th>coffee_consumption</th>\n",
       "      <th>day</th>\n",
       "      <th>year</th>\n",
       "      <th>day_of_week</th>\n",
       "    </tr>\n",
       "  </thead>\n",
       "  <tbody>\n",
       "    <tr>\n",
       "      <th>0</th>\n",
       "      <td>2019-01-01</td>\n",
       "      <td>14.301915</td>\n",
       "      <td>1</td>\n",
       "      <td>2019</td>\n",
       "      <td>1</td>\n",
       "    </tr>\n",
       "    <tr>\n",
       "      <th>1</th>\n",
       "      <td>2019-01-02</td>\n",
       "      <td>12.905900</td>\n",
       "      <td>2</td>\n",
       "      <td>2019</td>\n",
       "      <td>2</td>\n",
       "    </tr>\n",
       "    <tr>\n",
       "      <th>2</th>\n",
       "      <td>2019-01-03</td>\n",
       "      <td>10.046015</td>\n",
       "      <td>3</td>\n",
       "      <td>2019</td>\n",
       "      <td>3</td>\n",
       "    </tr>\n",
       "    <tr>\n",
       "      <th>3</th>\n",
       "      <td>2019-01-04</td>\n",
       "      <td>6.354805</td>\n",
       "      <td>4</td>\n",
       "      <td>2019</td>\n",
       "      <td>4</td>\n",
       "    </tr>\n",
       "    <tr>\n",
       "      <th>4</th>\n",
       "      <td>2019-01-07</td>\n",
       "      <td>8.545563</td>\n",
       "      <td>7</td>\n",
       "      <td>2019</td>\n",
       "      <td>0</td>\n",
       "    </tr>\n",
       "    <tr>\n",
       "      <th>...</th>\n",
       "      <td>...</td>\n",
       "      <td>...</td>\n",
       "      <td>...</td>\n",
       "      <td>...</td>\n",
       "      <td>...</td>\n",
       "    </tr>\n",
       "    <tr>\n",
       "      <th>256</th>\n",
       "      <td>2019-12-25</td>\n",
       "      <td>12.250875</td>\n",
       "      <td>25</td>\n",
       "      <td>2019</td>\n",
       "      <td>2</td>\n",
       "    </tr>\n",
       "    <tr>\n",
       "      <th>257</th>\n",
       "      <td>2019-12-26</td>\n",
       "      <td>7.513206</td>\n",
       "      <td>26</td>\n",
       "      <td>2019</td>\n",
       "      <td>3</td>\n",
       "    </tr>\n",
       "    <tr>\n",
       "      <th>258</th>\n",
       "      <td>2019-12-27</td>\n",
       "      <td>9.464345</td>\n",
       "      <td>27</td>\n",
       "      <td>2019</td>\n",
       "      <td>4</td>\n",
       "    </tr>\n",
       "    <tr>\n",
       "      <th>259</th>\n",
       "      <td>2019-12-30</td>\n",
       "      <td>14.623106</td>\n",
       "      <td>30</td>\n",
       "      <td>2019</td>\n",
       "      <td>0</td>\n",
       "    </tr>\n",
       "    <tr>\n",
       "      <th>260</th>\n",
       "      <td>2019-12-31</td>\n",
       "      <td>10.168315</td>\n",
       "      <td>31</td>\n",
       "      <td>2019</td>\n",
       "      <td>1</td>\n",
       "    </tr>\n",
       "  </tbody>\n",
       "</table>\n",
       "<p>261 rows × 5 columns</p>\n",
       "</div>"
      ],
      "text/plain": [
       "          date  coffee_consumption  day  year  day_of_week\n",
       "0   2019-01-01           14.301915    1  2019            1\n",
       "1   2019-01-02           12.905900    2  2019            2\n",
       "2   2019-01-03           10.046015    3  2019            3\n",
       "3   2019-01-04            6.354805    4  2019            4\n",
       "4   2019-01-07            8.545563    7  2019            0\n",
       "..         ...                 ...  ...   ...          ...\n",
       "256 2019-12-25           12.250875   25  2019            2\n",
       "257 2019-12-26            7.513206   26  2019            3\n",
       "258 2019-12-27            9.464345   27  2019            4\n",
       "259 2019-12-30           14.623106   30  2019            0\n",
       "260 2019-12-31           10.168315   31  2019            1\n",
       "\n",
       "[261 rows x 5 columns]"
      ]
     },
     "execution_count": 98,
     "metadata": {},
     "output_type": "execute_result"
    }
   ],
   "source": [
    "df"
   ]
  },
  {
   "cell_type": "markdown",
   "id": "c8065bef",
   "metadata": {},
   "source": [
    "### reformat date using `strftime()`"
   ]
  },
  {
   "cell_type": "code",
   "execution_count": 101,
   "id": "65dbc938",
   "metadata": {},
   "outputs": [
    {
     "data": {
      "text/plain": [
       "0      01/01 --- 19\n",
       "1      01/02 --- 19\n",
       "2      01/03 --- 19\n",
       "3      01/04 --- 19\n",
       "4      01/07 --- 19\n",
       "           ...     \n",
       "256    12/25 --- 19\n",
       "257    12/26 --- 19\n",
       "258    12/27 --- 19\n",
       "259    12/30 --- 19\n",
       "260    12/31 --- 19\n",
       "Name: date, Length: 261, dtype: object"
      ]
     },
     "execution_count": 101,
     "metadata": {},
     "output_type": "execute_result"
    }
   ],
   "source": [
    "df.date.dt.strftime('%m/%d --- %y')"
   ]
  },
  {
   "cell_type": "markdown",
   "id": "13626d99",
   "metadata": {},
   "source": [
    "## Mini exercise \n",
    "\n",
    "1. import the datetime module from the datetime library\n",
    "2. convert the date column to a datetime\n",
    "3. subtract one day from each date\n",
    "4. reformat the dates as \"Sun - March 26, 2022\"\n"
   ]
  },
  {
   "cell_type": "code",
   "execution_count": 115,
   "id": "7b504480",
   "metadata": {},
   "outputs": [],
   "source": [
    "url = 'https://gist.githubusercontent.com/misty-garcia/\\\n",
    "8c099128d3f59c32afaa5aa2c3e4fb62/raw/2a4c06ea955266e276a78af5d2e1083cfd348703/mockdates'\n",
    "\n",
    "df = pd.read_csv(url,sep='\\t')"
   ]
  },
  {
   "cell_type": "code",
   "execution_count": 117,
   "id": "e47d9075",
   "metadata": {},
   "outputs": [],
   "source": [
    "from datetime import datetime"
   ]
  },
  {
   "cell_type": "code",
   "execution_count": 118,
   "id": "622072f6",
   "metadata": {},
   "outputs": [
    {
     "data": {
      "text/html": [
       "<div>\n",
       "<style scoped>\n",
       "    .dataframe tbody tr th:only-of-type {\n",
       "        vertical-align: middle;\n",
       "    }\n",
       "\n",
       "    .dataframe tbody tr th {\n",
       "        vertical-align: top;\n",
       "    }\n",
       "\n",
       "    .dataframe thead th {\n",
       "        text-align: right;\n",
       "    }\n",
       "</style>\n",
       "<table border=\"1\" class=\"dataframe\">\n",
       "  <thead>\n",
       "    <tr style=\"text-align: right;\">\n",
       "      <th></th>\n",
       "      <th>date</th>\n",
       "    </tr>\n",
       "  </thead>\n",
       "  <tbody>\n",
       "    <tr>\n",
       "      <th>0</th>\n",
       "      <td>Mar - 27 - 2022</td>\n",
       "    </tr>\n",
       "    <tr>\n",
       "      <th>1</th>\n",
       "      <td>May - 22 - 2022</td>\n",
       "    </tr>\n",
       "    <tr>\n",
       "      <th>2</th>\n",
       "      <td>May - 16 - 2022</td>\n",
       "    </tr>\n",
       "    <tr>\n",
       "      <th>3</th>\n",
       "      <td>Aug - 22 - 2022</td>\n",
       "    </tr>\n",
       "    <tr>\n",
       "      <th>4</th>\n",
       "      <td>Mar - 15 - 2022</td>\n",
       "    </tr>\n",
       "  </tbody>\n",
       "</table>\n",
       "</div>"
      ],
      "text/plain": [
       "               date\n",
       "0   Mar - 27 - 2022\n",
       "1   May - 22 - 2022\n",
       "2   May - 16 - 2022\n",
       "3   Aug - 22 - 2022\n",
       "4   Mar - 15 - 2022"
      ]
     },
     "execution_count": 118,
     "metadata": {},
     "output_type": "execute_result"
    }
   ],
   "source": [
    "df.head()"
   ]
  },
  {
   "cell_type": "code",
   "execution_count": 119,
   "id": "c36d0e29",
   "metadata": {},
   "outputs": [
    {
     "data": {
      "text/plain": [
       "date    object\n",
       "dtype: object"
      ]
     },
     "execution_count": 119,
     "metadata": {},
     "output_type": "execute_result"
    }
   ],
   "source": [
    "df.dtypes"
   ]
  },
  {
   "cell_type": "code",
   "execution_count": 121,
   "id": "4c087a98-9bb8-4f2f-9277-ee092a39352c",
   "metadata": {},
   "outputs": [
    {
     "data": {
      "text/plain": [
       "0    2022-03-27\n",
       "1    2022-05-22\n",
       "2    2022-05-16\n",
       "3    2022-08-22\n",
       "4    2022-03-15\n",
       "        ...    \n",
       "95   2022-01-04\n",
       "96   2022-03-24\n",
       "97   2022-08-28\n",
       "98   2022-01-31\n",
       "99   2022-05-16\n",
       "Name: date, Length: 100, dtype: datetime64[ns]"
      ]
     },
     "execution_count": 121,
     "metadata": {},
     "output_type": "execute_result"
    }
   ],
   "source": [
    "#convert the date column to a datetime\n",
    "df.date = df.date.astype('datetime64')\n",
    "df.date"
   ]
  },
  {
   "cell_type": "code",
   "execution_count": 122,
   "id": "f2d6ed84",
   "metadata": {},
   "outputs": [
    {
     "data": {
      "text/plain": [
       "date    datetime64[ns]\n",
       "dtype: object"
      ]
     },
     "execution_count": 122,
     "metadata": {},
     "output_type": "execute_result"
    }
   ],
   "source": [
    "df.dtypes"
   ]
  },
  {
   "cell_type": "code",
   "execution_count": 123,
   "id": "1020b6c2-1cc5-40b4-b10f-e06d6140834c",
   "metadata": {},
   "outputs": [
    {
     "data": {
      "text/plain": [
       "0    2022-03-26\n",
       "1    2022-05-21\n",
       "2    2022-05-15\n",
       "3    2022-08-21\n",
       "4    2022-03-14\n",
       "        ...    \n",
       "95   2022-01-03\n",
       "96   2022-03-23\n",
       "97   2022-08-27\n",
       "98   2022-01-30\n",
       "99   2022-05-15\n",
       "Name: date, Length: 100, dtype: datetime64[ns]"
      ]
     },
     "execution_count": 123,
     "metadata": {},
     "output_type": "execute_result"
    }
   ],
   "source": [
    "# subtract one day from each date\n",
    "df.date = df.date + pd.Timedelta(days=-1)\n",
    "df.date"
   ]
  },
  {
   "cell_type": "code",
   "execution_count": 125,
   "id": "1ef695d6-1a2f-4789-a7b7-8447164ab525",
   "metadata": {},
   "outputs": [
    {
     "data": {
      "text/plain": [
       "0       Sat - March 26, 2022\n",
       "1         Sat - May 21, 2022\n",
       "2         Sun - May 15, 2022\n",
       "3      Sun - August 21, 2022\n",
       "4       Mon - March 14, 2022\n",
       "               ...          \n",
       "95    Mon - January 03, 2022\n",
       "96      Wed - March 23, 2022\n",
       "97     Sat - August 27, 2022\n",
       "98    Sun - January 30, 2022\n",
       "99        Sun - May 15, 2022\n",
       "Name: date, Length: 100, dtype: object"
      ]
     },
     "execution_count": 125,
     "metadata": {},
     "output_type": "execute_result"
    }
   ],
   "source": [
    "#reformat the dates as \"Sun - March 26, 2022\"\n",
    "df.date.dt.strftime('%a - %B %d, %Y')"
   ]
  },
  {
   "cell_type": "markdown",
   "id": "d49ffd4d",
   "metadata": {},
   "source": [
    "## Time to make it more complex!"
   ]
  },
  {
   "cell_type": "markdown",
   "id": "e21db49f",
   "metadata": {},
   "source": [
    "Scenario: We're looking at cryptocurrency close value and volume over time. "
   ]
  },
  {
   "cell_type": "code",
   "execution_count": 126,
   "id": "227f827e",
   "metadata": {},
   "outputs": [
    {
     "data": {
      "text/html": [
       "<div>\n",
       "<style scoped>\n",
       "    .dataframe tbody tr th:only-of-type {\n",
       "        vertical-align: middle;\n",
       "    }\n",
       "\n",
       "    .dataframe tbody tr th {\n",
       "        vertical-align: top;\n",
       "    }\n",
       "\n",
       "    .dataframe thead th {\n",
       "        text-align: right;\n",
       "    }\n",
       "</style>\n",
       "<table border=\"1\" class=\"dataframe\">\n",
       "  <thead>\n",
       "    <tr style=\"text-align: right;\">\n",
       "      <th></th>\n",
       "      <th>Date</th>\n",
       "      <th>Symbol</th>\n",
       "      <th>Close</th>\n",
       "      <th>Volume</th>\n",
       "    </tr>\n",
       "  </thead>\n",
       "  <tbody>\n",
       "    <tr>\n",
       "      <th>0</th>\n",
       "      <td>2020-03-13 12-PM</td>\n",
       "      <td>ETHUSD</td>\n",
       "      <td>128.71</td>\n",
       "      <td>3906590.52</td>\n",
       "    </tr>\n",
       "    <tr>\n",
       "      <th>1</th>\n",
       "      <td>2020-03-13 12-AM</td>\n",
       "      <td>ETHUSD</td>\n",
       "      <td>129.94</td>\n",
       "      <td>10329663.70</td>\n",
       "    </tr>\n",
       "    <tr>\n",
       "      <th>2</th>\n",
       "      <td>2020-03-13 11-AM</td>\n",
       "      <td>ETHUSD</td>\n",
       "      <td>119.51</td>\n",
       "      <td>3311080.29</td>\n",
       "    </tr>\n",
       "    <tr>\n",
       "      <th>3</th>\n",
       "      <td>2020-03-13 10-AM</td>\n",
       "      <td>ETHUSD</td>\n",
       "      <td>124.47</td>\n",
       "      <td>3483436.48</td>\n",
       "    </tr>\n",
       "    <tr>\n",
       "      <th>4</th>\n",
       "      <td>2020-03-13 09-AM</td>\n",
       "      <td>ETHUSD</td>\n",
       "      <td>124.08</td>\n",
       "      <td>2767584.44</td>\n",
       "    </tr>\n",
       "    <tr>\n",
       "      <th>...</th>\n",
       "      <td>...</td>\n",
       "      <td>...</td>\n",
       "      <td>...</td>\n",
       "      <td>...</td>\n",
       "    </tr>\n",
       "    <tr>\n",
       "      <th>23669</th>\n",
       "      <td>2017-07-01 05-PM</td>\n",
       "      <td>ETHUSD</td>\n",
       "      <td>272.57</td>\n",
       "      <td>1894983.33</td>\n",
       "    </tr>\n",
       "    <tr>\n",
       "      <th>23670</th>\n",
       "      <td>2017-07-01 04-PM</td>\n",
       "      <td>ETHUSD</td>\n",
       "      <td>265.74</td>\n",
       "      <td>1287300.75</td>\n",
       "    </tr>\n",
       "    <tr>\n",
       "      <th>23671</th>\n",
       "      <td>2017-07-01 03-PM</td>\n",
       "      <td>ETHUSD</td>\n",
       "      <td>268.79</td>\n",
       "      <td>1500282.55</td>\n",
       "    </tr>\n",
       "    <tr>\n",
       "      <th>23672</th>\n",
       "      <td>2017-07-01 02-PM</td>\n",
       "      <td>ETHUSD</td>\n",
       "      <td>274.83</td>\n",
       "      <td>1702536.85</td>\n",
       "    </tr>\n",
       "    <tr>\n",
       "      <th>23673</th>\n",
       "      <td>2017-07-01 01-PM</td>\n",
       "      <td>ETHUSD</td>\n",
       "      <td>275.01</td>\n",
       "      <td>3010787.99</td>\n",
       "    </tr>\n",
       "  </tbody>\n",
       "</table>\n",
       "<p>23674 rows × 4 columns</p>\n",
       "</div>"
      ],
      "text/plain": [
       "                   Date  Symbol   Close       Volume\n",
       "0      2020-03-13 12-PM  ETHUSD  128.71   3906590.52\n",
       "1      2020-03-13 12-AM  ETHUSD  129.94  10329663.70\n",
       "2      2020-03-13 11-AM  ETHUSD  119.51   3311080.29\n",
       "3      2020-03-13 10-AM  ETHUSD  124.47   3483436.48\n",
       "4      2020-03-13 09-AM  ETHUSD  124.08   2767584.44\n",
       "...                 ...     ...     ...          ...\n",
       "23669  2017-07-01 05-PM  ETHUSD  272.57   1894983.33\n",
       "23670  2017-07-01 04-PM  ETHUSD  265.74   1287300.75\n",
       "23671  2017-07-01 03-PM  ETHUSD  268.79   1500282.55\n",
       "23672  2017-07-01 02-PM  ETHUSD  274.83   1702536.85\n",
       "23673  2017-07-01 01-PM  ETHUSD  275.01   3010787.99\n",
       "\n",
       "[23674 rows x 4 columns]"
      ]
     },
     "execution_count": 126,
     "metadata": {},
     "output_type": "execute_result"
    }
   ],
   "source": [
    "#save url\n",
    "sheet_url = 'https://docs.google.com/spreadsheets/d/1kTrAFSrr-xP3REs0Lly0TdV4ekrHahBXLg9r5qKxmV8/edit#gid=0'\n",
    "csv_export_url = sheet_url.replace('/edit#gid=', '/export?format=csv&gid=')\n",
    "\n",
    "#read in df\n",
    "df = pd.read_csv(csv_export_url)\n",
    "df"
   ]
  },
  {
   "cell_type": "code",
   "execution_count": 127,
   "id": "9778aa52",
   "metadata": {},
   "outputs": [
    {
     "name": "stdout",
     "output_type": "stream",
     "text": [
      "<class 'pandas.core.frame.DataFrame'>\n",
      "RangeIndex: 23674 entries, 0 to 23673\n",
      "Data columns (total 4 columns):\n",
      " #   Column  Non-Null Count  Dtype  \n",
      "---  ------  --------------  -----  \n",
      " 0   Date    23674 non-null  object \n",
      " 1   Symbol  23674 non-null  object \n",
      " 2   Close   23674 non-null  float64\n",
      " 3   Volume  23674 non-null  float64\n",
      "dtypes: float64(2), object(2)\n",
      "memory usage: 739.9+ KB\n"
     ]
    }
   ],
   "source": [
    "df.info()"
   ]
  },
  {
   "cell_type": "code",
   "execution_count": 131,
   "id": "896f91c9",
   "metadata": {},
   "outputs": [],
   "source": [
    "#lowercase columns\n",
    "df.columns = df.columns.str.lower()"
   ]
  },
  {
   "cell_type": "code",
   "execution_count": 132,
   "id": "2bc89744",
   "metadata": {},
   "outputs": [
    {
     "data": {
      "text/html": [
       "<div>\n",
       "<style scoped>\n",
       "    .dataframe tbody tr th:only-of-type {\n",
       "        vertical-align: middle;\n",
       "    }\n",
       "\n",
       "    .dataframe tbody tr th {\n",
       "        vertical-align: top;\n",
       "    }\n",
       "\n",
       "    .dataframe thead th {\n",
       "        text-align: right;\n",
       "    }\n",
       "</style>\n",
       "<table border=\"1\" class=\"dataframe\">\n",
       "  <thead>\n",
       "    <tr style=\"text-align: right;\">\n",
       "      <th></th>\n",
       "      <th>date</th>\n",
       "      <th>symbol</th>\n",
       "      <th>close</th>\n",
       "      <th>volume</th>\n",
       "    </tr>\n",
       "  </thead>\n",
       "  <tbody>\n",
       "    <tr>\n",
       "      <th>0</th>\n",
       "      <td>2020-03-13 12-PM</td>\n",
       "      <td>ETHUSD</td>\n",
       "      <td>128.71</td>\n",
       "      <td>3906590.52</td>\n",
       "    </tr>\n",
       "    <tr>\n",
       "      <th>1</th>\n",
       "      <td>2020-03-13 12-AM</td>\n",
       "      <td>ETHUSD</td>\n",
       "      <td>129.94</td>\n",
       "      <td>10329663.70</td>\n",
       "    </tr>\n",
       "    <tr>\n",
       "      <th>2</th>\n",
       "      <td>2020-03-13 11-AM</td>\n",
       "      <td>ETHUSD</td>\n",
       "      <td>119.51</td>\n",
       "      <td>3311080.29</td>\n",
       "    </tr>\n",
       "    <tr>\n",
       "      <th>3</th>\n",
       "      <td>2020-03-13 10-AM</td>\n",
       "      <td>ETHUSD</td>\n",
       "      <td>124.47</td>\n",
       "      <td>3483436.48</td>\n",
       "    </tr>\n",
       "    <tr>\n",
       "      <th>4</th>\n",
       "      <td>2020-03-13 09-AM</td>\n",
       "      <td>ETHUSD</td>\n",
       "      <td>124.08</td>\n",
       "      <td>2767584.44</td>\n",
       "    </tr>\n",
       "  </tbody>\n",
       "</table>\n",
       "</div>"
      ],
      "text/plain": [
       "               date  symbol   close       volume\n",
       "0  2020-03-13 12-PM  ETHUSD  128.71   3906590.52\n",
       "1  2020-03-13 12-AM  ETHUSD  129.94  10329663.70\n",
       "2  2020-03-13 11-AM  ETHUSD  119.51   3311080.29\n",
       "3  2020-03-13 10-AM  ETHUSD  124.47   3483436.48\n",
       "4  2020-03-13 09-AM  ETHUSD  124.08   2767584.44"
      ]
     },
     "execution_count": 132,
     "metadata": {},
     "output_type": "execute_result"
    }
   ],
   "source": [
    "df.head()"
   ]
  },
  {
   "cell_type": "markdown",
   "id": "bc4c1edf",
   "metadata": {},
   "source": [
    "#### let's plot the our close value"
   ]
  },
  {
   "cell_type": "code",
   "execution_count": 136,
   "id": "70b54804",
   "metadata": {},
   "outputs": [
    {
     "data": {
      "image/png": "[encoded data removed]",
      "text/plain": [
       "<Figure size 640x480 with 1 Axes>"
      ]
     },
     "metadata": {},
     "output_type": "display_data"
    }
   ],
   "source": [
    "#distribution\n",
    "df.close.plot.hist();"
   ]
  },
  {
   "cell_type": "code",
   "execution_count": 140,
   "id": "dff192c9",
   "metadata": {},
   "outputs": [
    {
     "data": {
      "image/png": "[encoded data removed]",
      "text/plain": [
       "<Figure size 640x480 with 1 Axes>"
      ]
     },
     "metadata": {},
     "output_type": "display_data"
    }
   ],
   "source": [
    "#line plot\n",
    "df.close.plot()\n",
    "plt.title('the close values on a plot')\n",
    "plt.show()"
   ]
  },
  {
   "cell_type": "code",
   "execution_count": 142,
   "id": "52e8c91f",
   "metadata": {},
   "outputs": [
    {
     "data": {
      "text/html": [
       "<div>\n",
       "<style scoped>\n",
       "    .dataframe tbody tr th:only-of-type {\n",
       "        vertical-align: middle;\n",
       "    }\n",
       "\n",
       "    .dataframe tbody tr th {\n",
       "        vertical-align: top;\n",
       "    }\n",
       "\n",
       "    .dataframe thead th {\n",
       "        text-align: right;\n",
       "    }\n",
       "</style>\n",
       "<table border=\"1\" class=\"dataframe\">\n",
       "  <thead>\n",
       "    <tr style=\"text-align: right;\">\n",
       "      <th></th>\n",
       "      <th>date</th>\n",
       "      <th>symbol</th>\n",
       "      <th>close</th>\n",
       "      <th>volume</th>\n",
       "    </tr>\n",
       "  </thead>\n",
       "  <tbody>\n",
       "    <tr>\n",
       "      <th>0</th>\n",
       "      <td>2020-03-13 12-PM</td>\n",
       "      <td>ETHUSD</td>\n",
       "      <td>128.71</td>\n",
       "      <td>3906590.52</td>\n",
       "    </tr>\n",
       "    <tr>\n",
       "      <th>1</th>\n",
       "      <td>2020-03-13 12-AM</td>\n",
       "      <td>ETHUSD</td>\n",
       "      <td>129.94</td>\n",
       "      <td>10329663.70</td>\n",
       "    </tr>\n",
       "    <tr>\n",
       "      <th>2</th>\n",
       "      <td>2020-03-13 11-AM</td>\n",
       "      <td>ETHUSD</td>\n",
       "      <td>119.51</td>\n",
       "      <td>3311080.29</td>\n",
       "    </tr>\n",
       "    <tr>\n",
       "      <th>3</th>\n",
       "      <td>2020-03-13 10-AM</td>\n",
       "      <td>ETHUSD</td>\n",
       "      <td>124.47</td>\n",
       "      <td>3483436.48</td>\n",
       "    </tr>\n",
       "    <tr>\n",
       "      <th>4</th>\n",
       "      <td>2020-03-13 09-AM</td>\n",
       "      <td>ETHUSD</td>\n",
       "      <td>124.08</td>\n",
       "      <td>2767584.44</td>\n",
       "    </tr>\n",
       "    <tr>\n",
       "      <th>...</th>\n",
       "      <td>...</td>\n",
       "      <td>...</td>\n",
       "      <td>...</td>\n",
       "      <td>...</td>\n",
       "    </tr>\n",
       "    <tr>\n",
       "      <th>23669</th>\n",
       "      <td>2017-07-01 05-PM</td>\n",
       "      <td>ETHUSD</td>\n",
       "      <td>272.57</td>\n",
       "      <td>1894983.33</td>\n",
       "    </tr>\n",
       "    <tr>\n",
       "      <th>23670</th>\n",
       "      <td>2017-07-01 04-PM</td>\n",
       "      <td>ETHUSD</td>\n",
       "      <td>265.74</td>\n",
       "      <td>1287300.75</td>\n",
       "    </tr>\n",
       "    <tr>\n",
       "      <th>23671</th>\n",
       "      <td>2017-07-01 03-PM</td>\n",
       "      <td>ETHUSD</td>\n",
       "      <td>268.79</td>\n",
       "      <td>1500282.55</td>\n",
       "    </tr>\n",
       "    <tr>\n",
       "      <th>23672</th>\n",
       "      <td>2017-07-01 02-PM</td>\n",
       "      <td>ETHUSD</td>\n",
       "      <td>274.83</td>\n",
       "      <td>1702536.85</td>\n",
       "    </tr>\n",
       "    <tr>\n",
       "      <th>23673</th>\n",
       "      <td>2017-07-01 01-PM</td>\n",
       "      <td>ETHUSD</td>\n",
       "      <td>275.01</td>\n",
       "      <td>3010787.99</td>\n",
       "    </tr>\n",
       "  </tbody>\n",
       "</table>\n",
       "<p>23674 rows × 4 columns</p>\n",
       "</div>"
      ],
      "text/plain": [
       "                   date  symbol   close       volume\n",
       "0      2020-03-13 12-PM  ETHUSD  128.71   3906590.52\n",
       "1      2020-03-13 12-AM  ETHUSD  129.94  10329663.70\n",
       "2      2020-03-13 11-AM  ETHUSD  119.51   3311080.29\n",
       "3      2020-03-13 10-AM  ETHUSD  124.47   3483436.48\n",
       "4      2020-03-13 09-AM  ETHUSD  124.08   2767584.44\n",
       "...                 ...     ...     ...          ...\n",
       "23669  2017-07-01 05-PM  ETHUSD  272.57   1894983.33\n",
       "23670  2017-07-01 04-PM  ETHUSD  265.74   1287300.75\n",
       "23671  2017-07-01 03-PM  ETHUSD  268.79   1500282.55\n",
       "23672  2017-07-01 02-PM  ETHUSD  274.83   1702536.85\n",
       "23673  2017-07-01 01-PM  ETHUSD  275.01   3010787.99\n",
       "\n",
       "[23674 rows x 4 columns]"
      ]
     },
     "execution_count": 142,
     "metadata": {},
     "output_type": "execute_result"
    }
   ],
   "source": [
    "df"
   ]
  },
  {
   "cell_type": "markdown",
   "id": "71b6bb22",
   "metadata": {},
   "source": [
    "<div class=\"alert alert-block alert-info\"> \n",
    "    \n",
    "<b>NOTE:</b> when we plot a single series using .plot(), the x-axis is the index value \n",
    "\n",
    "</div> \n",
    " \n",
    " "
   ]
  },
  {
   "cell_type": "markdown",
   "id": "b8d28d78",
   "metadata": {},
   "source": [
    "## How do we make pandas time aware?\n",
    "\n",
    "1. Convert 'date' column to datetime object\n",
    "2. Set the datetime column as index\n",
    "3. Sort the datetime index"
   ]
  },
  {
   "cell_type": "markdown",
   "id": "4a608f40",
   "metadata": {},
   "source": [
    "### 1. Convert 'date' column to datetime object"
   ]
  },
  {
   "cell_type": "code",
   "execution_count": 144,
   "id": "851b0c19",
   "metadata": {},
   "outputs": [
    {
     "data": {
      "text/plain": [
       "date       object\n",
       "symbol     object\n",
       "close     float64\n",
       "volume    float64\n",
       "dtype: object"
      ]
     },
     "execution_count": 144,
     "metadata": {},
     "output_type": "execute_result"
    }
   ],
   "source": [
    "df.dtypes"
   ]
  },
  {
   "cell_type": "markdown",
   "id": "86e9329b",
   "metadata": {},
   "source": [
    "Reminder: format argument allows us to tell pandas the makeup of our date, so it can be understood"
   ]
  },
  {
   "cell_type": "code",
   "execution_count": 147,
   "id": "2aa54bdb",
   "metadata": {},
   "outputs": [],
   "source": [
    "# df.date.astype('datetime64')"
   ]
  },
  {
   "cell_type": "code",
   "execution_count": 148,
   "id": "eb0e825b",
   "metadata": {},
   "outputs": [
    {
     "data": {
      "text/html": [
       "<div>\n",
       "<style scoped>\n",
       "    .dataframe tbody tr th:only-of-type {\n",
       "        vertical-align: middle;\n",
       "    }\n",
       "\n",
       "    .dataframe tbody tr th {\n",
       "        vertical-align: top;\n",
       "    }\n",
       "\n",
       "    .dataframe thead th {\n",
       "        text-align: right;\n",
       "    }\n",
       "</style>\n",
       "<table border=\"1\" class=\"dataframe\">\n",
       "  <thead>\n",
       "    <tr style=\"text-align: right;\">\n",
       "      <th></th>\n",
       "      <th>date</th>\n",
       "      <th>symbol</th>\n",
       "      <th>close</th>\n",
       "      <th>volume</th>\n",
       "    </tr>\n",
       "  </thead>\n",
       "  <tbody>\n",
       "    <tr>\n",
       "      <th>0</th>\n",
       "      <td>2020-03-13 12-PM</td>\n",
       "      <td>ETHUSD</td>\n",
       "      <td>128.71</td>\n",
       "      <td>3906590.52</td>\n",
       "    </tr>\n",
       "    <tr>\n",
       "      <th>1</th>\n",
       "      <td>2020-03-13 12-AM</td>\n",
       "      <td>ETHUSD</td>\n",
       "      <td>129.94</td>\n",
       "      <td>10329663.70</td>\n",
       "    </tr>\n",
       "    <tr>\n",
       "      <th>2</th>\n",
       "      <td>2020-03-13 11-AM</td>\n",
       "      <td>ETHUSD</td>\n",
       "      <td>119.51</td>\n",
       "      <td>3311080.29</td>\n",
       "    </tr>\n",
       "    <tr>\n",
       "      <th>3</th>\n",
       "      <td>2020-03-13 10-AM</td>\n",
       "      <td>ETHUSD</td>\n",
       "      <td>124.47</td>\n",
       "      <td>3483436.48</td>\n",
       "    </tr>\n",
       "    <tr>\n",
       "      <th>4</th>\n",
       "      <td>2020-03-13 09-AM</td>\n",
       "      <td>ETHUSD</td>\n",
       "      <td>124.08</td>\n",
       "      <td>2767584.44</td>\n",
       "    </tr>\n",
       "  </tbody>\n",
       "</table>\n",
       "</div>"
      ],
      "text/plain": [
       "               date  symbol   close       volume\n",
       "0  2020-03-13 12-PM  ETHUSD  128.71   3906590.52\n",
       "1  2020-03-13 12-AM  ETHUSD  129.94  10329663.70\n",
       "2  2020-03-13 11-AM  ETHUSD  119.51   3311080.29\n",
       "3  2020-03-13 10-AM  ETHUSD  124.47   3483436.48\n",
       "4  2020-03-13 09-AM  ETHUSD  124.08   2767584.44"
      ]
     },
     "execution_count": 148,
     "metadata": {},
     "output_type": "execute_result"
    }
   ],
   "source": [
    "df.head()"
   ]
  },
  {
   "cell_type": "code",
   "execution_count": 150,
   "id": "5e1ff851",
   "metadata": {},
   "outputs": [],
   "source": [
    "df.date = pd.to_datetime(df.date, format='%Y-%m-%d %I-%p')"
   ]
  },
  {
   "cell_type": "code",
   "execution_count": 151,
   "id": "d26e2d88",
   "metadata": {},
   "outputs": [
    {
     "data": {
      "text/plain": [
       "date      datetime64[ns]\n",
       "symbol            object\n",
       "close            float64\n",
       "volume           float64\n",
       "dtype: object"
      ]
     },
     "execution_count": 151,
     "metadata": {},
     "output_type": "execute_result"
    }
   ],
   "source": [
    "df.dtypes"
   ]
  },
  {
   "cell_type": "markdown",
   "id": "619f13ef",
   "metadata": {},
   "source": [
    "### 2. Set the datetime column as index"
   ]
  },
  {
   "cell_type": "code",
   "execution_count": 154,
   "id": "c9c77f4f",
   "metadata": {},
   "outputs": [
    {
     "data": {
      "text/html": [
       "<div>\n",
       "<style scoped>\n",
       "    .dataframe tbody tr th:only-of-type {\n",
       "        vertical-align: middle;\n",
       "    }\n",
       "\n",
       "    .dataframe tbody tr th {\n",
       "        vertical-align: top;\n",
       "    }\n",
       "\n",
       "    .dataframe thead th {\n",
       "        text-align: right;\n",
       "    }\n",
       "</style>\n",
       "<table border=\"1\" class=\"dataframe\">\n",
       "  <thead>\n",
       "    <tr style=\"text-align: right;\">\n",
       "      <th></th>\n",
       "      <th>symbol</th>\n",
       "      <th>close</th>\n",
       "      <th>volume</th>\n",
       "    </tr>\n",
       "    <tr>\n",
       "      <th>date</th>\n",
       "      <th></th>\n",
       "      <th></th>\n",
       "      <th></th>\n",
       "    </tr>\n",
       "  </thead>\n",
       "  <tbody>\n",
       "    <tr>\n",
       "      <th>2020-03-13 12:00:00</th>\n",
       "      <td>ETHUSD</td>\n",
       "      <td>128.71</td>\n",
       "      <td>3906590.52</td>\n",
       "    </tr>\n",
       "    <tr>\n",
       "      <th>2020-03-13 00:00:00</th>\n",
       "      <td>ETHUSD</td>\n",
       "      <td>129.94</td>\n",
       "      <td>10329663.70</td>\n",
       "    </tr>\n",
       "    <tr>\n",
       "      <th>2020-03-13 11:00:00</th>\n",
       "      <td>ETHUSD</td>\n",
       "      <td>119.51</td>\n",
       "      <td>3311080.29</td>\n",
       "    </tr>\n",
       "    <tr>\n",
       "      <th>2020-03-13 10:00:00</th>\n",
       "      <td>ETHUSD</td>\n",
       "      <td>124.47</td>\n",
       "      <td>3483436.48</td>\n",
       "    </tr>\n",
       "    <tr>\n",
       "      <th>2020-03-13 09:00:00</th>\n",
       "      <td>ETHUSD</td>\n",
       "      <td>124.08</td>\n",
       "      <td>2767584.44</td>\n",
       "    </tr>\n",
       "    <tr>\n",
       "      <th>...</th>\n",
       "      <td>...</td>\n",
       "      <td>...</td>\n",
       "      <td>...</td>\n",
       "    </tr>\n",
       "    <tr>\n",
       "      <th>2017-07-01 17:00:00</th>\n",
       "      <td>ETHUSD</td>\n",
       "      <td>272.57</td>\n",
       "      <td>1894983.33</td>\n",
       "    </tr>\n",
       "    <tr>\n",
       "      <th>2017-07-01 16:00:00</th>\n",
       "      <td>ETHUSD</td>\n",
       "      <td>265.74</td>\n",
       "      <td>1287300.75</td>\n",
       "    </tr>\n",
       "    <tr>\n",
       "      <th>2017-07-01 15:00:00</th>\n",
       "      <td>ETHUSD</td>\n",
       "      <td>268.79</td>\n",
       "      <td>1500282.55</td>\n",
       "    </tr>\n",
       "    <tr>\n",
       "      <th>2017-07-01 14:00:00</th>\n",
       "      <td>ETHUSD</td>\n",
       "      <td>274.83</td>\n",
       "      <td>1702536.85</td>\n",
       "    </tr>\n",
       "    <tr>\n",
       "      <th>2017-07-01 13:00:00</th>\n",
       "      <td>ETHUSD</td>\n",
       "      <td>275.01</td>\n",
       "      <td>3010787.99</td>\n",
       "    </tr>\n",
       "  </tbody>\n",
       "</table>\n",
       "<p>23674 rows × 3 columns</p>\n",
       "</div>"
      ],
      "text/plain": [
       "                     symbol   close       volume\n",
       "date                                            \n",
       "2020-03-13 12:00:00  ETHUSD  128.71   3906590.52\n",
       "2020-03-13 00:00:00  ETHUSD  129.94  10329663.70\n",
       "2020-03-13 11:00:00  ETHUSD  119.51   3311080.29\n",
       "2020-03-13 10:00:00  ETHUSD  124.47   3483436.48\n",
       "2020-03-13 09:00:00  ETHUSD  124.08   2767584.44\n",
       "...                     ...     ...          ...\n",
       "2017-07-01 17:00:00  ETHUSD  272.57   1894983.33\n",
       "2017-07-01 16:00:00  ETHUSD  265.74   1287300.75\n",
       "2017-07-01 15:00:00  ETHUSD  268.79   1500282.55\n",
       "2017-07-01 14:00:00  ETHUSD  274.83   1702536.85\n",
       "2017-07-01 13:00:00  ETHUSD  275.01   3010787.99\n",
       "\n",
       "[23674 rows x 3 columns]"
      ]
     },
     "execution_count": 154,
     "metadata": {},
     "output_type": "execute_result"
    }
   ],
   "source": [
    "df = df.set_index('date')\n",
    "df"
   ]
  },
  {
   "cell_type": "markdown",
   "id": "95a06a90",
   "metadata": {},
   "source": [
    "### 3. Sort the datetime index"
   ]
  },
  {
   "cell_type": "code",
   "execution_count": 156,
   "id": "af58d468",
   "metadata": {},
   "outputs": [],
   "source": [
    "df = df.sort_index()"
   ]
  },
  {
   "cell_type": "code",
   "execution_count": 157,
   "id": "222e2a24",
   "metadata": {},
   "outputs": [
    {
     "data": {
      "text/html": [
       "<div>\n",
       "<style scoped>\n",
       "    .dataframe tbody tr th:only-of-type {\n",
       "        vertical-align: middle;\n",
       "    }\n",
       "\n",
       "    .dataframe tbody tr th {\n",
       "        vertical-align: top;\n",
       "    }\n",
       "\n",
       "    .dataframe thead th {\n",
       "        text-align: right;\n",
       "    }\n",
       "</style>\n",
       "<table border=\"1\" class=\"dataframe\">\n",
       "  <thead>\n",
       "    <tr style=\"text-align: right;\">\n",
       "      <th></th>\n",
       "      <th>symbol</th>\n",
       "      <th>close</th>\n",
       "      <th>volume</th>\n",
       "    </tr>\n",
       "    <tr>\n",
       "      <th>date</th>\n",
       "      <th></th>\n",
       "      <th></th>\n",
       "      <th></th>\n",
       "    </tr>\n",
       "  </thead>\n",
       "  <tbody>\n",
       "    <tr>\n",
       "      <th>2017-07-01 11:00:00</th>\n",
       "      <td>ETHUSD</td>\n",
       "      <td>257.13</td>\n",
       "      <td>679358.87</td>\n",
       "    </tr>\n",
       "    <tr>\n",
       "      <th>2017-07-01 12:00:00</th>\n",
       "      <td>ETHUSD</td>\n",
       "      <td>263.12</td>\n",
       "      <td>824362.87</td>\n",
       "    </tr>\n",
       "    <tr>\n",
       "      <th>2017-07-01 13:00:00</th>\n",
       "      <td>ETHUSD</td>\n",
       "      <td>275.01</td>\n",
       "      <td>3010787.99</td>\n",
       "    </tr>\n",
       "    <tr>\n",
       "      <th>2017-07-01 14:00:00</th>\n",
       "      <td>ETHUSD</td>\n",
       "      <td>274.83</td>\n",
       "      <td>1702536.85</td>\n",
       "    </tr>\n",
       "    <tr>\n",
       "      <th>2017-07-01 15:00:00</th>\n",
       "      <td>ETHUSD</td>\n",
       "      <td>268.79</td>\n",
       "      <td>1500282.55</td>\n",
       "    </tr>\n",
       "  </tbody>\n",
       "</table>\n",
       "</div>"
      ],
      "text/plain": [
       "                     symbol   close      volume\n",
       "date                                           \n",
       "2017-07-01 11:00:00  ETHUSD  257.13   679358.87\n",
       "2017-07-01 12:00:00  ETHUSD  263.12   824362.87\n",
       "2017-07-01 13:00:00  ETHUSD  275.01  3010787.99\n",
       "2017-07-01 14:00:00  ETHUSD  274.83  1702536.85\n",
       "2017-07-01 15:00:00  ETHUSD  268.79  1500282.55"
      ]
     },
     "execution_count": 157,
     "metadata": {},
     "output_type": "execute_result"
    }
   ],
   "source": [
    "df.head()"
   ]
  },
  {
   "cell_type": "markdown",
   "id": "d43dce22",
   "metadata": {},
   "source": [
    "#### Now let's plot it again!"
   ]
  },
  {
   "cell_type": "code",
   "execution_count": 160,
   "id": "b28f64b6",
   "metadata": {},
   "outputs": [
    {
     "data": {
      "image/png": "[encoded data removed]",
      "text/plain": [
       "<Figure size 640x480 with 1 Axes>"
      ]
     },
     "metadata": {},
     "output_type": "display_data"
    }
   ],
   "source": [
    "#line plot\n",
    "df.close.plot()\n",
    "\n",
    "plt.title('close value over time')\n",
    "plt.show()"
   ]
  },
  {
   "cell_type": "markdown",
   "id": "f7dab61f",
   "metadata": {},
   "source": [
    "Q: Why is the graph different now?"
   ]
  },
  {
   "cell_type": "markdown",
   "id": "6198598c",
   "metadata": {},
   "source": [
    "## Let's look at the the mean close value on each day of the week"
   ]
  },
  {
   "cell_type": "markdown",
   "id": "cfe2e01b",
   "metadata": {},
   "source": [
    "<div class=\"alert alert-block alert-info\"> <b>NOTE:</b> when the datetime is an index, we don't use <code>.dt</code> to use datetime methods/attributes</div>"
   ]
  },
  {
   "cell_type": "code",
   "execution_count": 168,
   "id": "81744a87",
   "metadata": {},
   "outputs": [],
   "source": [
    "#pull out weekday name & save\n",
    "df['weekday'] = df.index.day_name()"
   ]
  },
  {
   "cell_type": "code",
   "execution_count": 172,
   "id": "073eea89",
   "metadata": {},
   "outputs": [
    {
     "data": {
      "text/html": [
       "<div>\n",
       "<style scoped>\n",
       "    .dataframe tbody tr th:only-of-type {\n",
       "        vertical-align: middle;\n",
       "    }\n",
       "\n",
       "    .dataframe tbody tr th {\n",
       "        vertical-align: top;\n",
       "    }\n",
       "\n",
       "    .dataframe thead th {\n",
       "        text-align: right;\n",
       "    }\n",
       "</style>\n",
       "<table border=\"1\" class=\"dataframe\">\n",
       "  <thead>\n",
       "    <tr style=\"text-align: right;\">\n",
       "      <th></th>\n",
       "      <th>symbol</th>\n",
       "      <th>close</th>\n",
       "      <th>volume</th>\n",
       "      <th>weekday</th>\n",
       "    </tr>\n",
       "    <tr>\n",
       "      <th>date</th>\n",
       "      <th></th>\n",
       "      <th></th>\n",
       "      <th></th>\n",
       "      <th></th>\n",
       "    </tr>\n",
       "  </thead>\n",
       "  <tbody>\n",
       "    <tr>\n",
       "      <th>2017-07-01 11:00:00</th>\n",
       "      <td>ETHUSD</td>\n",
       "      <td>257.13</td>\n",
       "      <td>679358.87</td>\n",
       "      <td>Saturday</td>\n",
       "    </tr>\n",
       "    <tr>\n",
       "      <th>2017-07-01 12:00:00</th>\n",
       "      <td>ETHUSD</td>\n",
       "      <td>263.12</td>\n",
       "      <td>824362.87</td>\n",
       "      <td>Saturday</td>\n",
       "    </tr>\n",
       "    <tr>\n",
       "      <th>2017-07-01 13:00:00</th>\n",
       "      <td>ETHUSD</td>\n",
       "      <td>275.01</td>\n",
       "      <td>3010787.99</td>\n",
       "      <td>Saturday</td>\n",
       "    </tr>\n",
       "    <tr>\n",
       "      <th>2017-07-01 14:00:00</th>\n",
       "      <td>ETHUSD</td>\n",
       "      <td>274.83</td>\n",
       "      <td>1702536.85</td>\n",
       "      <td>Saturday</td>\n",
       "    </tr>\n",
       "    <tr>\n",
       "      <th>2017-07-01 15:00:00</th>\n",
       "      <td>ETHUSD</td>\n",
       "      <td>268.79</td>\n",
       "      <td>1500282.55</td>\n",
       "      <td>Saturday</td>\n",
       "    </tr>\n",
       "  </tbody>\n",
       "</table>\n",
       "</div>"
      ],
      "text/plain": [
       "                     symbol   close      volume   weekday\n",
       "date                                                     \n",
       "2017-07-01 11:00:00  ETHUSD  257.13   679358.87  Saturday\n",
       "2017-07-01 12:00:00  ETHUSD  263.12   824362.87  Saturday\n",
       "2017-07-01 13:00:00  ETHUSD  275.01  3010787.99  Saturday\n",
       "2017-07-01 14:00:00  ETHUSD  274.83  1702536.85  Saturday\n",
       "2017-07-01 15:00:00  ETHUSD  268.79  1500282.55  Saturday"
      ]
     },
     "execution_count": 172,
     "metadata": {},
     "output_type": "execute_result"
    }
   ],
   "source": [
    "df.head()"
   ]
  },
  {
   "cell_type": "code",
   "execution_count": 174,
   "id": "9ca8c157",
   "metadata": {},
   "outputs": [
    {
     "data": {
      "text/plain": [
       "weekday\n",
       "Friday       321.134596\n",
       "Monday       326.186823\n",
       "Saturday     327.707441\n",
       "Sunday       326.316418\n",
       "Thursday     323.334524\n",
       "Tuesday      325.189722\n",
       "Wednesday    324.622361\n",
       "Name: close, dtype: float64"
      ]
     },
     "execution_count": 174,
     "metadata": {},
     "output_type": "execute_result"
    }
   ],
   "source": [
    "df.groupby('weekday').mean().close"
   ]
  },
  {
   "cell_type": "markdown",
   "id": "64d68b78",
   "metadata": {},
   "source": [
    "#### let's plot it!"
   ]
  },
  {
   "cell_type": "code",
   "execution_count": 177,
   "id": "cc869953",
   "metadata": {},
   "outputs": [
    {
     "data": {
      "image/png": "[encoded data removed]",
      "text/plain": [
       "<Figure size 640x480 with 1 Axes>"
      ]
     },
     "metadata": {},
     "output_type": "display_data"
    }
   ],
   "source": [
    "# plt.figure(figsize=(10,6))\n",
    "\n",
    "df.groupby('weekday').mean().close.plot()\n",
    "\n",
    "plt.title('mean close values by day of the week')\n",
    "plt.show()"
   ]
  },
  {
   "cell_type": "markdown",
   "id": "8a8054b0",
   "metadata": {},
   "source": [
    "### I don't like that the days aren't in order"
   ]
  },
  {
   "cell_type": "code",
   "execution_count": 182,
   "id": "fabbdccb",
   "metadata": {},
   "outputs": [],
   "source": [
    "#use dayofweek attribute\n",
    "df['dayofweek'] = df.index.dayofweek"
   ]
  },
  {
   "cell_type": "code",
   "execution_count": 183,
   "id": "c05c0f65",
   "metadata": {},
   "outputs": [
    {
     "data": {
      "text/html": [
       "<div>\n",
       "<style scoped>\n",
       "    .dataframe tbody tr th:only-of-type {\n",
       "        vertical-align: middle;\n",
       "    }\n",
       "\n",
       "    .dataframe tbody tr th {\n",
       "        vertical-align: top;\n",
       "    }\n",
       "\n",
       "    .dataframe thead th {\n",
       "        text-align: right;\n",
       "    }\n",
       "</style>\n",
       "<table border=\"1\" class=\"dataframe\">\n",
       "  <thead>\n",
       "    <tr style=\"text-align: right;\">\n",
       "      <th></th>\n",
       "      <th>symbol</th>\n",
       "      <th>close</th>\n",
       "      <th>volume</th>\n",
       "      <th>weekday</th>\n",
       "      <th>dayofweek</th>\n",
       "    </tr>\n",
       "    <tr>\n",
       "      <th>date</th>\n",
       "      <th></th>\n",
       "      <th></th>\n",
       "      <th></th>\n",
       "      <th></th>\n",
       "      <th></th>\n",
       "    </tr>\n",
       "  </thead>\n",
       "  <tbody>\n",
       "    <tr>\n",
       "      <th>2017-07-01 11:00:00</th>\n",
       "      <td>ETHUSD</td>\n",
       "      <td>257.13</td>\n",
       "      <td>679358.87</td>\n",
       "      <td>Saturday</td>\n",
       "      <td>5</td>\n",
       "    </tr>\n",
       "    <tr>\n",
       "      <th>2017-07-01 12:00:00</th>\n",
       "      <td>ETHUSD</td>\n",
       "      <td>263.12</td>\n",
       "      <td>824362.87</td>\n",
       "      <td>Saturday</td>\n",
       "      <td>5</td>\n",
       "    </tr>\n",
       "    <tr>\n",
       "      <th>2017-07-01 13:00:00</th>\n",
       "      <td>ETHUSD</td>\n",
       "      <td>275.01</td>\n",
       "      <td>3010787.99</td>\n",
       "      <td>Saturday</td>\n",
       "      <td>5</td>\n",
       "    </tr>\n",
       "    <tr>\n",
       "      <th>2017-07-01 14:00:00</th>\n",
       "      <td>ETHUSD</td>\n",
       "      <td>274.83</td>\n",
       "      <td>1702536.85</td>\n",
       "      <td>Saturday</td>\n",
       "      <td>5</td>\n",
       "    </tr>\n",
       "    <tr>\n",
       "      <th>2017-07-01 15:00:00</th>\n",
       "      <td>ETHUSD</td>\n",
       "      <td>268.79</td>\n",
       "      <td>1500282.55</td>\n",
       "      <td>Saturday</td>\n",
       "      <td>5</td>\n",
       "    </tr>\n",
       "  </tbody>\n",
       "</table>\n",
       "</div>"
      ],
      "text/plain": [
       "                     symbol   close      volume   weekday  dayofweek\n",
       "date                                                                \n",
       "2017-07-01 11:00:00  ETHUSD  257.13   679358.87  Saturday          5\n",
       "2017-07-01 12:00:00  ETHUSD  263.12   824362.87  Saturday          5\n",
       "2017-07-01 13:00:00  ETHUSD  275.01  3010787.99  Saturday          5\n",
       "2017-07-01 14:00:00  ETHUSD  274.83  1702536.85  Saturday          5\n",
       "2017-07-01 15:00:00  ETHUSD  268.79  1500282.55  Saturday          5"
      ]
     },
     "execution_count": 183,
     "metadata": {},
     "output_type": "execute_result"
    }
   ],
   "source": [
    "df.head()"
   ]
  },
  {
   "cell_type": "markdown",
   "id": "38561135",
   "metadata": {},
   "source": [
    "#### let's plot it better this time!"
   ]
  },
  {
   "cell_type": "code",
   "execution_count": 189,
   "id": "94093c17",
   "metadata": {},
   "outputs": [
    {
     "data": {
      "image/png": "[encoded data removed]",
      "text/plain": [
       "<Figure size 640x480 with 1 Axes>"
      ]
     },
     "metadata": {},
     "output_type": "display_data"
    }
   ],
   "source": [
    "# plt.figure(figsize=(10,6))\n",
    "\n",
    "df.groupby('weekday').mean().sort_values('dayofweek').close.plot()\n",
    "plt.title('mean close values by day of the week')\n",
    "plt.show()\n"
   ]
  },
  {
   "cell_type": "markdown",
   "id": "d252d632",
   "metadata": {},
   "source": [
    "## How do we get a subset of the dataframe?"
   ]
  },
  {
   "cell_type": "markdown",
   "id": "07863eb8",
   "metadata": {},
   "source": [
    "`.loc` vs `.iloc`\n",
    "\n",
    "- loc subsets based on NAME\n",
    "- iloc subsets based on POSITION\n",
    "\n",
    "Why is this helpful?\n",
    "- we can use `.loc` to name a date or range of dates to subset our df"
   ]
  },
  {
   "cell_type": "code",
   "execution_count": 192,
   "id": "48779b02",
   "metadata": {},
   "outputs": [
    {
     "data": {
      "text/plain": [
       "symbol          ETHUSD\n",
       "close            259.9\n",
       "volume       956362.19\n",
       "weekday         Sunday\n",
       "dayofweek            6\n",
       "Name: 2017-07-02 01:00:00, dtype: object"
      ]
     },
     "execution_count": 192,
     "metadata": {},
     "output_type": "execute_result"
    }
   ],
   "source": [
    "df.loc['2017-07-02 01:00:00']"
   ]
  },
  {
   "cell_type": "code",
   "execution_count": 193,
   "id": "f5361e39",
   "metadata": {},
   "outputs": [
    {
     "data": {
      "text/html": [
       "<div>\n",
       "<style scoped>\n",
       "    .dataframe tbody tr th:only-of-type {\n",
       "        vertical-align: middle;\n",
       "    }\n",
       "\n",
       "    .dataframe tbody tr th {\n",
       "        vertical-align: top;\n",
       "    }\n",
       "\n",
       "    .dataframe thead th {\n",
       "        text-align: right;\n",
       "    }\n",
       "</style>\n",
       "<table border=\"1\" class=\"dataframe\">\n",
       "  <thead>\n",
       "    <tr style=\"text-align: right;\">\n",
       "      <th></th>\n",
       "      <th>symbol</th>\n",
       "      <th>close</th>\n",
       "      <th>volume</th>\n",
       "      <th>weekday</th>\n",
       "      <th>dayofweek</th>\n",
       "    </tr>\n",
       "    <tr>\n",
       "      <th>date</th>\n",
       "      <th></th>\n",
       "      <th></th>\n",
       "      <th></th>\n",
       "      <th></th>\n",
       "      <th></th>\n",
       "    </tr>\n",
       "  </thead>\n",
       "  <tbody>\n",
       "    <tr>\n",
       "      <th>2017-07-02 00:00:00</th>\n",
       "      <td>ETHUSD</td>\n",
       "      <td>286.00</td>\n",
       "      <td>1323285.21</td>\n",
       "      <td>Sunday</td>\n",
       "      <td>6</td>\n",
       "    </tr>\n",
       "    <tr>\n",
       "      <th>2017-07-02 01:00:00</th>\n",
       "      <td>ETHUSD</td>\n",
       "      <td>259.90</td>\n",
       "      <td>956362.19</td>\n",
       "      <td>Sunday</td>\n",
       "      <td>6</td>\n",
       "    </tr>\n",
       "    <tr>\n",
       "      <th>2017-07-02 02:00:00</th>\n",
       "      <td>ETHUSD</td>\n",
       "      <td>257.02</td>\n",
       "      <td>1335138.27</td>\n",
       "      <td>Sunday</td>\n",
       "      <td>6</td>\n",
       "    </tr>\n",
       "    <tr>\n",
       "      <th>2017-07-02 03:00:00</th>\n",
       "      <td>ETHUSD</td>\n",
       "      <td>257.84</td>\n",
       "      <td>596059.44</td>\n",
       "      <td>Sunday</td>\n",
       "      <td>6</td>\n",
       "    </tr>\n",
       "    <tr>\n",
       "      <th>2017-07-02 04:00:00</th>\n",
       "      <td>ETHUSD</td>\n",
       "      <td>260.88</td>\n",
       "      <td>771738.33</td>\n",
       "      <td>Sunday</td>\n",
       "      <td>6</td>\n",
       "    </tr>\n",
       "    <tr>\n",
       "      <th>2017-07-02 05:00:00</th>\n",
       "      <td>ETHUSD</td>\n",
       "      <td>274.00</td>\n",
       "      <td>1746145.00</td>\n",
       "      <td>Sunday</td>\n",
       "      <td>6</td>\n",
       "    </tr>\n",
       "    <tr>\n",
       "      <th>2017-07-02 06:00:00</th>\n",
       "      <td>ETHUSD</td>\n",
       "      <td>263.37</td>\n",
       "      <td>590248.89</td>\n",
       "      <td>Sunday</td>\n",
       "      <td>6</td>\n",
       "    </tr>\n",
       "    <tr>\n",
       "      <th>2017-07-02 07:00:00</th>\n",
       "      <td>ETHUSD</td>\n",
       "      <td>265.89</td>\n",
       "      <td>983053.30</td>\n",
       "      <td>Sunday</td>\n",
       "      <td>6</td>\n",
       "    </tr>\n",
       "    <tr>\n",
       "      <th>2017-07-02 08:00:00</th>\n",
       "      <td>ETHUSD</td>\n",
       "      <td>263.53</td>\n",
       "      <td>2863655.38</td>\n",
       "      <td>Sunday</td>\n",
       "      <td>6</td>\n",
       "    </tr>\n",
       "    <tr>\n",
       "      <th>2017-07-02 09:00:00</th>\n",
       "      <td>ETHUSD</td>\n",
       "      <td>271.92</td>\n",
       "      <td>1152634.24</td>\n",
       "      <td>Sunday</td>\n",
       "      <td>6</td>\n",
       "    </tr>\n",
       "    <tr>\n",
       "      <th>2017-07-02 10:00:00</th>\n",
       "      <td>ETHUSD</td>\n",
       "      <td>278.30</td>\n",
       "      <td>1394564.60</td>\n",
       "      <td>Sunday</td>\n",
       "      <td>6</td>\n",
       "    </tr>\n",
       "    <tr>\n",
       "      <th>2017-07-02 11:00:00</th>\n",
       "      <td>ETHUSD</td>\n",
       "      <td>282.30</td>\n",
       "      <td>697030.65</td>\n",
       "      <td>Sunday</td>\n",
       "      <td>6</td>\n",
       "    </tr>\n",
       "    <tr>\n",
       "      <th>2017-07-02 12:00:00</th>\n",
       "      <td>ETHUSD</td>\n",
       "      <td>285.00</td>\n",
       "      <td>573434.18</td>\n",
       "      <td>Sunday</td>\n",
       "      <td>6</td>\n",
       "    </tr>\n",
       "    <tr>\n",
       "      <th>2017-07-02 13:00:00</th>\n",
       "      <td>ETHUSD</td>\n",
       "      <td>262.84</td>\n",
       "      <td>876227.38</td>\n",
       "      <td>Sunday</td>\n",
       "      <td>6</td>\n",
       "    </tr>\n",
       "    <tr>\n",
       "      <th>2017-07-02 14:00:00</th>\n",
       "      <td>ETHUSD</td>\n",
       "      <td>256.81</td>\n",
       "      <td>1304116.30</td>\n",
       "      <td>Sunday</td>\n",
       "      <td>6</td>\n",
       "    </tr>\n",
       "    <tr>\n",
       "      <th>2017-07-02 15:00:00</th>\n",
       "      <td>ETHUSD</td>\n",
       "      <td>263.20</td>\n",
       "      <td>2004006.68</td>\n",
       "      <td>Sunday</td>\n",
       "      <td>6</td>\n",
       "    </tr>\n",
       "    <tr>\n",
       "      <th>2017-07-02 16:00:00</th>\n",
       "      <td>ETHUSD</td>\n",
       "      <td>265.00</td>\n",
       "      <td>2682458.25</td>\n",
       "      <td>Sunday</td>\n",
       "      <td>6</td>\n",
       "    </tr>\n",
       "    <tr>\n",
       "      <th>2017-07-02 17:00:00</th>\n",
       "      <td>ETHUSD</td>\n",
       "      <td>269.56</td>\n",
       "      <td>7081816.11</td>\n",
       "      <td>Sunday</td>\n",
       "      <td>6</td>\n",
       "    </tr>\n",
       "    <tr>\n",
       "      <th>2017-07-02 18:00:00</th>\n",
       "      <td>ETHUSD</td>\n",
       "      <td>267.98</td>\n",
       "      <td>5618978.37</td>\n",
       "      <td>Sunday</td>\n",
       "      <td>6</td>\n",
       "    </tr>\n",
       "    <tr>\n",
       "      <th>2017-07-02 19:00:00</th>\n",
       "      <td>ETHUSD</td>\n",
       "      <td>262.01</td>\n",
       "      <td>3939023.86</td>\n",
       "      <td>Sunday</td>\n",
       "      <td>6</td>\n",
       "    </tr>\n",
       "    <tr>\n",
       "      <th>2017-07-02 20:00:00</th>\n",
       "      <td>ETHUSD</td>\n",
       "      <td>267.39</td>\n",
       "      <td>1436077.16</td>\n",
       "      <td>Sunday</td>\n",
       "      <td>6</td>\n",
       "    </tr>\n",
       "    <tr>\n",
       "      <th>2017-07-02 21:00:00</th>\n",
       "      <td>ETHUSD</td>\n",
       "      <td>281.00</td>\n",
       "      <td>6538721.57</td>\n",
       "      <td>Sunday</td>\n",
       "      <td>6</td>\n",
       "    </tr>\n",
       "    <tr>\n",
       "      <th>2017-07-02 22:00:00</th>\n",
       "      <td>ETHUSD</td>\n",
       "      <td>280.50</td>\n",
       "      <td>4048321.32</td>\n",
       "      <td>Sunday</td>\n",
       "      <td>6</td>\n",
       "    </tr>\n",
       "    <tr>\n",
       "      <th>2017-07-02 23:00:00</th>\n",
       "      <td>ETHUSD</td>\n",
       "      <td>292.54</td>\n",
       "      <td>1749191.10</td>\n",
       "      <td>Sunday</td>\n",
       "      <td>6</td>\n",
       "    </tr>\n",
       "  </tbody>\n",
       "</table>\n",
       "</div>"
      ],
      "text/plain": [
       "                     symbol   close      volume weekday  dayofweek\n",
       "date                                                              \n",
       "2017-07-02 00:00:00  ETHUSD  286.00  1323285.21  Sunday          6\n",
       "2017-07-02 01:00:00  ETHUSD  259.90   956362.19  Sunday          6\n",
       "2017-07-02 02:00:00  ETHUSD  257.02  1335138.27  Sunday          6\n",
       "2017-07-02 03:00:00  ETHUSD  257.84   596059.44  Sunday          6\n",
       "2017-07-02 04:00:00  ETHUSD  260.88   771738.33  Sunday          6\n",
       "2017-07-02 05:00:00  ETHUSD  274.00  1746145.00  Sunday          6\n",
       "2017-07-02 06:00:00  ETHUSD  263.37   590248.89  Sunday          6\n",
       "2017-07-02 07:00:00  ETHUSD  265.89   983053.30  Sunday          6\n",
       "2017-07-02 08:00:00  ETHUSD  263.53  2863655.38  Sunday          6\n",
       "2017-07-02 09:00:00  ETHUSD  271.92  1152634.24  Sunday          6\n",
       "2017-07-02 10:00:00  ETHUSD  278.30  1394564.60  Sunday          6\n",
       "2017-07-02 11:00:00  ETHUSD  282.30   697030.65  Sunday          6\n",
       "2017-07-02 12:00:00  ETHUSD  285.00   573434.18  Sunday          6\n",
       "2017-07-02 13:00:00  ETHUSD  262.84   876227.38  Sunday          6\n",
       "2017-07-02 14:00:00  ETHUSD  256.81  1304116.30  Sunday          6\n",
       "2017-07-02 15:00:00  ETHUSD  263.20  2004006.68  Sunday          6\n",
       "2017-07-02 16:00:00  ETHUSD  265.00  2682458.25  Sunday          6\n",
       "2017-07-02 17:00:00  ETHUSD  269.56  7081816.11  Sunday          6\n",
       "2017-07-02 18:00:00  ETHUSD  267.98  5618978.37  Sunday          6\n",
       "2017-07-02 19:00:00  ETHUSD  262.01  3939023.86  Sunday          6\n",
       "2017-07-02 20:00:00  ETHUSD  267.39  1436077.16  Sunday          6\n",
       "2017-07-02 21:00:00  ETHUSD  281.00  6538721.57  Sunday          6\n",
       "2017-07-02 22:00:00  ETHUSD  280.50  4048321.32  Sunday          6\n",
       "2017-07-02 23:00:00  ETHUSD  292.54  1749191.10  Sunday          6"
      ]
     },
     "execution_count": 193,
     "metadata": {},
     "output_type": "execute_result"
    }
   ],
   "source": [
    "#single .loc value\n",
    "df.loc['2017-07-02']"
   ]
  },
  {
   "cell_type": "code",
   "execution_count": 194,
   "id": "4861d432",
   "metadata": {},
   "outputs": [
    {
     "data": {
      "text/html": [
       "<div>\n",
       "<style scoped>\n",
       "    .dataframe tbody tr th:only-of-type {\n",
       "        vertical-align: middle;\n",
       "    }\n",
       "\n",
       "    .dataframe tbody tr th {\n",
       "        vertical-align: top;\n",
       "    }\n",
       "\n",
       "    .dataframe thead th {\n",
       "        text-align: right;\n",
       "    }\n",
       "</style>\n",
       "<table border=\"1\" class=\"dataframe\">\n",
       "  <thead>\n",
       "    <tr style=\"text-align: right;\">\n",
       "      <th></th>\n",
       "      <th>symbol</th>\n",
       "      <th>close</th>\n",
       "      <th>volume</th>\n",
       "      <th>weekday</th>\n",
       "      <th>dayofweek</th>\n",
       "    </tr>\n",
       "    <tr>\n",
       "      <th>date</th>\n",
       "      <th></th>\n",
       "      <th></th>\n",
       "      <th></th>\n",
       "      <th></th>\n",
       "      <th></th>\n",
       "    </tr>\n",
       "  </thead>\n",
       "  <tbody>\n",
       "    <tr>\n",
       "      <th>2017-07-01 11:00:00</th>\n",
       "      <td>ETHUSD</td>\n",
       "      <td>257.13</td>\n",
       "      <td>679358.87</td>\n",
       "      <td>Saturday</td>\n",
       "      <td>5</td>\n",
       "    </tr>\n",
       "    <tr>\n",
       "      <th>2017-07-01 12:00:00</th>\n",
       "      <td>ETHUSD</td>\n",
       "      <td>263.12</td>\n",
       "      <td>824362.87</td>\n",
       "      <td>Saturday</td>\n",
       "      <td>5</td>\n",
       "    </tr>\n",
       "    <tr>\n",
       "      <th>2017-07-01 13:00:00</th>\n",
       "      <td>ETHUSD</td>\n",
       "      <td>275.01</td>\n",
       "      <td>3010787.99</td>\n",
       "      <td>Saturday</td>\n",
       "      <td>5</td>\n",
       "    </tr>\n",
       "    <tr>\n",
       "      <th>2017-07-01 14:00:00</th>\n",
       "      <td>ETHUSD</td>\n",
       "      <td>274.83</td>\n",
       "      <td>1702536.85</td>\n",
       "      <td>Saturday</td>\n",
       "      <td>5</td>\n",
       "    </tr>\n",
       "    <tr>\n",
       "      <th>2017-07-01 15:00:00</th>\n",
       "      <td>ETHUSD</td>\n",
       "      <td>268.79</td>\n",
       "      <td>1500282.55</td>\n",
       "      <td>Saturday</td>\n",
       "      <td>5</td>\n",
       "    </tr>\n",
       "    <tr>\n",
       "      <th>...</th>\n",
       "      <td>...</td>\n",
       "      <td>...</td>\n",
       "      <td>...</td>\n",
       "      <td>...</td>\n",
       "      <td>...</td>\n",
       "    </tr>\n",
       "    <tr>\n",
       "      <th>2017-09-30 19:00:00</th>\n",
       "      <td>ETHUSD</td>\n",
       "      <td>302.79</td>\n",
       "      <td>301850.54</td>\n",
       "      <td>Saturday</td>\n",
       "      <td>5</td>\n",
       "    </tr>\n",
       "    <tr>\n",
       "      <th>2017-09-30 20:00:00</th>\n",
       "      <td>ETHUSD</td>\n",
       "      <td>302.97</td>\n",
       "      <td>737006.90</td>\n",
       "      <td>Saturday</td>\n",
       "      <td>5</td>\n",
       "    </tr>\n",
       "    <tr>\n",
       "      <th>2017-09-30 21:00:00</th>\n",
       "      <td>ETHUSD</td>\n",
       "      <td>300.10</td>\n",
       "      <td>1407368.63</td>\n",
       "      <td>Saturday</td>\n",
       "      <td>5</td>\n",
       "    </tr>\n",
       "    <tr>\n",
       "      <th>2017-09-30 22:00:00</th>\n",
       "      <td>ETHUSD</td>\n",
       "      <td>301.57</td>\n",
       "      <td>531087.77</td>\n",
       "      <td>Saturday</td>\n",
       "      <td>5</td>\n",
       "    </tr>\n",
       "    <tr>\n",
       "      <th>2017-09-30 23:00:00</th>\n",
       "      <td>ETHUSD</td>\n",
       "      <td>299.14</td>\n",
       "      <td>478343.16</td>\n",
       "      <td>Saturday</td>\n",
       "      <td>5</td>\n",
       "    </tr>\n",
       "  </tbody>\n",
       "</table>\n",
       "<p>2197 rows × 5 columns</p>\n",
       "</div>"
      ],
      "text/plain": [
       "                     symbol   close      volume   weekday  dayofweek\n",
       "date                                                                \n",
       "2017-07-01 11:00:00  ETHUSD  257.13   679358.87  Saturday          5\n",
       "2017-07-01 12:00:00  ETHUSD  263.12   824362.87  Saturday          5\n",
       "2017-07-01 13:00:00  ETHUSD  275.01  3010787.99  Saturday          5\n",
       "2017-07-01 14:00:00  ETHUSD  274.83  1702536.85  Saturday          5\n",
       "2017-07-01 15:00:00  ETHUSD  268.79  1500282.55  Saturday          5\n",
       "...                     ...     ...         ...       ...        ...\n",
       "2017-09-30 19:00:00  ETHUSD  302.79   301850.54  Saturday          5\n",
       "2017-09-30 20:00:00  ETHUSD  302.97   737006.90  Saturday          5\n",
       "2017-09-30 21:00:00  ETHUSD  300.10  1407368.63  Saturday          5\n",
       "2017-09-30 22:00:00  ETHUSD  301.57   531087.77  Saturday          5\n",
       "2017-09-30 23:00:00  ETHUSD  299.14   478343.16  Saturday          5\n",
       "\n",
       "[2197 rows x 5 columns]"
      ]
     },
     "execution_count": 194,
     "metadata": {},
     "output_type": "execute_result"
    }
   ],
   "source": [
    "#range of .loc values\n",
    "df.loc['2017-7':'2017-09']"
   ]
  },
  {
   "cell_type": "markdown",
   "id": "308b5bcc",
   "metadata": {},
   "source": [
    "## What if we want a different period of data?\n",
    "- downsampling\n",
    "- upsampling\n",
    "- resampling\n",
    "- rolling averages\n",
    "- shift/difference"
   ]
  },
  {
   "cell_type": "code",
   "execution_count": 197,
   "id": "273129be",
   "metadata": {},
   "outputs": [
    {
     "data": {
      "text/html": [
       "<div>\n",
       "<style scoped>\n",
       "    .dataframe tbody tr th:only-of-type {\n",
       "        vertical-align: middle;\n",
       "    }\n",
       "\n",
       "    .dataframe tbody tr th {\n",
       "        vertical-align: top;\n",
       "    }\n",
       "\n",
       "    .dataframe thead th {\n",
       "        text-align: right;\n",
       "    }\n",
       "</style>\n",
       "<table border=\"1\" class=\"dataframe\">\n",
       "  <thead>\n",
       "    <tr style=\"text-align: right;\">\n",
       "      <th></th>\n",
       "      <th>close</th>\n",
       "    </tr>\n",
       "    <tr>\n",
       "      <th>date</th>\n",
       "      <th></th>\n",
       "    </tr>\n",
       "  </thead>\n",
       "  <tbody>\n",
       "    <tr>\n",
       "      <th>2017-07-01 11:00:00</th>\n",
       "      <td>257.13</td>\n",
       "    </tr>\n",
       "    <tr>\n",
       "      <th>2017-07-01 12:00:00</th>\n",
       "      <td>263.12</td>\n",
       "    </tr>\n",
       "    <tr>\n",
       "      <th>2017-07-01 13:00:00</th>\n",
       "      <td>275.01</td>\n",
       "    </tr>\n",
       "    <tr>\n",
       "      <th>2017-07-01 14:00:00</th>\n",
       "      <td>274.83</td>\n",
       "    </tr>\n",
       "    <tr>\n",
       "      <th>2017-07-01 15:00:00</th>\n",
       "      <td>268.79</td>\n",
       "    </tr>\n",
       "  </tbody>\n",
       "</table>\n",
       "</div>"
      ],
      "text/plain": [
       "                      close\n",
       "date                       \n",
       "2017-07-01 11:00:00  257.13\n",
       "2017-07-01 12:00:00  263.12\n",
       "2017-07-01 13:00:00  275.01\n",
       "2017-07-01 14:00:00  274.83\n",
       "2017-07-01 15:00:00  268.79"
      ]
     },
     "execution_count": 197,
     "metadata": {},
     "output_type": "execute_result"
    }
   ],
   "source": [
    "#drop extra columns\n",
    "df = df[['close']]\n",
    "df.head()"
   ]
  },
  {
   "cell_type": "markdown",
   "id": "41461902",
   "metadata": {},
   "source": [
    "### Downsampling: reduce frequency"
   ]
  },
  {
   "cell_type": "markdown",
   "id": "ce965e23",
   "metadata": {},
   "source": [
    "reduce the number of rows by removing more precise units of time\n",
    "- use `asfreq` to change the period"
   ]
  },
  {
   "cell_type": "markdown",
   "id": "f65a16ec",
   "metadata": {},
   "source": [
    "#### Example: the level of granularity of our data is currently to the hour"
   ]
  },
  {
   "cell_type": "code",
   "execution_count": 198,
   "id": "38bb3977",
   "metadata": {},
   "outputs": [
    {
     "data": {
      "text/html": [
       "<div>\n",
       "<style scoped>\n",
       "    .dataframe tbody tr th:only-of-type {\n",
       "        vertical-align: middle;\n",
       "    }\n",
       "\n",
       "    .dataframe tbody tr th {\n",
       "        vertical-align: top;\n",
       "    }\n",
       "\n",
       "    .dataframe thead th {\n",
       "        text-align: right;\n",
       "    }\n",
       "</style>\n",
       "<table border=\"1\" class=\"dataframe\">\n",
       "  <thead>\n",
       "    <tr style=\"text-align: right;\">\n",
       "      <th></th>\n",
       "      <th>close</th>\n",
       "    </tr>\n",
       "    <tr>\n",
       "      <th>date</th>\n",
       "      <th></th>\n",
       "    </tr>\n",
       "  </thead>\n",
       "  <tbody>\n",
       "    <tr>\n",
       "      <th>2017-07-01 11:00:00</th>\n",
       "      <td>257.13</td>\n",
       "    </tr>\n",
       "    <tr>\n",
       "      <th>2017-07-01 12:00:00</th>\n",
       "      <td>263.12</td>\n",
       "    </tr>\n",
       "    <tr>\n",
       "      <th>2017-07-01 13:00:00</th>\n",
       "      <td>275.01</td>\n",
       "    </tr>\n",
       "    <tr>\n",
       "      <th>2017-07-01 14:00:00</th>\n",
       "      <td>274.83</td>\n",
       "    </tr>\n",
       "    <tr>\n",
       "      <th>2017-07-01 15:00:00</th>\n",
       "      <td>268.79</td>\n",
       "    </tr>\n",
       "  </tbody>\n",
       "</table>\n",
       "</div>"
      ],
      "text/plain": [
       "                      close\n",
       "date                       \n",
       "2017-07-01 11:00:00  257.13\n",
       "2017-07-01 12:00:00  263.12\n",
       "2017-07-01 13:00:00  275.01\n",
       "2017-07-01 14:00:00  274.83\n",
       "2017-07-01 15:00:00  268.79"
      ]
     },
     "execution_count": 198,
     "metadata": {},
     "output_type": "execute_result"
    }
   ],
   "source": [
    "df.head()"
   ]
  },
  {
   "cell_type": "markdown",
   "id": "14766a90",
   "metadata": {},
   "source": [
    "#### reduce granularity"
   ]
  },
  {
   "cell_type": "code",
   "execution_count": 200,
   "id": "8e746f45",
   "metadata": {},
   "outputs": [
    {
     "data": {
      "text/html": [
       "<div>\n",
       "<style scoped>\n",
       "    .dataframe tbody tr th:only-of-type {\n",
       "        vertical-align: middle;\n",
       "    }\n",
       "\n",
       "    .dataframe tbody tr th {\n",
       "        vertical-align: top;\n",
       "    }\n",
       "\n",
       "    .dataframe thead th {\n",
       "        text-align: right;\n",
       "    }\n",
       "</style>\n",
       "<table border=\"1\" class=\"dataframe\">\n",
       "  <thead>\n",
       "    <tr style=\"text-align: right;\">\n",
       "      <th></th>\n",
       "      <th>close</th>\n",
       "    </tr>\n",
       "    <tr>\n",
       "      <th>date</th>\n",
       "      <th></th>\n",
       "    </tr>\n",
       "  </thead>\n",
       "  <tbody>\n",
       "    <tr>\n",
       "      <th>2017-07-01 11:00:00</th>\n",
       "      <td>257.13</td>\n",
       "    </tr>\n",
       "    <tr>\n",
       "      <th>2017-07-02 11:00:00</th>\n",
       "      <td>282.30</td>\n",
       "    </tr>\n",
       "    <tr>\n",
       "      <th>2017-07-03 11:00:00</th>\n",
       "      <td>279.50</td>\n",
       "    </tr>\n",
       "    <tr>\n",
       "      <th>2017-07-04 11:00:00</th>\n",
       "      <td>269.57</td>\n",
       "    </tr>\n",
       "    <tr>\n",
       "      <th>2017-07-05 11:00:00</th>\n",
       "      <td>265.20</td>\n",
       "    </tr>\n",
       "  </tbody>\n",
       "</table>\n",
       "</div>"
      ],
      "text/plain": [
       "                      close\n",
       "date                       \n",
       "2017-07-01 11:00:00  257.13\n",
       "2017-07-02 11:00:00  282.30\n",
       "2017-07-03 11:00:00  279.50\n",
       "2017-07-04 11:00:00  269.57\n",
       "2017-07-05 11:00:00  265.20"
      ]
     },
     "execution_count": 200,
     "metadata": {},
     "output_type": "execute_result"
    }
   ],
   "source": [
    "#set frequency to daily\n",
    "df.asfreq('D').head()"
   ]
  },
  {
   "cell_type": "code",
   "execution_count": 203,
   "id": "dffd13ee",
   "metadata": {},
   "outputs": [
    {
     "data": {
      "text/html": [
       "<div>\n",
       "<style scoped>\n",
       "    .dataframe tbody tr th:only-of-type {\n",
       "        vertical-align: middle;\n",
       "    }\n",
       "\n",
       "    .dataframe tbody tr th {\n",
       "        vertical-align: top;\n",
       "    }\n",
       "\n",
       "    .dataframe thead th {\n",
       "        text-align: right;\n",
       "    }\n",
       "</style>\n",
       "<table border=\"1\" class=\"dataframe\">\n",
       "  <thead>\n",
       "    <tr style=\"text-align: right;\">\n",
       "      <th></th>\n",
       "      <th>close</th>\n",
       "    </tr>\n",
       "    <tr>\n",
       "      <th>date</th>\n",
       "      <th></th>\n",
       "    </tr>\n",
       "  </thead>\n",
       "  <tbody>\n",
       "    <tr>\n",
       "      <th>2017-07-31 11:00:00</th>\n",
       "      <td>199.96</td>\n",
       "    </tr>\n",
       "    <tr>\n",
       "      <th>2017-08-31 11:00:00</th>\n",
       "      <td>388.19</td>\n",
       "    </tr>\n",
       "    <tr>\n",
       "      <th>2017-09-30 11:00:00</th>\n",
       "      <td>300.37</td>\n",
       "    </tr>\n",
       "    <tr>\n",
       "      <th>2017-10-31 11:00:00</th>\n",
       "      <td>303.45</td>\n",
       "    </tr>\n",
       "    <tr>\n",
       "      <th>2017-11-30 11:00:00</th>\n",
       "      <td>420.42</td>\n",
       "    </tr>\n",
       "  </tbody>\n",
       "</table>\n",
       "</div>"
      ],
      "text/plain": [
       "                      close\n",
       "date                       \n",
       "2017-07-31 11:00:00  199.96\n",
       "2017-08-31 11:00:00  388.19\n",
       "2017-09-30 11:00:00  300.37\n",
       "2017-10-31 11:00:00  303.45\n",
       "2017-11-30 11:00:00  420.42"
      ]
     },
     "execution_count": 203,
     "metadata": {},
     "output_type": "execute_result"
    }
   ],
   "source": [
    "#set frequency to monthly\n",
    "df.asfreq('M').head()"
   ]
  },
  {
   "cell_type": "markdown",
   "id": "1abdb9c8",
   "metadata": {},
   "source": [
    "### Upsampling: Increase frequency\n",
    "increase the number of rows by adding more precise units of time\n",
    "- use `asfreq` to change the period (same as before)"
   ]
  },
  {
   "cell_type": "markdown",
   "id": "a4f8f2c6",
   "metadata": {},
   "source": [
    "#### Example: the level of granularity of our data is currently to the hour"
   ]
  },
  {
   "cell_type": "code",
   "execution_count": 204,
   "id": "cdda39f4",
   "metadata": {},
   "outputs": [
    {
     "data": {
      "text/html": [
       "<div>\n",
       "<style scoped>\n",
       "    .dataframe tbody tr th:only-of-type {\n",
       "        vertical-align: middle;\n",
       "    }\n",
       "\n",
       "    .dataframe tbody tr th {\n",
       "        vertical-align: top;\n",
       "    }\n",
       "\n",
       "    .dataframe thead th {\n",
       "        text-align: right;\n",
       "    }\n",
       "</style>\n",
       "<table border=\"1\" class=\"dataframe\">\n",
       "  <thead>\n",
       "    <tr style=\"text-align: right;\">\n",
       "      <th></th>\n",
       "      <th>close</th>\n",
       "    </tr>\n",
       "    <tr>\n",
       "      <th>date</th>\n",
       "      <th></th>\n",
       "    </tr>\n",
       "  </thead>\n",
       "  <tbody>\n",
       "    <tr>\n",
       "      <th>2017-07-01 11:00:00</th>\n",
       "      <td>257.13</td>\n",
       "    </tr>\n",
       "    <tr>\n",
       "      <th>2017-07-01 12:00:00</th>\n",
       "      <td>263.12</td>\n",
       "    </tr>\n",
       "    <tr>\n",
       "      <th>2017-07-01 13:00:00</th>\n",
       "      <td>275.01</td>\n",
       "    </tr>\n",
       "    <tr>\n",
       "      <th>2017-07-01 14:00:00</th>\n",
       "      <td>274.83</td>\n",
       "    </tr>\n",
       "    <tr>\n",
       "      <th>2017-07-01 15:00:00</th>\n",
       "      <td>268.79</td>\n",
       "    </tr>\n",
       "  </tbody>\n",
       "</table>\n",
       "</div>"
      ],
      "text/plain": [
       "                      close\n",
       "date                       \n",
       "2017-07-01 11:00:00  257.13\n",
       "2017-07-01 12:00:00  263.12\n",
       "2017-07-01 13:00:00  275.01\n",
       "2017-07-01 14:00:00  274.83\n",
       "2017-07-01 15:00:00  268.79"
      ]
     },
     "execution_count": 204,
     "metadata": {},
     "output_type": "execute_result"
    }
   ],
   "source": [
    "df.head()"
   ]
  },
  {
   "cell_type": "markdown",
   "id": "f7178d86",
   "metadata": {},
   "source": [
    "#### increase granularity"
   ]
  },
  {
   "cell_type": "code",
   "execution_count": 205,
   "id": "d6d52abe",
   "metadata": {
    "scrolled": true
   },
   "outputs": [
    {
     "data": {
      "text/html": [
       "<div>\n",
       "<style scoped>\n",
       "    .dataframe tbody tr th:only-of-type {\n",
       "        vertical-align: middle;\n",
       "    }\n",
       "\n",
       "    .dataframe tbody tr th {\n",
       "        vertical-align: top;\n",
       "    }\n",
       "\n",
       "    .dataframe thead th {\n",
       "        text-align: right;\n",
       "    }\n",
       "</style>\n",
       "<table border=\"1\" class=\"dataframe\">\n",
       "  <thead>\n",
       "    <tr style=\"text-align: right;\">\n",
       "      <th></th>\n",
       "      <th>close</th>\n",
       "    </tr>\n",
       "    <tr>\n",
       "      <th>date</th>\n",
       "      <th></th>\n",
       "    </tr>\n",
       "  </thead>\n",
       "  <tbody>\n",
       "    <tr>\n",
       "      <th>2017-07-01 11:00:00</th>\n",
       "      <td>257.13</td>\n",
       "    </tr>\n",
       "    <tr>\n",
       "      <th>2017-07-01 11:30:00</th>\n",
       "      <td>NaN</td>\n",
       "    </tr>\n",
       "    <tr>\n",
       "      <th>2017-07-01 12:00:00</th>\n",
       "      <td>263.12</td>\n",
       "    </tr>\n",
       "    <tr>\n",
       "      <th>2017-07-01 12:30:00</th>\n",
       "      <td>NaN</td>\n",
       "    </tr>\n",
       "    <tr>\n",
       "      <th>2017-07-01 13:00:00</th>\n",
       "      <td>275.01</td>\n",
       "    </tr>\n",
       "    <tr>\n",
       "      <th>...</th>\n",
       "      <td>...</td>\n",
       "    </tr>\n",
       "    <tr>\n",
       "      <th>2020-03-13 18:00:00</th>\n",
       "      <td>128.93</td>\n",
       "    </tr>\n",
       "    <tr>\n",
       "      <th>2020-03-13 18:30:00</th>\n",
       "      <td>NaN</td>\n",
       "    </tr>\n",
       "    <tr>\n",
       "      <th>2020-03-13 19:00:00</th>\n",
       "      <td>134.03</td>\n",
       "    </tr>\n",
       "    <tr>\n",
       "      <th>2020-03-13 19:30:00</th>\n",
       "      <td>NaN</td>\n",
       "    </tr>\n",
       "    <tr>\n",
       "      <th>2020-03-13 20:00:00</th>\n",
       "      <td>124.85</td>\n",
       "    </tr>\n",
       "  </tbody>\n",
       "</table>\n",
       "<p>47347 rows × 1 columns</p>\n",
       "</div>"
      ],
      "text/plain": [
       "                      close\n",
       "date                       \n",
       "2017-07-01 11:00:00  257.13\n",
       "2017-07-01 11:30:00     NaN\n",
       "2017-07-01 12:00:00  263.12\n",
       "2017-07-01 12:30:00     NaN\n",
       "2017-07-01 13:00:00  275.01\n",
       "...                     ...\n",
       "2020-03-13 18:00:00  128.93\n",
       "2020-03-13 18:30:00     NaN\n",
       "2020-03-13 19:00:00  134.03\n",
       "2020-03-13 19:30:00     NaN\n",
       "2020-03-13 20:00:00  124.85\n",
       "\n",
       "[47347 rows x 1 columns]"
      ]
     },
     "execution_count": 205,
     "metadata": {},
     "output_type": "execute_result"
    }
   ],
   "source": [
    "#set frequency to minutes\n",
    "df.asfreq('30T')"
   ]
  },
  {
   "cell_type": "markdown",
   "id": "2f37896b",
   "metadata": {},
   "source": [
    "#### fill the nulls that were generated"
   ]
  },
  {
   "cell_type": "markdown",
   "id": "6ee41efb",
   "metadata": {},
   "source": [
    "'ffill' = forward fill\n",
    "\n",
    "'bfill' = backward fill"
   ]
  },
  {
   "cell_type": "code",
   "execution_count": 208,
   "id": "dfa3ee4d",
   "metadata": {},
   "outputs": [
    {
     "data": {
      "text/html": [
       "<div>\n",
       "<style scoped>\n",
       "    .dataframe tbody tr th:only-of-type {\n",
       "        vertical-align: middle;\n",
       "    }\n",
       "\n",
       "    .dataframe tbody tr th {\n",
       "        vertical-align: top;\n",
       "    }\n",
       "\n",
       "    .dataframe thead th {\n",
       "        text-align: right;\n",
       "    }\n",
       "</style>\n",
       "<table border=\"1\" class=\"dataframe\">\n",
       "  <thead>\n",
       "    <tr style=\"text-align: right;\">\n",
       "      <th></th>\n",
       "      <th>close</th>\n",
       "    </tr>\n",
       "    <tr>\n",
       "      <th>date</th>\n",
       "      <th></th>\n",
       "    </tr>\n",
       "  </thead>\n",
       "  <tbody>\n",
       "    <tr>\n",
       "      <th>2017-07-01 11:00:00</th>\n",
       "      <td>257.13</td>\n",
       "    </tr>\n",
       "    <tr>\n",
       "      <th>2017-07-01 11:30:00</th>\n",
       "      <td>257.13</td>\n",
       "    </tr>\n",
       "    <tr>\n",
       "      <th>2017-07-01 12:00:00</th>\n",
       "      <td>263.12</td>\n",
       "    </tr>\n",
       "    <tr>\n",
       "      <th>2017-07-01 12:30:00</th>\n",
       "      <td>263.12</td>\n",
       "    </tr>\n",
       "    <tr>\n",
       "      <th>2017-07-01 13:00:00</th>\n",
       "      <td>275.01</td>\n",
       "    </tr>\n",
       "  </tbody>\n",
       "</table>\n",
       "</div>"
      ],
      "text/plain": [
       "                      close\n",
       "date                       \n",
       "2017-07-01 11:00:00  257.13\n",
       "2017-07-01 11:30:00  257.13\n",
       "2017-07-01 12:00:00  263.12\n",
       "2017-07-01 12:30:00  263.12\n",
       "2017-07-01 13:00:00  275.01"
      ]
     },
     "execution_count": 208,
     "metadata": {},
     "output_type": "execute_result"
    }
   ],
   "source": [
    "#use ffill method\n",
    "df.asfreq('30T', method='ffill').head()"
   ]
  },
  {
   "cell_type": "code",
   "execution_count": 209,
   "id": "ac2775b2",
   "metadata": {},
   "outputs": [
    {
     "data": {
      "text/html": [
       "<div>\n",
       "<style scoped>\n",
       "    .dataframe tbody tr th:only-of-type {\n",
       "        vertical-align: middle;\n",
       "    }\n",
       "\n",
       "    .dataframe tbody tr th {\n",
       "        vertical-align: top;\n",
       "    }\n",
       "\n",
       "    .dataframe thead th {\n",
       "        text-align: right;\n",
       "    }\n",
       "</style>\n",
       "<table border=\"1\" class=\"dataframe\">\n",
       "  <thead>\n",
       "    <tr style=\"text-align: right;\">\n",
       "      <th></th>\n",
       "      <th>close</th>\n",
       "    </tr>\n",
       "    <tr>\n",
       "      <th>date</th>\n",
       "      <th></th>\n",
       "    </tr>\n",
       "  </thead>\n",
       "  <tbody>\n",
       "    <tr>\n",
       "      <th>2017-07-01 11:00:00</th>\n",
       "      <td>257.13</td>\n",
       "    </tr>\n",
       "    <tr>\n",
       "      <th>2017-07-01 11:30:00</th>\n",
       "      <td>263.12</td>\n",
       "    </tr>\n",
       "    <tr>\n",
       "      <th>2017-07-01 12:00:00</th>\n",
       "      <td>263.12</td>\n",
       "    </tr>\n",
       "    <tr>\n",
       "      <th>2017-07-01 12:30:00</th>\n",
       "      <td>275.01</td>\n",
       "    </tr>\n",
       "    <tr>\n",
       "      <th>2017-07-01 13:00:00</th>\n",
       "      <td>275.01</td>\n",
       "    </tr>\n",
       "  </tbody>\n",
       "</table>\n",
       "</div>"
      ],
      "text/plain": [
       "                      close\n",
       "date                       \n",
       "2017-07-01 11:00:00  257.13\n",
       "2017-07-01 11:30:00  263.12\n",
       "2017-07-01 12:00:00  263.12\n",
       "2017-07-01 12:30:00  275.01\n",
       "2017-07-01 13:00:00  275.01"
      ]
     },
     "execution_count": 209,
     "metadata": {},
     "output_type": "execute_result"
    }
   ],
   "source": [
    "# use bfill method\n",
    "df.asfreq('30T', method='bfill').head()"
   ]
  },
  {
   "cell_type": "markdown",
   "id": "3cbf134c-7ea3-483e-896c-7a56bddffec1",
   "metadata": {},
   "source": [
    "> just filling the null values!"
   ]
  },
  {
   "cell_type": "markdown",
   "id": "22e109f6",
   "metadata": {},
   "source": [
    "### Resampling - Aggregating over time\n",
    "select a level of granularity and get an aggregated value from it"
   ]
  },
  {
   "cell_type": "code",
   "execution_count": 211,
   "id": "597f8c4b",
   "metadata": {},
   "outputs": [
    {
     "data": {
      "text/html": [
       "<div>\n",
       "<style scoped>\n",
       "    .dataframe tbody tr th:only-of-type {\n",
       "        vertical-align: middle;\n",
       "    }\n",
       "\n",
       "    .dataframe tbody tr th {\n",
       "        vertical-align: top;\n",
       "    }\n",
       "\n",
       "    .dataframe thead th {\n",
       "        text-align: right;\n",
       "    }\n",
       "</style>\n",
       "<table border=\"1\" class=\"dataframe\">\n",
       "  <thead>\n",
       "    <tr style=\"text-align: right;\">\n",
       "      <th></th>\n",
       "      <th>close</th>\n",
       "    </tr>\n",
       "    <tr>\n",
       "      <th>date</th>\n",
       "      <th></th>\n",
       "    </tr>\n",
       "  </thead>\n",
       "  <tbody>\n",
       "    <tr>\n",
       "      <th>2017-07-01 11:00:00</th>\n",
       "      <td>257.13</td>\n",
       "    </tr>\n",
       "    <tr>\n",
       "      <th>2017-07-01 12:00:00</th>\n",
       "      <td>263.12</td>\n",
       "    </tr>\n",
       "    <tr>\n",
       "      <th>2017-07-01 13:00:00</th>\n",
       "      <td>275.01</td>\n",
       "    </tr>\n",
       "    <tr>\n",
       "      <th>2017-07-01 14:00:00</th>\n",
       "      <td>274.83</td>\n",
       "    </tr>\n",
       "    <tr>\n",
       "      <th>2017-07-01 15:00:00</th>\n",
       "      <td>268.79</td>\n",
       "    </tr>\n",
       "  </tbody>\n",
       "</table>\n",
       "</div>"
      ],
      "text/plain": [
       "                      close\n",
       "date                       \n",
       "2017-07-01 11:00:00  257.13\n",
       "2017-07-01 12:00:00  263.12\n",
       "2017-07-01 13:00:00  275.01\n",
       "2017-07-01 14:00:00  274.83\n",
       "2017-07-01 15:00:00  268.79"
      ]
     },
     "execution_count": 211,
     "metadata": {},
     "output_type": "execute_result"
    }
   ],
   "source": [
    "df.head()"
   ]
  },
  {
   "cell_type": "code",
   "execution_count": 216,
   "id": "e643476b",
   "metadata": {},
   "outputs": [
    {
     "data": {
      "text/html": [
       "<div>\n",
       "<style scoped>\n",
       "    .dataframe tbody tr th:only-of-type {\n",
       "        vertical-align: middle;\n",
       "    }\n",
       "\n",
       "    .dataframe tbody tr th {\n",
       "        vertical-align: top;\n",
       "    }\n",
       "\n",
       "    .dataframe thead th {\n",
       "        text-align: right;\n",
       "    }\n",
       "</style>\n",
       "<table border=\"1\" class=\"dataframe\">\n",
       "  <thead>\n",
       "    <tr style=\"text-align: right;\">\n",
       "      <th></th>\n",
       "      <th>close</th>\n",
       "    </tr>\n",
       "    <tr>\n",
       "      <th>date</th>\n",
       "      <th></th>\n",
       "    </tr>\n",
       "  </thead>\n",
       "  <tbody>\n",
       "    <tr>\n",
       "      <th>2017-07-01</th>\n",
       "      <td>265.284615</td>\n",
       "    </tr>\n",
       "    <tr>\n",
       "      <th>2017-07-02</th>\n",
       "      <td>269.782500</td>\n",
       "    </tr>\n",
       "    <tr>\n",
       "      <th>2017-07-03</th>\n",
       "      <td>278.882083</td>\n",
       "    </tr>\n",
       "    <tr>\n",
       "      <th>2017-07-04</th>\n",
       "      <td>276.743333</td>\n",
       "    </tr>\n",
       "    <tr>\n",
       "      <th>2017-07-05</th>\n",
       "      <td>265.025833</td>\n",
       "    </tr>\n",
       "  </tbody>\n",
       "</table>\n",
       "</div>"
      ],
      "text/plain": [
       "                 close\n",
       "date                  \n",
       "2017-07-01  265.284615\n",
       "2017-07-02  269.782500\n",
       "2017-07-03  278.882083\n",
       "2017-07-04  276.743333\n",
       "2017-07-05  265.025833"
      ]
     },
     "execution_count": 216,
     "metadata": {},
     "output_type": "execute_result"
    }
   ],
   "source": [
    "#get the daily mean\n",
    "df_daily = df.resample('D').mean()\n",
    "df_daily.head()"
   ]
  },
  {
   "cell_type": "code",
   "execution_count": 218,
   "id": "2e039916",
   "metadata": {},
   "outputs": [
    {
     "data": {
      "text/html": [
       "<div>\n",
       "<style scoped>\n",
       "    .dataframe tbody tr th:only-of-type {\n",
       "        vertical-align: middle;\n",
       "    }\n",
       "\n",
       "    .dataframe tbody tr th {\n",
       "        vertical-align: top;\n",
       "    }\n",
       "\n",
       "    .dataframe thead tr th {\n",
       "        text-align: left;\n",
       "    }\n",
       "\n",
       "    .dataframe thead tr:last-of-type th {\n",
       "        text-align: right;\n",
       "    }\n",
       "</style>\n",
       "<table border=\"1\" class=\"dataframe\">\n",
       "  <thead>\n",
       "    <tr>\n",
       "      <th></th>\n",
       "      <th colspan=\"3\" halign=\"left\">close</th>\n",
       "    </tr>\n",
       "    <tr>\n",
       "      <th></th>\n",
       "      <th>min</th>\n",
       "      <th>mean</th>\n",
       "      <th>max</th>\n",
       "    </tr>\n",
       "    <tr>\n",
       "      <th>date</th>\n",
       "      <th></th>\n",
       "      <th></th>\n",
       "      <th></th>\n",
       "    </tr>\n",
       "  </thead>\n",
       "  <tbody>\n",
       "    <tr>\n",
       "      <th>2017-07-01</th>\n",
       "      <td>257.13</td>\n",
       "      <td>265.284615</td>\n",
       "      <td>275.01</td>\n",
       "    </tr>\n",
       "    <tr>\n",
       "      <th>2017-07-02</th>\n",
       "      <td>256.81</td>\n",
       "      <td>269.782500</td>\n",
       "      <td>292.54</td>\n",
       "    </tr>\n",
       "    <tr>\n",
       "      <th>2017-07-03</th>\n",
       "      <td>274.89</td>\n",
       "      <td>278.882083</td>\n",
       "      <td>282.36</td>\n",
       "    </tr>\n",
       "    <tr>\n",
       "      <th>2017-07-04</th>\n",
       "      <td>268.95</td>\n",
       "      <td>276.743333</td>\n",
       "      <td>282.58</td>\n",
       "    </tr>\n",
       "    <tr>\n",
       "      <th>2017-07-05</th>\n",
       "      <td>255.42</td>\n",
       "      <td>265.025833</td>\n",
       "      <td>271.00</td>\n",
       "    </tr>\n",
       "  </tbody>\n",
       "</table>\n",
       "</div>"
      ],
      "text/plain": [
       "             close                    \n",
       "               min        mean     max\n",
       "date                                  \n",
       "2017-07-01  257.13  265.284615  275.01\n",
       "2017-07-02  256.81  269.782500  292.54\n",
       "2017-07-03  274.89  278.882083  282.36\n",
       "2017-07-04  268.95  276.743333  282.58\n",
       "2017-07-05  255.42  265.025833  271.00"
      ]
     },
     "execution_count": 218,
     "metadata": {},
     "output_type": "execute_result"
    }
   ],
   "source": [
    "#get mean, min, max\n",
    "df.resample('D').agg(['min','mean','max']).head()"
   ]
  },
  {
   "cell_type": "markdown",
   "id": "1b946cd4",
   "metadata": {},
   "source": [
    "#### let's plot it!"
   ]
  },
  {
   "cell_type": "code",
   "execution_count": 225,
   "id": "0aba849a",
   "metadata": {},
   "outputs": [
    {
     "data": {
      "image/png": "[encoded data removed]",
      "text/plain": [
       "<Figure size 640x480 with 1 Axes>"
      ]
     },
     "metadata": {},
     "output_type": "display_data"
    }
   ],
   "source": [
    "# plt.figure(figsize=(14,10))\n",
    "\n",
    "df_daily.close.plot(label='daily')\n",
    "df_daily.resample('W').mean().close.plot(label='weekly')\n",
    "df_daily.resample('M').mean().close.plot(label='monthly')\n",
    "df_daily.resample('Y').mean().close.plot(label='yearly')\n",
    "\n",
    "plt.title('plotting close over time with various resampling techniques')\n",
    "plt.legend()\n",
    "plt.show()"
   ]
  },
  {
   "cell_type": "markdown",
   "id": "61e868b3",
   "metadata": {},
   "source": [
    "### Rolling averages"
   ]
  },
  {
   "cell_type": "markdown",
   "id": "d69492fd",
   "metadata": {},
   "source": [
    "used to smooth out short-term fluctuations in time series data and highlight long-term trends\n",
    "- use `rolling()` to calculate"
   ]
  },
  {
   "cell_type": "code",
   "execution_count": 226,
   "id": "acbee177",
   "metadata": {},
   "outputs": [
    {
     "data": {
      "text/html": [
       "<div>\n",
       "<style scoped>\n",
       "    .dataframe tbody tr th:only-of-type {\n",
       "        vertical-align: middle;\n",
       "    }\n",
       "\n",
       "    .dataframe tbody tr th {\n",
       "        vertical-align: top;\n",
       "    }\n",
       "\n",
       "    .dataframe thead th {\n",
       "        text-align: right;\n",
       "    }\n",
       "</style>\n",
       "<table border=\"1\" class=\"dataframe\">\n",
       "  <thead>\n",
       "    <tr style=\"text-align: right;\">\n",
       "      <th></th>\n",
       "      <th>close</th>\n",
       "    </tr>\n",
       "    <tr>\n",
       "      <th>date</th>\n",
       "      <th></th>\n",
       "    </tr>\n",
       "  </thead>\n",
       "  <tbody>\n",
       "    <tr>\n",
       "      <th>2017-07-01</th>\n",
       "      <td>265.284615</td>\n",
       "    </tr>\n",
       "    <tr>\n",
       "      <th>2017-07-02</th>\n",
       "      <td>269.782500</td>\n",
       "    </tr>\n",
       "    <tr>\n",
       "      <th>2017-07-03</th>\n",
       "      <td>278.882083</td>\n",
       "    </tr>\n",
       "    <tr>\n",
       "      <th>2017-07-04</th>\n",
       "      <td>276.743333</td>\n",
       "    </tr>\n",
       "    <tr>\n",
       "      <th>2017-07-05</th>\n",
       "      <td>265.025833</td>\n",
       "    </tr>\n",
       "  </tbody>\n",
       "</table>\n",
       "</div>"
      ],
      "text/plain": [
       "                 close\n",
       "date                  \n",
       "2017-07-01  265.284615\n",
       "2017-07-02  269.782500\n",
       "2017-07-03  278.882083\n",
       "2017-07-04  276.743333\n",
       "2017-07-05  265.025833"
      ]
     },
     "execution_count": 226,
     "metadata": {},
     "output_type": "execute_result"
    }
   ],
   "source": [
    "df_daily.head()"
   ]
  },
  {
   "cell_type": "code",
   "execution_count": 229,
   "id": "97548cbf",
   "metadata": {},
   "outputs": [
    {
     "data": {
      "text/html": [
       "<div>\n",
       "<style scoped>\n",
       "    .dataframe tbody tr th:only-of-type {\n",
       "        vertical-align: middle;\n",
       "    }\n",
       "\n",
       "    .dataframe tbody tr th {\n",
       "        vertical-align: top;\n",
       "    }\n",
       "\n",
       "    .dataframe thead th {\n",
       "        text-align: right;\n",
       "    }\n",
       "</style>\n",
       "<table border=\"1\" class=\"dataframe\">\n",
       "  <thead>\n",
       "    <tr style=\"text-align: right;\">\n",
       "      <th></th>\n",
       "      <th>close</th>\n",
       "    </tr>\n",
       "    <tr>\n",
       "      <th>date</th>\n",
       "      <th></th>\n",
       "    </tr>\n",
       "  </thead>\n",
       "  <tbody>\n",
       "    <tr>\n",
       "      <th>2017-07-01</th>\n",
       "      <td>NaN</td>\n",
       "    </tr>\n",
       "    <tr>\n",
       "      <th>2017-07-02</th>\n",
       "      <td>NaN</td>\n",
       "    </tr>\n",
       "    <tr>\n",
       "      <th>2017-07-03</th>\n",
       "      <td>NaN</td>\n",
       "    </tr>\n",
       "    <tr>\n",
       "      <th>2017-07-04</th>\n",
       "      <td>NaN</td>\n",
       "    </tr>\n",
       "    <tr>\n",
       "      <th>2017-07-05</th>\n",
       "      <td>271.143673</td>\n",
       "    </tr>\n",
       "    <tr>\n",
       "      <th>2017-07-06</th>\n",
       "      <td>271.382750</td>\n",
       "    </tr>\n",
       "    <tr>\n",
       "      <th>2017-07-07</th>\n",
       "      <td>268.214667</td>\n",
       "    </tr>\n",
       "    <tr>\n",
       "      <th>2017-07-08</th>\n",
       "      <td>260.747833</td>\n",
       "    </tr>\n",
       "    <tr>\n",
       "      <th>2017-07-09</th>\n",
       "      <td>254.361833</td>\n",
       "    </tr>\n",
       "    <tr>\n",
       "      <th>2017-07-10</th>\n",
       "      <td>246.440417</td>\n",
       "    </tr>\n",
       "  </tbody>\n",
       "</table>\n",
       "</div>"
      ],
      "text/plain": [
       "                 close\n",
       "date                  \n",
       "2017-07-01         NaN\n",
       "2017-07-02         NaN\n",
       "2017-07-03         NaN\n",
       "2017-07-04         NaN\n",
       "2017-07-05  271.143673\n",
       "2017-07-06  271.382750\n",
       "2017-07-07  268.214667\n",
       "2017-07-08  260.747833\n",
       "2017-07-09  254.361833\n",
       "2017-07-10  246.440417"
      ]
     },
     "execution_count": 229,
     "metadata": {},
     "output_type": "execute_result"
    }
   ],
   "source": [
    "#use the rolling function\n",
    "df_daily.rolling(5).mean().head(10)"
   ]
  },
  {
   "cell_type": "markdown",
   "id": "729f6fc8",
   "metadata": {},
   "source": [
    "> the rolling average is the previous number of units averaged together  \n",
    "> in this example, the rolling average on 2017-07-05 is the average of 2017-07-01 - 2017-07-05"
   ]
  },
  {
   "cell_type": "markdown",
   "id": "8e8e95e4",
   "metadata": {},
   "source": [
    "#### let's plot it!"
   ]
  },
  {
   "cell_type": "code",
   "execution_count": 236,
   "id": "0fb2c423",
   "metadata": {},
   "outputs": [
    {
     "data": {
      "image/png": "[encoded data removed]",
      "text/plain": [
       "<Figure size 640x480 with 1 Axes>"
      ]
     },
     "metadata": {},
     "output_type": "display_data"
    }
   ],
   "source": [
    "# plt.figure(figsize=(12,8))\n",
    "\n",
    "#original granularity\n",
    "df_daily.close.plot(label='original')\n",
    "\n",
    "#resample by week and look at 4 weeks rolling\n",
    "df_daily.resample('W').mean().rolling(4).mean().close.plot(label='4weeks')\n",
    "\n",
    "#resample by week and look at 12 weeks rolling\n",
    "df_daily.resample('W').mean().rolling(12).mean().close.plot(label='12weeks')\n",
    "\n",
    "plt.legend()\n",
    "plt.title('original vs rolling averages')\n",
    "plt.show()"
   ]
  },
  {
   "cell_type": "markdown",
   "id": "39c41b9d",
   "metadata": {},
   "source": [
    "### How about Lagging or Leading the data?\n",
    "\n",
    "* `.shift`: move the data backwards and forwards by a given amount\n",
    "* `.diff`: find the difference with the previous observation (or a specified further back observation)"
   ]
  },
  {
   "cell_type": "code",
   "execution_count": 237,
   "id": "899bc2e0",
   "metadata": {},
   "outputs": [
    {
     "data": {
      "text/html": [
       "<div>\n",
       "<style scoped>\n",
       "    .dataframe tbody tr th:only-of-type {\n",
       "        vertical-align: middle;\n",
       "    }\n",
       "\n",
       "    .dataframe tbody tr th {\n",
       "        vertical-align: top;\n",
       "    }\n",
       "\n",
       "    .dataframe thead th {\n",
       "        text-align: right;\n",
       "    }\n",
       "</style>\n",
       "<table border=\"1\" class=\"dataframe\">\n",
       "  <thead>\n",
       "    <tr style=\"text-align: right;\">\n",
       "      <th></th>\n",
       "      <th>close</th>\n",
       "    </tr>\n",
       "    <tr>\n",
       "      <th>date</th>\n",
       "      <th></th>\n",
       "    </tr>\n",
       "  </thead>\n",
       "  <tbody>\n",
       "    <tr>\n",
       "      <th>2017-07-01</th>\n",
       "      <td>265.284615</td>\n",
       "    </tr>\n",
       "    <tr>\n",
       "      <th>2017-07-02</th>\n",
       "      <td>269.782500</td>\n",
       "    </tr>\n",
       "    <tr>\n",
       "      <th>2017-07-03</th>\n",
       "      <td>278.882083</td>\n",
       "    </tr>\n",
       "    <tr>\n",
       "      <th>2017-07-04</th>\n",
       "      <td>276.743333</td>\n",
       "    </tr>\n",
       "    <tr>\n",
       "      <th>2017-07-05</th>\n",
       "      <td>265.025833</td>\n",
       "    </tr>\n",
       "  </tbody>\n",
       "</table>\n",
       "</div>"
      ],
      "text/plain": [
       "                 close\n",
       "date                  \n",
       "2017-07-01  265.284615\n",
       "2017-07-02  269.782500\n",
       "2017-07-03  278.882083\n",
       "2017-07-04  276.743333\n",
       "2017-07-05  265.025833"
      ]
     },
     "execution_count": 237,
     "metadata": {},
     "output_type": "execute_result"
    }
   ],
   "source": [
    "df_daily.head()"
   ]
  },
  {
   "cell_type": "code",
   "execution_count": 239,
   "id": "7f5ac3c7",
   "metadata": {},
   "outputs": [
    {
     "data": {
      "text/html": [
       "<div>\n",
       "<style scoped>\n",
       "    .dataframe tbody tr th:only-of-type {\n",
       "        vertical-align: middle;\n",
       "    }\n",
       "\n",
       "    .dataframe tbody tr th {\n",
       "        vertical-align: top;\n",
       "    }\n",
       "\n",
       "    .dataframe thead th {\n",
       "        text-align: right;\n",
       "    }\n",
       "</style>\n",
       "<table border=\"1\" class=\"dataframe\">\n",
       "  <thead>\n",
       "    <tr style=\"text-align: right;\">\n",
       "      <th></th>\n",
       "      <th>close</th>\n",
       "    </tr>\n",
       "    <tr>\n",
       "      <th>date</th>\n",
       "      <th></th>\n",
       "    </tr>\n",
       "  </thead>\n",
       "  <tbody>\n",
       "    <tr>\n",
       "      <th>2017-07-01</th>\n",
       "      <td>NaN</td>\n",
       "    </tr>\n",
       "    <tr>\n",
       "      <th>2017-07-02</th>\n",
       "      <td>265.284615</td>\n",
       "    </tr>\n",
       "    <tr>\n",
       "      <th>2017-07-03</th>\n",
       "      <td>269.782500</td>\n",
       "    </tr>\n",
       "    <tr>\n",
       "      <th>2017-07-04</th>\n",
       "      <td>278.882083</td>\n",
       "    </tr>\n",
       "    <tr>\n",
       "      <th>2017-07-05</th>\n",
       "      <td>276.743333</td>\n",
       "    </tr>\n",
       "  </tbody>\n",
       "</table>\n",
       "</div>"
      ],
      "text/plain": [
       "                 close\n",
       "date                  \n",
       "2017-07-01         NaN\n",
       "2017-07-02  265.284615\n",
       "2017-07-03  269.782500\n",
       "2017-07-04  278.882083\n",
       "2017-07-05  276.743333"
      ]
     },
     "execution_count": 239,
     "metadata": {},
     "output_type": "execute_result"
    }
   ],
   "source": [
    "#shift by one\n",
    "df_daily.shift(1).head()"
   ]
  },
  {
   "cell_type": "code",
   "execution_count": 241,
   "id": "28a92b98",
   "metadata": {},
   "outputs": [
    {
     "data": {
      "text/html": [
       "<div>\n",
       "<style scoped>\n",
       "    .dataframe tbody tr th:only-of-type {\n",
       "        vertical-align: middle;\n",
       "    }\n",
       "\n",
       "    .dataframe tbody tr th {\n",
       "        vertical-align: top;\n",
       "    }\n",
       "\n",
       "    .dataframe thead th {\n",
       "        text-align: right;\n",
       "    }\n",
       "</style>\n",
       "<table border=\"1\" class=\"dataframe\">\n",
       "  <thead>\n",
       "    <tr style=\"text-align: right;\">\n",
       "      <th></th>\n",
       "      <th>close</th>\n",
       "    </tr>\n",
       "    <tr>\n",
       "      <th>date</th>\n",
       "      <th></th>\n",
       "    </tr>\n",
       "  </thead>\n",
       "  <tbody>\n",
       "    <tr>\n",
       "      <th>2020-03-09</th>\n",
       "      <td>201.577500</td>\n",
       "    </tr>\n",
       "    <tr>\n",
       "      <th>2020-03-10</th>\n",
       "      <td>195.910417</td>\n",
       "    </tr>\n",
       "    <tr>\n",
       "      <th>2020-03-11</th>\n",
       "      <td>152.763333</td>\n",
       "    </tr>\n",
       "    <tr>\n",
       "      <th>2020-03-12</th>\n",
       "      <td>124.060476</td>\n",
       "    </tr>\n",
       "    <tr>\n",
       "      <th>2020-03-13</th>\n",
       "      <td>NaN</td>\n",
       "    </tr>\n",
       "  </tbody>\n",
       "</table>\n",
       "</div>"
      ],
      "text/plain": [
       "                 close\n",
       "date                  \n",
       "2020-03-09  201.577500\n",
       "2020-03-10  195.910417\n",
       "2020-03-11  152.763333\n",
       "2020-03-12  124.060476\n",
       "2020-03-13         NaN"
      ]
     },
     "execution_count": 241,
     "metadata": {},
     "output_type": "execute_result"
    }
   ],
   "source": [
    "#shift by negative 1\n",
    "df_daily.shift(-1).tail()"
   ]
  },
  {
   "cell_type": "code",
   "execution_count": 248,
   "id": "99523a9f",
   "metadata": {},
   "outputs": [
    {
     "data": {
      "text/plain": [
       "date\n",
       "2017-07-01          NaN\n",
       "2017-07-02     4.497885\n",
       "2017-07-03     9.099583\n",
       "2017-07-04    -2.138750\n",
       "2017-07-05   -11.717500\n",
       "                ...    \n",
       "2020-03-09   -21.736667\n",
       "2020-03-10     0.759167\n",
       "2020-03-11    -5.667083\n",
       "2020-03-12   -43.147083\n",
       "2020-03-13   -28.702857\n",
       "Freq: D, Name: close, Length: 987, dtype: float64"
      ]
     },
     "execution_count": 248,
     "metadata": {},
     "output_type": "execute_result"
    }
   ],
   "source": [
    "#difference by one\n",
    "df_daily.close.diff(1)"
   ]
  },
  {
   "cell_type": "code",
   "execution_count": 245,
   "id": "a8fb0240-a6ff-4268-91f7-67b48492a4a6",
   "metadata": {},
   "outputs": [
    {
     "data": {
      "text/html": [
       "<div>\n",
       "<style scoped>\n",
       "    .dataframe tbody tr th:only-of-type {\n",
       "        vertical-align: middle;\n",
       "    }\n",
       "\n",
       "    .dataframe tbody tr th {\n",
       "        vertical-align: top;\n",
       "    }\n",
       "\n",
       "    .dataframe thead th {\n",
       "        text-align: right;\n",
       "    }\n",
       "</style>\n",
       "<table border=\"1\" class=\"dataframe\">\n",
       "  <thead>\n",
       "    <tr style=\"text-align: right;\">\n",
       "      <th></th>\n",
       "      <th>close</th>\n",
       "    </tr>\n",
       "    <tr>\n",
       "      <th>date</th>\n",
       "      <th></th>\n",
       "    </tr>\n",
       "  </thead>\n",
       "  <tbody>\n",
       "    <tr>\n",
       "      <th>2017-07-01</th>\n",
       "      <td>265.284615</td>\n",
       "    </tr>\n",
       "    <tr>\n",
       "      <th>2017-07-02</th>\n",
       "      <td>269.782500</td>\n",
       "    </tr>\n",
       "    <tr>\n",
       "      <th>2017-07-03</th>\n",
       "      <td>278.882083</td>\n",
       "    </tr>\n",
       "    <tr>\n",
       "      <th>2017-07-04</th>\n",
       "      <td>276.743333</td>\n",
       "    </tr>\n",
       "    <tr>\n",
       "      <th>2017-07-05</th>\n",
       "      <td>265.025833</td>\n",
       "    </tr>\n",
       "  </tbody>\n",
       "</table>\n",
       "</div>"
      ],
      "text/plain": [
       "                 close\n",
       "date                  \n",
       "2017-07-01  265.284615\n",
       "2017-07-02  269.782500\n",
       "2017-07-03  278.882083\n",
       "2017-07-04  276.743333\n",
       "2017-07-05  265.025833"
      ]
     },
     "execution_count": 245,
     "metadata": {},
     "output_type": "execute_result"
    }
   ],
   "source": [
    "df_daily.head()"
   ]
  },
  {
   "cell_type": "code",
   "execution_count": 246,
   "id": "fc0b6a08",
   "metadata": {},
   "outputs": [
    {
     "data": {
      "text/plain": [
       "4.497885000000053"
      ]
     },
     "execution_count": 246,
     "metadata": {},
     "output_type": "execute_result"
    }
   ],
   "source": [
    "269.782500 - 265.284615"
   ]
  },
  {
   "cell_type": "markdown",
   "id": "679196ed",
   "metadata": {},
   "source": [
    "# Recap"
   ]
  },
  {
   "cell_type": "markdown",
   "id": "03407e4f",
   "metadata": {},
   "source": [
    "- use `datetime.datetime` module\n",
    "- to cast as a date\n",
    "    - `.astype('datetime64')`\n",
    "    - `pd.to_datetime()`\n",
    "        - can use `format` argument for funky dates\n",
    "- strftime notation\n",
    "    - https://docs.python.org/3/library/datetime.html#strftime-and-strptime-behavior\n",
    "- attritubes and methods\n",
    "    - https://pandas.pydata.org/docs/reference/api/pandas.DatetimeIndex.html\n",
    "- to make pandas time aware\n",
    "    1. Convert 'date' column to datetime object\n",
    "    2. Set the datetime column as index\n",
    "    3. Sort the datetime index\n",
    "- sampling methods\n",
    "    - downsampling/ upsampling\n",
    "        - `.asfreq()` \n",
    "        - fill nulls\n",
    "            - `.ffill`/`.bfill`\n",
    "    - resampling\n",
    "        - `.resample()`\n",
    "    - rolling average\n",
    "        - `.rolling()`\n",
    "        \n",
    "    "
   ]
  },
  {
   "cell_type": "code",
   "execution_count": null,
   "id": "f22cfdc0",
   "metadata": {},
   "outputs": [],
   "source": []
  }
 ],
 "metadata": {
  "kernelspec": {
   "display_name": "Python 3 (ipykernel)",
   "language": "python",
   "name": "python3"
  },
  "language_info": {
   "codemirror_mode": {
    "name": "ipython",
    "version": 3
   },
   "file_extension": ".py",
   "mimetype": "text/x-python",
   "name": "python",
   "nbconvert_exporter": "python",
   "pygments_lexer": "ipython3",
   "version": "3.9.12"
  },
  "toc": {
   "base_numbering": 1,
   "nav_menu": {},
   "number_sections": false,
   "sideBar": true,
   "skip_h1_title": true,
   "title_cell": "Table of Contents",
   "title_sidebar": "Contents",
   "toc_cell": false,
   "toc_position": {},
   "toc_section_display": true,
   "toc_window_display": false
  }
 },
 "nbformat": 4,
 "nbformat_minor": 5
}
